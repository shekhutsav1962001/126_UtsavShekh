{
  "nbformat": 4,
  "nbformat_minor": 5,
  "metadata": {
    "kernelspec": {
      "display_name": "Python 3",
      "language": "python",
      "name": "python3"
    },
    "language_info": {
      "codemirror_mode": {
        "name": "ipython",
        "version": 3
      },
      "file_extension": ".py",
      "mimetype": "text/x-python",
      "name": "python",
      "nbconvert_exporter": "python",
      "pygments_lexer": "ipython3",
      "version": "3.8.8"
    },
    "colab": {
      "name": "126new.ipynb",
      "provenance": [],
      "collapsed_sections": []
    }
  },
  "cells": [
    {
      "cell_type": "code",
      "metadata": {
        "id": "stopped-minute"
      },
      "source": [
        "import pandas as pd\n",
        "import numpy as np\n",
        "import matplotlib.pyplot as plt\n",
        "import seaborn as sns\n",
        "from sklearn.impute import SimpleImputer\n",
        "from sklearn.preprocessing import LabelEncoder"
      ],
      "id": "stopped-minute",
      "execution_count": 5,
      "outputs": []
    },
    {
      "cell_type": "code",
      "metadata": {
        "colab": {
          "base_uri": "https://localhost:8080/",
          "height": 511
        },
        "id": "drawn-behavior",
        "outputId": "bef3fcdf-8718-46a0-d81a-733109e1e5af"
      },
      "source": [
        "temp_dataset = pd.read_csv(\"Exercise-CarData.csv\")\n",
        "temp_dataset[temp_dataset['KM'] == '??']"
      ],
      "id": "drawn-behavior",
      "execution_count": 6,
      "outputs": [
        {
          "output_type": "execute_result",
          "data": {
            "text/html": [
              "<div>\n",
              "<style scoped>\n",
              "    .dataframe tbody tr th:only-of-type {\n",
              "        vertical-align: middle;\n",
              "    }\n",
              "\n",
              "    .dataframe tbody tr th {\n",
              "        vertical-align: top;\n",
              "    }\n",
              "\n",
              "    .dataframe thead th {\n",
              "        text-align: right;\n",
              "    }\n",
              "</style>\n",
              "<table border=\"1\" class=\"dataframe\">\n",
              "  <thead>\n",
              "    <tr style=\"text-align: right;\">\n",
              "      <th></th>\n",
              "      <th>Unnamed: 0</th>\n",
              "      <th>Price</th>\n",
              "      <th>Age</th>\n",
              "      <th>KM</th>\n",
              "      <th>FuelType</th>\n",
              "      <th>HP</th>\n",
              "      <th>MetColor</th>\n",
              "      <th>Automatic</th>\n",
              "      <th>CC</th>\n",
              "      <th>Doors</th>\n",
              "      <th>Weight</th>\n",
              "    </tr>\n",
              "  </thead>\n",
              "  <tbody>\n",
              "    <tr>\n",
              "      <th>6</th>\n",
              "      <td>6</td>\n",
              "      <td>16900</td>\n",
              "      <td>27.0</td>\n",
              "      <td>??</td>\n",
              "      <td>Diesel</td>\n",
              "      <td>????</td>\n",
              "      <td>NaN</td>\n",
              "      <td>0</td>\n",
              "      <td>2000</td>\n",
              "      <td>3</td>\n",
              "      <td>1245</td>\n",
              "    </tr>\n",
              "    <tr>\n",
              "      <th>64</th>\n",
              "      <td>64</td>\n",
              "      <td>17950</td>\n",
              "      <td>27.0</td>\n",
              "      <td>??</td>\n",
              "      <td>Petrol</td>\n",
              "      <td>97</td>\n",
              "      <td>1.0</td>\n",
              "      <td>0</td>\n",
              "      <td>1400</td>\n",
              "      <td>5</td>\n",
              "      <td>1110</td>\n",
              "    </tr>\n",
              "    <tr>\n",
              "      <th>91</th>\n",
              "      <td>91</td>\n",
              "      <td>22250</td>\n",
              "      <td>20.0</td>\n",
              "      <td>??</td>\n",
              "      <td>Diesel</td>\n",
              "      <td>90</td>\n",
              "      <td>1.0</td>\n",
              "      <td>0</td>\n",
              "      <td>2000</td>\n",
              "      <td>3</td>\n",
              "      <td>1260</td>\n",
              "    </tr>\n",
              "    <tr>\n",
              "      <th>112</th>\n",
              "      <td>112</td>\n",
              "      <td>24950</td>\n",
              "      <td>8.0</td>\n",
              "      <td>??</td>\n",
              "      <td>Diesel</td>\n",
              "      <td>116</td>\n",
              "      <td>1.0</td>\n",
              "      <td>0</td>\n",
              "      <td>2000</td>\n",
              "      <td>5</td>\n",
              "      <td>1320</td>\n",
              "    </tr>\n",
              "    <tr>\n",
              "      <th>125</th>\n",
              "      <td>125</td>\n",
              "      <td>21750</td>\n",
              "      <td>16.0</td>\n",
              "      <td>??</td>\n",
              "      <td>Petrol</td>\n",
              "      <td>110</td>\n",
              "      <td>1.0</td>\n",
              "      <td>0</td>\n",
              "      <td>1600</td>\n",
              "      <td>5</td>\n",
              "      <td>1130</td>\n",
              "    </tr>\n",
              "    <tr>\n",
              "      <th>131</th>\n",
              "      <td>131</td>\n",
              "      <td>15950</td>\n",
              "      <td>20.0</td>\n",
              "      <td>??</td>\n",
              "      <td>Petrol</td>\n",
              "      <td>97</td>\n",
              "      <td>1.0</td>\n",
              "      <td>0</td>\n",
              "      <td>1400</td>\n",
              "      <td>5</td>\n",
              "      <td>1110</td>\n",
              "    </tr>\n",
              "    <tr>\n",
              "      <th>398</th>\n",
              "      <td>398</td>\n",
              "      <td>10500</td>\n",
              "      <td>55.0</td>\n",
              "      <td>??</td>\n",
              "      <td>Petrol</td>\n",
              "      <td>110</td>\n",
              "      <td>1.0</td>\n",
              "      <td>0</td>\n",
              "      <td>1600</td>\n",
              "      <td>4</td>\n",
              "      <td>1035</td>\n",
              "    </tr>\n",
              "    <tr>\n",
              "      <th>491</th>\n",
              "      <td>491</td>\n",
              "      <td>10750</td>\n",
              "      <td>54.0</td>\n",
              "      <td>??</td>\n",
              "      <td>Petrol</td>\n",
              "      <td>110</td>\n",
              "      <td>1.0</td>\n",
              "      <td>0</td>\n",
              "      <td>1600</td>\n",
              "      <td>5</td>\n",
              "      <td>1075</td>\n",
              "    </tr>\n",
              "    <tr>\n",
              "      <th>1049</th>\n",
              "      <td>1049</td>\n",
              "      <td>6750</td>\n",
              "      <td>77.0</td>\n",
              "      <td>??</td>\n",
              "      <td>Diesel</td>\n",
              "      <td>72</td>\n",
              "      <td>1.0</td>\n",
              "      <td>0</td>\n",
              "      <td>2000</td>\n",
              "      <td>4</td>\n",
              "      <td>1100</td>\n",
              "    </tr>\n",
              "    <tr>\n",
              "      <th>1120</th>\n",
              "      <td>1120</td>\n",
              "      <td>7350</td>\n",
              "      <td>72.0</td>\n",
              "      <td>??</td>\n",
              "      <td>Petrol</td>\n",
              "      <td>86</td>\n",
              "      <td>1.0</td>\n",
              "      <td>0</td>\n",
              "      <td>1300</td>\n",
              "      <td>3</td>\n",
              "      <td>1015</td>\n",
              "    </tr>\n",
              "    <tr>\n",
              "      <th>1421</th>\n",
              "      <td>1421</td>\n",
              "      <td>8500</td>\n",
              "      <td>78.0</td>\n",
              "      <td>??</td>\n",
              "      <td>Petrol</td>\n",
              "      <td>86</td>\n",
              "      <td>0.0</td>\n",
              "      <td>1</td>\n",
              "      <td>1300</td>\n",
              "      <td>3</td>\n",
              "      <td>1045</td>\n",
              "    </tr>\n",
              "    <tr>\n",
              "      <th>1425</th>\n",
              "      <td>1425</td>\n",
              "      <td>7950</td>\n",
              "      <td>80.0</td>\n",
              "      <td>??</td>\n",
              "      <td>Petrol</td>\n",
              "      <td>86</td>\n",
              "      <td>1.0</td>\n",
              "      <td>0</td>\n",
              "      <td>1300</td>\n",
              "      <td>4</td>\n",
              "      <td>1000</td>\n",
              "    </tr>\n",
              "    <tr>\n",
              "      <th>1428</th>\n",
              "      <td>1428</td>\n",
              "      <td>8450</td>\n",
              "      <td>72.0</td>\n",
              "      <td>??</td>\n",
              "      <td>Petrol</td>\n",
              "      <td>86</td>\n",
              "      <td>NaN</td>\n",
              "      <td>0</td>\n",
              "      <td>1300</td>\n",
              "      <td>3</td>\n",
              "      <td>1015</td>\n",
              "    </tr>\n",
              "    <tr>\n",
              "      <th>1432</th>\n",
              "      <td>1432</td>\n",
              "      <td>10845</td>\n",
              "      <td>72.0</td>\n",
              "      <td>??</td>\n",
              "      <td>Petrol</td>\n",
              "      <td>86</td>\n",
              "      <td>0.0</td>\n",
              "      <td>0</td>\n",
              "      <td>1300</td>\n",
              "      <td>3</td>\n",
              "      <td>1015</td>\n",
              "    </tr>\n",
              "    <tr>\n",
              "      <th>1434</th>\n",
              "      <td>1434</td>\n",
              "      <td>7250</td>\n",
              "      <td>70.0</td>\n",
              "      <td>??</td>\n",
              "      <td>NaN</td>\n",
              "      <td>86</td>\n",
              "      <td>1.0</td>\n",
              "      <td>0</td>\n",
              "      <td>1300</td>\n",
              "      <td>3</td>\n",
              "      <td>1015</td>\n",
              "    </tr>\n",
              "  </tbody>\n",
              "</table>\n",
              "</div>"
            ],
            "text/plain": [
              "      Unnamed: 0  Price   Age  KM  ... Automatic    CC  Doors  Weight\n",
              "6              6  16900  27.0  ??  ...         0  2000      3    1245\n",
              "64            64  17950  27.0  ??  ...         0  1400      5    1110\n",
              "91            91  22250  20.0  ??  ...         0  2000      3    1260\n",
              "112          112  24950   8.0  ??  ...         0  2000      5    1320\n",
              "125          125  21750  16.0  ??  ...         0  1600      5    1130\n",
              "131          131  15950  20.0  ??  ...         0  1400      5    1110\n",
              "398          398  10500  55.0  ??  ...         0  1600      4    1035\n",
              "491          491  10750  54.0  ??  ...         0  1600      5    1075\n",
              "1049        1049   6750  77.0  ??  ...         0  2000      4    1100\n",
              "1120        1120   7350  72.0  ??  ...         0  1300      3    1015\n",
              "1421        1421   8500  78.0  ??  ...         1  1300      3    1045\n",
              "1425        1425   7950  80.0  ??  ...         0  1300      4    1000\n",
              "1428        1428   8450  72.0  ??  ...         0  1300      3    1015\n",
              "1432        1432  10845  72.0  ??  ...         0  1300      3    1015\n",
              "1434        1434   7250  70.0  ??  ...         0  1300      3    1015\n",
              "\n",
              "[15 rows x 11 columns]"
            ]
          },
          "metadata": {
            "tags": []
          },
          "execution_count": 6
        }
      ]
    },
    {
      "cell_type": "code",
      "metadata": {
        "colab": {
          "base_uri": "https://localhost:8080/",
          "height": 234
        },
        "id": "configured-segment",
        "outputId": "7c0842ed-db7c-47f3-b4f0-c0664b159491"
      },
      "source": [
        "temp_dataset[temp_dataset['HP'] == '????']"
      ],
      "id": "configured-segment",
      "execution_count": 7,
      "outputs": [
        {
          "output_type": "execute_result",
          "data": {
            "text/html": [
              "<div>\n",
              "<style scoped>\n",
              "    .dataframe tbody tr th:only-of-type {\n",
              "        vertical-align: middle;\n",
              "    }\n",
              "\n",
              "    .dataframe tbody tr th {\n",
              "        vertical-align: top;\n",
              "    }\n",
              "\n",
              "    .dataframe thead th {\n",
              "        text-align: right;\n",
              "    }\n",
              "</style>\n",
              "<table border=\"1\" class=\"dataframe\">\n",
              "  <thead>\n",
              "    <tr style=\"text-align: right;\">\n",
              "      <th></th>\n",
              "      <th>Unnamed: 0</th>\n",
              "      <th>Price</th>\n",
              "      <th>Age</th>\n",
              "      <th>KM</th>\n",
              "      <th>FuelType</th>\n",
              "      <th>HP</th>\n",
              "      <th>MetColor</th>\n",
              "      <th>Automatic</th>\n",
              "      <th>CC</th>\n",
              "      <th>Doors</th>\n",
              "      <th>Weight</th>\n",
              "    </tr>\n",
              "  </thead>\n",
              "  <tbody>\n",
              "    <tr>\n",
              "      <th>6</th>\n",
              "      <td>6</td>\n",
              "      <td>16900</td>\n",
              "      <td>27.0</td>\n",
              "      <td>??</td>\n",
              "      <td>Diesel</td>\n",
              "      <td>????</td>\n",
              "      <td>NaN</td>\n",
              "      <td>0</td>\n",
              "      <td>2000</td>\n",
              "      <td>3</td>\n",
              "      <td>1245</td>\n",
              "    </tr>\n",
              "    <tr>\n",
              "      <th>9</th>\n",
              "      <td>9</td>\n",
              "      <td>12950</td>\n",
              "      <td>23.0</td>\n",
              "      <td>71138</td>\n",
              "      <td>Diesel</td>\n",
              "      <td>????</td>\n",
              "      <td>NaN</td>\n",
              "      <td>0</td>\n",
              "      <td>1900</td>\n",
              "      <td>3</td>\n",
              "      <td>1105</td>\n",
              "    </tr>\n",
              "    <tr>\n",
              "      <th>15</th>\n",
              "      <td>15</td>\n",
              "      <td>22000</td>\n",
              "      <td>28.0</td>\n",
              "      <td>18739</td>\n",
              "      <td>Petrol</td>\n",
              "      <td>????</td>\n",
              "      <td>0.0</td>\n",
              "      <td>0</td>\n",
              "      <td>1800</td>\n",
              "      <td>3</td>\n",
              "      <td>1185</td>\n",
              "    </tr>\n",
              "    <tr>\n",
              "      <th>631</th>\n",
              "      <td>631</td>\n",
              "      <td>8950</td>\n",
              "      <td>67.0</td>\n",
              "      <td>127000</td>\n",
              "      <td>Diesel</td>\n",
              "      <td>????</td>\n",
              "      <td>1.0</td>\n",
              "      <td>0</td>\n",
              "      <td>2000</td>\n",
              "      <td>5</td>\n",
              "      <td>1135</td>\n",
              "    </tr>\n",
              "    <tr>\n",
              "      <th>638</th>\n",
              "      <td>638</td>\n",
              "      <td>10450</td>\n",
              "      <td>64.0</td>\n",
              "      <td>120400</td>\n",
              "      <td>NaN</td>\n",
              "      <td>????</td>\n",
              "      <td>0.0</td>\n",
              "      <td>0</td>\n",
              "      <td>1600</td>\n",
              "      <td>5</td>\n",
              "      <td>1090</td>\n",
              "    </tr>\n",
              "    <tr>\n",
              "      <th>1245</th>\n",
              "      <td>1245</td>\n",
              "      <td>7990</td>\n",
              "      <td>77.0</td>\n",
              "      <td>80486</td>\n",
              "      <td>Petrol</td>\n",
              "      <td>????</td>\n",
              "      <td>1.0</td>\n",
              "      <td>0</td>\n",
              "      <td>1600</td>\n",
              "      <td>5</td>\n",
              "      <td>1070</td>\n",
              "    </tr>\n",
              "  </tbody>\n",
              "</table>\n",
              "</div>"
            ],
            "text/plain": [
              "      Unnamed: 0  Price   Age      KM  ... Automatic    CC  Doors  Weight\n",
              "6              6  16900  27.0      ??  ...         0  2000      3    1245\n",
              "9              9  12950  23.0   71138  ...         0  1900      3    1105\n",
              "15            15  22000  28.0   18739  ...         0  1800      3    1185\n",
              "631          631   8950  67.0  127000  ...         0  2000      5    1135\n",
              "638          638  10450  64.0  120400  ...         0  1600      5    1090\n",
              "1245        1245   7990  77.0   80486  ...         0  1600      5    1070\n",
              "\n",
              "[6 rows x 11 columns]"
            ]
          },
          "metadata": {
            "tags": []
          },
          "execution_count": 7
        }
      ]
    },
    {
      "cell_type": "markdown",
      "metadata": {
        "id": "diagnostic-breakfast"
      },
      "source": [
        "**Observation**\n",
        "- As we can see few dataframe contains inappropriate data which needs to be handled while preprocessing.\n",
        "- The best way is to replace all such values by NaN.\n",
        "- So, we will use na_values attritube in pd.read()"
      ],
      "id": "diagnostic-breakfast"
    },
    {
      "cell_type": "code",
      "metadata": {
        "colab": {
          "base_uri": "https://localhost:8080/",
          "height": 220
        },
        "id": "taken-gnome",
        "outputId": "b0775ecd-553d-4b29-8437-9ff66d3e2365"
      },
      "source": [
        "dataset = pd.read_csv(\"Exercise-CarData.csv\", na_values = ['??', '????']) \n",
        "print(\"Number of rows and cokumns:\", dataset.shape)\n",
        "dataset.head()"
      ],
      "id": "taken-gnome",
      "execution_count": 8,
      "outputs": [
        {
          "output_type": "stream",
          "text": [
            "Number of rows and cokumns: (1436, 11)\n"
          ],
          "name": "stdout"
        },
        {
          "output_type": "execute_result",
          "data": {
            "text/html": [
              "<div>\n",
              "<style scoped>\n",
              "    .dataframe tbody tr th:only-of-type {\n",
              "        vertical-align: middle;\n",
              "    }\n",
              "\n",
              "    .dataframe tbody tr th {\n",
              "        vertical-align: top;\n",
              "    }\n",
              "\n",
              "    .dataframe thead th {\n",
              "        text-align: right;\n",
              "    }\n",
              "</style>\n",
              "<table border=\"1\" class=\"dataframe\">\n",
              "  <thead>\n",
              "    <tr style=\"text-align: right;\">\n",
              "      <th></th>\n",
              "      <th>Unnamed: 0</th>\n",
              "      <th>Price</th>\n",
              "      <th>Age</th>\n",
              "      <th>KM</th>\n",
              "      <th>FuelType</th>\n",
              "      <th>HP</th>\n",
              "      <th>MetColor</th>\n",
              "      <th>Automatic</th>\n",
              "      <th>CC</th>\n",
              "      <th>Doors</th>\n",
              "      <th>Weight</th>\n",
              "    </tr>\n",
              "  </thead>\n",
              "  <tbody>\n",
              "    <tr>\n",
              "      <th>0</th>\n",
              "      <td>0</td>\n",
              "      <td>13500</td>\n",
              "      <td>23.0</td>\n",
              "      <td>46986.0</td>\n",
              "      <td>Diesel</td>\n",
              "      <td>90.0</td>\n",
              "      <td>1.0</td>\n",
              "      <td>0</td>\n",
              "      <td>2000</td>\n",
              "      <td>three</td>\n",
              "      <td>1165</td>\n",
              "    </tr>\n",
              "    <tr>\n",
              "      <th>1</th>\n",
              "      <td>1</td>\n",
              "      <td>13750</td>\n",
              "      <td>23.0</td>\n",
              "      <td>72937.0</td>\n",
              "      <td>Diesel</td>\n",
              "      <td>90.0</td>\n",
              "      <td>1.0</td>\n",
              "      <td>0</td>\n",
              "      <td>2000</td>\n",
              "      <td>3</td>\n",
              "      <td>1165</td>\n",
              "    </tr>\n",
              "    <tr>\n",
              "      <th>2</th>\n",
              "      <td>2</td>\n",
              "      <td>13950</td>\n",
              "      <td>24.0</td>\n",
              "      <td>41711.0</td>\n",
              "      <td>Diesel</td>\n",
              "      <td>90.0</td>\n",
              "      <td>NaN</td>\n",
              "      <td>0</td>\n",
              "      <td>2000</td>\n",
              "      <td>3</td>\n",
              "      <td>1165</td>\n",
              "    </tr>\n",
              "    <tr>\n",
              "      <th>3</th>\n",
              "      <td>3</td>\n",
              "      <td>14950</td>\n",
              "      <td>26.0</td>\n",
              "      <td>48000.0</td>\n",
              "      <td>Diesel</td>\n",
              "      <td>90.0</td>\n",
              "      <td>0.0</td>\n",
              "      <td>0</td>\n",
              "      <td>2000</td>\n",
              "      <td>3</td>\n",
              "      <td>1165</td>\n",
              "    </tr>\n",
              "    <tr>\n",
              "      <th>4</th>\n",
              "      <td>4</td>\n",
              "      <td>13750</td>\n",
              "      <td>30.0</td>\n",
              "      <td>38500.0</td>\n",
              "      <td>Diesel</td>\n",
              "      <td>90.0</td>\n",
              "      <td>0.0</td>\n",
              "      <td>0</td>\n",
              "      <td>2000</td>\n",
              "      <td>3</td>\n",
              "      <td>1170</td>\n",
              "    </tr>\n",
              "  </tbody>\n",
              "</table>\n",
              "</div>"
            ],
            "text/plain": [
              "   Unnamed: 0  Price   Age       KM  ... Automatic    CC  Doors  Weight\n",
              "0           0  13500  23.0  46986.0  ...         0  2000  three    1165\n",
              "1           1  13750  23.0  72937.0  ...         0  2000      3    1165\n",
              "2           2  13950  24.0  41711.0  ...         0  2000      3    1165\n",
              "3           3  14950  26.0  48000.0  ...         0  2000      3    1165\n",
              "4           4  13750  30.0  38500.0  ...         0  2000      3    1170\n",
              "\n",
              "[5 rows x 11 columns]"
            ]
          },
          "metadata": {
            "tags": []
          },
          "execution_count": 8
        }
      ]
    },
    {
      "cell_type": "code",
      "metadata": {
        "colab": {
          "base_uri": "https://localhost:8080/"
        },
        "id": "lightweight-package",
        "outputId": "b7ffd7b3-ef36-4af8-f4eb-c1615f8f453a"
      },
      "source": [
        "dataset.columns.tolist()"
      ],
      "id": "lightweight-package",
      "execution_count": 9,
      "outputs": [
        {
          "output_type": "execute_result",
          "data": {
            "text/plain": [
              "['Unnamed: 0',\n",
              " 'Price',\n",
              " 'Age',\n",
              " 'KM',\n",
              " 'FuelType',\n",
              " 'HP',\n",
              " 'MetColor',\n",
              " 'Automatic',\n",
              " 'CC',\n",
              " 'Doors',\n",
              " 'Weight']"
            ]
          },
          "metadata": {
            "tags": []
          },
          "execution_count": 9
        }
      ]
    },
    {
      "cell_type": "code",
      "metadata": {
        "colab": {
          "base_uri": "https://localhost:8080/"
        },
        "id": "upset-subsection",
        "outputId": "26aa5316-f186-4216-a29b-af1f85c4b2f5"
      },
      "source": [
        "dataset.info()"
      ],
      "id": "upset-subsection",
      "execution_count": 10,
      "outputs": [
        {
          "output_type": "stream",
          "text": [
            "<class 'pandas.core.frame.DataFrame'>\n",
            "RangeIndex: 1436 entries, 0 to 1435\n",
            "Data columns (total 11 columns):\n",
            " #   Column      Non-Null Count  Dtype  \n",
            "---  ------      --------------  -----  \n",
            " 0   Unnamed: 0  1436 non-null   int64  \n",
            " 1   Price       1436 non-null   int64  \n",
            " 2   Age         1336 non-null   float64\n",
            " 3   KM          1421 non-null   float64\n",
            " 4   FuelType    1336 non-null   object \n",
            " 5   HP          1430 non-null   float64\n",
            " 6   MetColor    1286 non-null   float64\n",
            " 7   Automatic   1436 non-null   int64  \n",
            " 8   CC          1436 non-null   int64  \n",
            " 9   Doors       1436 non-null   object \n",
            " 10  Weight      1436 non-null   int64  \n",
            "dtypes: float64(4), int64(5), object(2)\n",
            "memory usage: 123.5+ KB\n"
          ],
          "name": "stdout"
        }
      ]
    },
    {
      "cell_type": "markdown",
      "metadata": {
        "id": "eligible-leeds"
      },
      "source": [
        "**Observation:**\n",
        "- Unnamed: 0 column is just the index number. So, we can drop this column in future.\n",
        "- Apart from this, Doors feature should be of type int64 but it is object. Thus, we need to observe it more carefully and handle it properly while preprocessing."
      ],
      "id": "eligible-leeds"
    },
    {
      "cell_type": "code",
      "metadata": {
        "id": "varying-things"
      },
      "source": [
        "dataset.drop('Unnamed: 0',axis = 1, inplace = True)"
      ],
      "id": "varying-things",
      "execution_count": 11,
      "outputs": []
    },
    {
      "cell_type": "code",
      "metadata": {
        "colab": {
          "base_uri": "https://localhost:8080/"
        },
        "id": "sweet-beast",
        "outputId": "9ec27d87-255e-4dfa-de4b-c7525bcd030b"
      },
      "source": [
        "dataset.isnull().sum()"
      ],
      "id": "sweet-beast",
      "execution_count": 12,
      "outputs": [
        {
          "output_type": "execute_result",
          "data": {
            "text/plain": [
              "Price          0\n",
              "Age          100\n",
              "KM            15\n",
              "FuelType     100\n",
              "HP             6\n",
              "MetColor     150\n",
              "Automatic      0\n",
              "CC             0\n",
              "Doors          0\n",
              "Weight         0\n",
              "dtype: int64"
            ]
          },
          "metadata": {
            "tags": []
          },
          "execution_count": 12
        }
      ]
    },
    {
      "cell_type": "markdown",
      "metadata": {
        "id": "successful-treasurer"
      },
      "source": [
        "**Observations:**\n",
        "- Age has 100 NaN values\n",
        "- FuelType 100 NaN\n",
        "- MetColor 150 NaN\n",
        "- Further, the 15 values in KM were '??' before now it is NaN because of na_values.\n",
        "- Same with 6 NaN values in HP"
      ],
      "id": "successful-treasurer"
    },
    {
      "cell_type": "code",
      "metadata": {
        "colab": {
          "base_uri": "https://localhost:8080/"
        },
        "id": "reverse-reaction",
        "outputId": "9657a92f-c195-4b90-ed50-55f89eff983f"
      },
      "source": [
        "dataset['Doors'].unique()"
      ],
      "id": "reverse-reaction",
      "execution_count": 13,
      "outputs": [
        {
          "output_type": "execute_result",
          "data": {
            "text/plain": [
              "array(['three', '3', '5', '4', 'four', 'five', '2'], dtype=object)"
            ]
          },
          "metadata": {
            "tags": []
          },
          "execution_count": 13
        }
      ]
    },
    {
      "cell_type": "markdown",
      "metadata": {
        "id": "protected-chaos"
      },
      "source": [
        "*Let's change the string values with it's appropriate number and converting datatype to int64.*"
      ],
      "id": "protected-chaos"
    },
    {
      "cell_type": "code",
      "metadata": {
        "colab": {
          "base_uri": "https://localhost:8080/"
        },
        "id": "royal-engineer",
        "outputId": "73bd9a3e-f1cc-43a2-894d-731b9380bbfd"
      },
      "source": [
        "dataset['Doors'] = dataset['Doors'].map({'three':3, '3':3, '5':5, '4':4, '2':2, 'four':4, 'five':5})\n",
        "dataset['Doors'].unique()"
      ],
      "id": "royal-engineer",
      "execution_count": 14,
      "outputs": [
        {
          "output_type": "execute_result",
          "data": {
            "text/plain": [
              "array([3, 5, 4, 2])"
            ]
          },
          "metadata": {
            "tags": []
          },
          "execution_count": 14
        }
      ]
    },
    {
      "cell_type": "code",
      "metadata": {
        "colab": {
          "base_uri": "https://localhost:8080/"
        },
        "id": "empirical-longer",
        "outputId": "dc422c0b-73cb-4b7a-c35f-e43b7b73760c"
      },
      "source": [
        "dataset.info()"
      ],
      "id": "empirical-longer",
      "execution_count": 15,
      "outputs": [
        {
          "output_type": "stream",
          "text": [
            "<class 'pandas.core.frame.DataFrame'>\n",
            "RangeIndex: 1436 entries, 0 to 1435\n",
            "Data columns (total 10 columns):\n",
            " #   Column     Non-Null Count  Dtype  \n",
            "---  ------     --------------  -----  \n",
            " 0   Price      1436 non-null   int64  \n",
            " 1   Age        1336 non-null   float64\n",
            " 2   KM         1421 non-null   float64\n",
            " 3   FuelType   1336 non-null   object \n",
            " 4   HP         1430 non-null   float64\n",
            " 5   MetColor   1286 non-null   float64\n",
            " 6   Automatic  1436 non-null   int64  \n",
            " 7   CC         1436 non-null   int64  \n",
            " 8   Doors      1436 non-null   int64  \n",
            " 9   Weight     1436 non-null   int64  \n",
            "dtypes: float64(4), int64(5), object(1)\n",
            "memory usage: 112.3+ KB\n"
          ],
          "name": "stdout"
        }
      ]
    },
    {
      "cell_type": "markdown",
      "metadata": {
        "id": "professional-duration"
      },
      "source": [
        "**Now, things look better than before**"
      ],
      "id": "professional-duration"
    },
    {
      "cell_type": "markdown",
      "metadata": {
        "id": "alien-paper"
      },
      "source": [
        "### Handling null (missing) values"
      ],
      "id": "alien-paper"
    },
    {
      "cell_type": "code",
      "metadata": {
        "colab": {
          "base_uri": "https://localhost:8080/"
        },
        "id": "wound-pioneer",
        "outputId": "d6f170cd-485f-4101-874f-6a6f0734ad29"
      },
      "source": [
        "# droping rows with all null values\n",
        "\n",
        "dataset.dropna(how = \"all\", inplace = True)\n",
        "print(\"Number of rows and cokumns:\", dataset.shape)"
      ],
      "id": "wound-pioneer",
      "execution_count": 16,
      "outputs": [
        {
          "output_type": "stream",
          "text": [
            "Number of rows and cokumns: (1436, 10)\n"
          ],
          "name": "stdout"
        }
      ]
    },
    {
      "cell_type": "markdown",
      "metadata": {
        "id": "introductory-guess"
      },
      "source": [
        "*So, no rows had all null values*"
      ],
      "id": "introductory-guess"
    },
    {
      "cell_type": "code",
      "metadata": {
        "colab": {
          "base_uri": "https://localhost:8080/",
          "height": 295
        },
        "id": "ignored-philip",
        "outputId": "4550f3cb-5298-47e5-bf6c-fcf486327fb4"
      },
      "source": [
        "dataset.describe()"
      ],
      "id": "ignored-philip",
      "execution_count": 17,
      "outputs": [
        {
          "output_type": "execute_result",
          "data": {
            "text/html": [
              "<div>\n",
              "<style scoped>\n",
              "    .dataframe tbody tr th:only-of-type {\n",
              "        vertical-align: middle;\n",
              "    }\n",
              "\n",
              "    .dataframe tbody tr th {\n",
              "        vertical-align: top;\n",
              "    }\n",
              "\n",
              "    .dataframe thead th {\n",
              "        text-align: right;\n",
              "    }\n",
              "</style>\n",
              "<table border=\"1\" class=\"dataframe\">\n",
              "  <thead>\n",
              "    <tr style=\"text-align: right;\">\n",
              "      <th></th>\n",
              "      <th>Price</th>\n",
              "      <th>Age</th>\n",
              "      <th>KM</th>\n",
              "      <th>HP</th>\n",
              "      <th>MetColor</th>\n",
              "      <th>Automatic</th>\n",
              "      <th>CC</th>\n",
              "      <th>Doors</th>\n",
              "      <th>Weight</th>\n",
              "    </tr>\n",
              "  </thead>\n",
              "  <tbody>\n",
              "    <tr>\n",
              "      <th>count</th>\n",
              "      <td>1436.000000</td>\n",
              "      <td>1336.000000</td>\n",
              "      <td>1421.000000</td>\n",
              "      <td>1430.000000</td>\n",
              "      <td>1286.000000</td>\n",
              "      <td>1436.000000</td>\n",
              "      <td>1436.000000</td>\n",
              "      <td>1436.000000</td>\n",
              "      <td>1436.00000</td>\n",
              "    </tr>\n",
              "    <tr>\n",
              "      <th>mean</th>\n",
              "      <td>10730.824513</td>\n",
              "      <td>55.672156</td>\n",
              "      <td>68647.239972</td>\n",
              "      <td>101.478322</td>\n",
              "      <td>0.674961</td>\n",
              "      <td>0.055710</td>\n",
              "      <td>1566.827994</td>\n",
              "      <td>4.033426</td>\n",
              "      <td>1072.45961</td>\n",
              "    </tr>\n",
              "    <tr>\n",
              "      <th>std</th>\n",
              "      <td>3626.964585</td>\n",
              "      <td>18.589804</td>\n",
              "      <td>37333.023589</td>\n",
              "      <td>14.768255</td>\n",
              "      <td>0.468572</td>\n",
              "      <td>0.229441</td>\n",
              "      <td>187.182436</td>\n",
              "      <td>0.952677</td>\n",
              "      <td>52.64112</td>\n",
              "    </tr>\n",
              "    <tr>\n",
              "      <th>min</th>\n",
              "      <td>4350.000000</td>\n",
              "      <td>1.000000</td>\n",
              "      <td>1.000000</td>\n",
              "      <td>69.000000</td>\n",
              "      <td>0.000000</td>\n",
              "      <td>0.000000</td>\n",
              "      <td>1300.000000</td>\n",
              "      <td>2.000000</td>\n",
              "      <td>1000.00000</td>\n",
              "    </tr>\n",
              "    <tr>\n",
              "      <th>25%</th>\n",
              "      <td>8450.000000</td>\n",
              "      <td>43.000000</td>\n",
              "      <td>43210.000000</td>\n",
              "      <td>90.000000</td>\n",
              "      <td>0.000000</td>\n",
              "      <td>0.000000</td>\n",
              "      <td>1400.000000</td>\n",
              "      <td>3.000000</td>\n",
              "      <td>1040.00000</td>\n",
              "    </tr>\n",
              "    <tr>\n",
              "      <th>50%</th>\n",
              "      <td>9900.000000</td>\n",
              "      <td>60.000000</td>\n",
              "      <td>63634.000000</td>\n",
              "      <td>110.000000</td>\n",
              "      <td>1.000000</td>\n",
              "      <td>0.000000</td>\n",
              "      <td>1600.000000</td>\n",
              "      <td>4.000000</td>\n",
              "      <td>1070.00000</td>\n",
              "    </tr>\n",
              "    <tr>\n",
              "      <th>75%</th>\n",
              "      <td>11950.000000</td>\n",
              "      <td>70.000000</td>\n",
              "      <td>87000.000000</td>\n",
              "      <td>110.000000</td>\n",
              "      <td>1.000000</td>\n",
              "      <td>0.000000</td>\n",
              "      <td>1600.000000</td>\n",
              "      <td>5.000000</td>\n",
              "      <td>1085.00000</td>\n",
              "    </tr>\n",
              "    <tr>\n",
              "      <th>max</th>\n",
              "      <td>32500.000000</td>\n",
              "      <td>80.000000</td>\n",
              "      <td>243000.000000</td>\n",
              "      <td>192.000000</td>\n",
              "      <td>1.000000</td>\n",
              "      <td>1.000000</td>\n",
              "      <td>2000.000000</td>\n",
              "      <td>5.000000</td>\n",
              "      <td>1615.00000</td>\n",
              "    </tr>\n",
              "  </tbody>\n",
              "</table>\n",
              "</div>"
            ],
            "text/plain": [
              "              Price          Age  ...        Doors      Weight\n",
              "count   1436.000000  1336.000000  ...  1436.000000  1436.00000\n",
              "mean   10730.824513    55.672156  ...     4.033426  1072.45961\n",
              "std     3626.964585    18.589804  ...     0.952677    52.64112\n",
              "min     4350.000000     1.000000  ...     2.000000  1000.00000\n",
              "25%     8450.000000    43.000000  ...     3.000000  1040.00000\n",
              "50%     9900.000000    60.000000  ...     4.000000  1070.00000\n",
              "75%    11950.000000    70.000000  ...     5.000000  1085.00000\n",
              "max    32500.000000    80.000000  ...     5.000000  1615.00000\n",
              "\n",
              "[8 rows x 9 columns]"
            ]
          },
          "metadata": {
            "tags": []
          },
          "execution_count": 17
        }
      ]
    },
    {
      "cell_type": "code",
      "metadata": {
        "colab": {
          "base_uri": "https://localhost:8080/",
          "height": 172
        },
        "id": "sophisticated-temperature",
        "outputId": "fc8a45e2-c917-4661-b942-38c53ff493f1"
      },
      "source": [
        "dataset.describe(include = 'object')"
      ],
      "id": "sophisticated-temperature",
      "execution_count": 18,
      "outputs": [
        {
          "output_type": "execute_result",
          "data": {
            "text/html": [
              "<div>\n",
              "<style scoped>\n",
              "    .dataframe tbody tr th:only-of-type {\n",
              "        vertical-align: middle;\n",
              "    }\n",
              "\n",
              "    .dataframe tbody tr th {\n",
              "        vertical-align: top;\n",
              "    }\n",
              "\n",
              "    .dataframe thead th {\n",
              "        text-align: right;\n",
              "    }\n",
              "</style>\n",
              "<table border=\"1\" class=\"dataframe\">\n",
              "  <thead>\n",
              "    <tr style=\"text-align: right;\">\n",
              "      <th></th>\n",
              "      <th>FuelType</th>\n",
              "    </tr>\n",
              "  </thead>\n",
              "  <tbody>\n",
              "    <tr>\n",
              "      <th>count</th>\n",
              "      <td>1336</td>\n",
              "    </tr>\n",
              "    <tr>\n",
              "      <th>unique</th>\n",
              "      <td>3</td>\n",
              "    </tr>\n",
              "    <tr>\n",
              "      <th>top</th>\n",
              "      <td>Petrol</td>\n",
              "    </tr>\n",
              "    <tr>\n",
              "      <th>freq</th>\n",
              "      <td>1177</td>\n",
              "    </tr>\n",
              "  </tbody>\n",
              "</table>\n",
              "</div>"
            ],
            "text/plain": [
              "       FuelType\n",
              "count      1336\n",
              "unique        3\n",
              "top      Petrol\n",
              "freq       1177"
            ]
          },
          "metadata": {
            "tags": []
          },
          "execution_count": 18
        }
      ]
    },
    {
      "cell_type": "markdown",
      "metadata": {
        "id": "little-professional"
      },
      "source": [
        "**But still we have one object type/categorical data left. We will convert this into numerical data before replacing missing values**"
      ],
      "id": "little-professional"
    },
    {
      "cell_type": "code",
      "metadata": {
        "colab": {
          "base_uri": "https://localhost:8080/"
        },
        "id": "complicated-thread",
        "outputId": "cc1b37a7-3abb-469b-b3a4-d4911e1e94f4"
      },
      "source": [
        "print(\"Unique Fuel Type values:\",dataset['FuelType'].unique())\n",
        "print(\"Count of each type:\")\n",
        "dataset['FuelType'].value_counts()"
      ],
      "id": "complicated-thread",
      "execution_count": 19,
      "outputs": [
        {
          "output_type": "stream",
          "text": [
            "Unique Fuel Type values: ['Diesel' nan 'Petrol' 'CNG']\n",
            "Count of each type:\n"
          ],
          "name": "stdout"
        },
        {
          "output_type": "execute_result",
          "data": {
            "text/plain": [
              "Petrol    1177\n",
              "Diesel     144\n",
              "CNG         15\n",
              "Name: FuelType, dtype: int64"
            ]
          },
          "metadata": {
            "tags": []
          },
          "execution_count": 19
        }
      ]
    },
    {
      "cell_type": "markdown",
      "metadata": {
        "id": "short-sacramento"
      },
      "source": [
        "As the instance is categorical, we will replace NaN with the mode value. Here, `Diesel`."
      ],
      "id": "short-sacramento"
    },
    {
      "cell_type": "code",
      "metadata": {
        "colab": {
          "base_uri": "https://localhost:8080/"
        },
        "id": "answering-accommodation",
        "outputId": "efe440b7-fccb-43a8-e545-d823363229c3"
      },
      "source": [
        "dataset['FuelType'].fillna('Diesel', inplace = True)\n",
        "print(\"Unique Fuel Type values:\",dataset['FuelType'].unique())\n",
        "print(\"Count of each type:\")\n",
        "dataset['FuelType'].value_counts()"
      ],
      "id": "answering-accommodation",
      "execution_count": 20,
      "outputs": [
        {
          "output_type": "stream",
          "text": [
            "Unique Fuel Type values: ['Diesel' 'Petrol' 'CNG']\n",
            "Count of each type:\n"
          ],
          "name": "stdout"
        },
        {
          "output_type": "execute_result",
          "data": {
            "text/plain": [
              "Petrol    1177\n",
              "Diesel     244\n",
              "CNG         15\n",
              "Name: FuelType, dtype: int64"
            ]
          },
          "metadata": {
            "tags": []
          },
          "execution_count": 20
        }
      ]
    },
    {
      "cell_type": "code",
      "metadata": {
        "colab": {
          "base_uri": "https://localhost:8080/",
          "height": 374
        },
        "id": "loaded-relief",
        "outputId": "c5740d94-2d28-45a4-e231-0e3e7ca1726c"
      },
      "source": [
        "#Let's do Label Encoding\n",
        "le = LabelEncoder()\n",
        "dataset['FuelType'] = le.fit_transform(dataset['FuelType'])\n",
        "print(\"Unique Fuel Type values:\",dataset['FuelType'].unique())\n",
        "dataset.head(10)"
      ],
      "id": "loaded-relief",
      "execution_count": 21,
      "outputs": [
        {
          "output_type": "stream",
          "text": [
            "Unique Fuel Type values: [1 2 0]\n"
          ],
          "name": "stdout"
        },
        {
          "output_type": "execute_result",
          "data": {
            "text/html": [
              "<div>\n",
              "<style scoped>\n",
              "    .dataframe tbody tr th:only-of-type {\n",
              "        vertical-align: middle;\n",
              "    }\n",
              "\n",
              "    .dataframe tbody tr th {\n",
              "        vertical-align: top;\n",
              "    }\n",
              "\n",
              "    .dataframe thead th {\n",
              "        text-align: right;\n",
              "    }\n",
              "</style>\n",
              "<table border=\"1\" class=\"dataframe\">\n",
              "  <thead>\n",
              "    <tr style=\"text-align: right;\">\n",
              "      <th></th>\n",
              "      <th>Price</th>\n",
              "      <th>Age</th>\n",
              "      <th>KM</th>\n",
              "      <th>FuelType</th>\n",
              "      <th>HP</th>\n",
              "      <th>MetColor</th>\n",
              "      <th>Automatic</th>\n",
              "      <th>CC</th>\n",
              "      <th>Doors</th>\n",
              "      <th>Weight</th>\n",
              "    </tr>\n",
              "  </thead>\n",
              "  <tbody>\n",
              "    <tr>\n",
              "      <th>0</th>\n",
              "      <td>13500</td>\n",
              "      <td>23.0</td>\n",
              "      <td>46986.0</td>\n",
              "      <td>1</td>\n",
              "      <td>90.0</td>\n",
              "      <td>1.0</td>\n",
              "      <td>0</td>\n",
              "      <td>2000</td>\n",
              "      <td>3</td>\n",
              "      <td>1165</td>\n",
              "    </tr>\n",
              "    <tr>\n",
              "      <th>1</th>\n",
              "      <td>13750</td>\n",
              "      <td>23.0</td>\n",
              "      <td>72937.0</td>\n",
              "      <td>1</td>\n",
              "      <td>90.0</td>\n",
              "      <td>1.0</td>\n",
              "      <td>0</td>\n",
              "      <td>2000</td>\n",
              "      <td>3</td>\n",
              "      <td>1165</td>\n",
              "    </tr>\n",
              "    <tr>\n",
              "      <th>2</th>\n",
              "      <td>13950</td>\n",
              "      <td>24.0</td>\n",
              "      <td>41711.0</td>\n",
              "      <td>1</td>\n",
              "      <td>90.0</td>\n",
              "      <td>NaN</td>\n",
              "      <td>0</td>\n",
              "      <td>2000</td>\n",
              "      <td>3</td>\n",
              "      <td>1165</td>\n",
              "    </tr>\n",
              "    <tr>\n",
              "      <th>3</th>\n",
              "      <td>14950</td>\n",
              "      <td>26.0</td>\n",
              "      <td>48000.0</td>\n",
              "      <td>1</td>\n",
              "      <td>90.0</td>\n",
              "      <td>0.0</td>\n",
              "      <td>0</td>\n",
              "      <td>2000</td>\n",
              "      <td>3</td>\n",
              "      <td>1165</td>\n",
              "    </tr>\n",
              "    <tr>\n",
              "      <th>4</th>\n",
              "      <td>13750</td>\n",
              "      <td>30.0</td>\n",
              "      <td>38500.0</td>\n",
              "      <td>1</td>\n",
              "      <td>90.0</td>\n",
              "      <td>0.0</td>\n",
              "      <td>0</td>\n",
              "      <td>2000</td>\n",
              "      <td>3</td>\n",
              "      <td>1170</td>\n",
              "    </tr>\n",
              "    <tr>\n",
              "      <th>5</th>\n",
              "      <td>12950</td>\n",
              "      <td>32.0</td>\n",
              "      <td>61000.0</td>\n",
              "      <td>1</td>\n",
              "      <td>90.0</td>\n",
              "      <td>0.0</td>\n",
              "      <td>0</td>\n",
              "      <td>2000</td>\n",
              "      <td>3</td>\n",
              "      <td>1170</td>\n",
              "    </tr>\n",
              "    <tr>\n",
              "      <th>6</th>\n",
              "      <td>16900</td>\n",
              "      <td>27.0</td>\n",
              "      <td>NaN</td>\n",
              "      <td>1</td>\n",
              "      <td>NaN</td>\n",
              "      <td>NaN</td>\n",
              "      <td>0</td>\n",
              "      <td>2000</td>\n",
              "      <td>3</td>\n",
              "      <td>1245</td>\n",
              "    </tr>\n",
              "    <tr>\n",
              "      <th>7</th>\n",
              "      <td>18600</td>\n",
              "      <td>30.0</td>\n",
              "      <td>75889.0</td>\n",
              "      <td>1</td>\n",
              "      <td>90.0</td>\n",
              "      <td>1.0</td>\n",
              "      <td>0</td>\n",
              "      <td>2000</td>\n",
              "      <td>3</td>\n",
              "      <td>1245</td>\n",
              "    </tr>\n",
              "    <tr>\n",
              "      <th>8</th>\n",
              "      <td>21500</td>\n",
              "      <td>27.0</td>\n",
              "      <td>19700.0</td>\n",
              "      <td>2</td>\n",
              "      <td>192.0</td>\n",
              "      <td>0.0</td>\n",
              "      <td>0</td>\n",
              "      <td>1800</td>\n",
              "      <td>3</td>\n",
              "      <td>1185</td>\n",
              "    </tr>\n",
              "    <tr>\n",
              "      <th>9</th>\n",
              "      <td>12950</td>\n",
              "      <td>23.0</td>\n",
              "      <td>71138.0</td>\n",
              "      <td>1</td>\n",
              "      <td>NaN</td>\n",
              "      <td>NaN</td>\n",
              "      <td>0</td>\n",
              "      <td>1900</td>\n",
              "      <td>3</td>\n",
              "      <td>1105</td>\n",
              "    </tr>\n",
              "  </tbody>\n",
              "</table>\n",
              "</div>"
            ],
            "text/plain": [
              "   Price   Age       KM  FuelType  ...  Automatic    CC  Doors  Weight\n",
              "0  13500  23.0  46986.0         1  ...          0  2000      3    1165\n",
              "1  13750  23.0  72937.0         1  ...          0  2000      3    1165\n",
              "2  13950  24.0  41711.0         1  ...          0  2000      3    1165\n",
              "3  14950  26.0  48000.0         1  ...          0  2000      3    1165\n",
              "4  13750  30.0  38500.0         1  ...          0  2000      3    1170\n",
              "5  12950  32.0  61000.0         1  ...          0  2000      3    1170\n",
              "6  16900  27.0      NaN         1  ...          0  2000      3    1245\n",
              "7  18600  30.0  75889.0         1  ...          0  2000      3    1245\n",
              "8  21500  27.0  19700.0         2  ...          0  1800      3    1185\n",
              "9  12950  23.0  71138.0         1  ...          0  1900      3    1105\n",
              "\n",
              "[10 rows x 10 columns]"
            ]
          },
          "metadata": {
            "tags": []
          },
          "execution_count": 21
        }
      ]
    },
    {
      "cell_type": "markdown",
      "metadata": {
        "id": "innovative-gilbert"
      },
      "source": [
        "**Replacing all NaN values with respective mean using imputer**"
      ],
      "id": "innovative-gilbert"
    },
    {
      "cell_type": "code",
      "metadata": {
        "colab": {
          "base_uri": "https://localhost:8080/"
        },
        "id": "heard-effects",
        "outputId": "fc27a34b-926b-4e89-abbd-de0b29acb9bb"
      },
      "source": [
        "dataset = dataset.reindex(columns = ['Age', 'KM', 'FuelType', 'HP', 'MetColor', 'Automatic', 'CC', 'Doors', \n",
        "                                     'Weight', 'Price'])\n",
        "X = dataset.iloc[:,:-1].values\n",
        "Y = dataset.iloc[:,-1].values\n",
        "\n",
        "print(\"X:\\n\",X)\n",
        "print(\"\\n\\nY:\\n\",Y)\n",
        "\n",
        "imputer = SimpleImputer(missing_values = np.nan, strategy = \"mean\")"
      ],
      "id": "heard-effects",
      "execution_count": 22,
      "outputs": [
        {
          "output_type": "stream",
          "text": [
            "X:\n",
            " [[2.3000e+01 4.6986e+04 1.0000e+00 ... 2.0000e+03 3.0000e+00 1.1650e+03]\n",
            " [2.3000e+01 7.2937e+04 1.0000e+00 ... 2.0000e+03 3.0000e+00 1.1650e+03]\n",
            " [2.4000e+01 4.1711e+04 1.0000e+00 ... 2.0000e+03 3.0000e+00 1.1650e+03]\n",
            " ...\n",
            " [       nan 1.7016e+04 2.0000e+00 ... 1.3000e+03 3.0000e+00 1.0150e+03]\n",
            " [7.0000e+01        nan 1.0000e+00 ... 1.3000e+03 3.0000e+00 1.0150e+03]\n",
            " [7.6000e+01 1.0000e+00 2.0000e+00 ... 1.6000e+03 5.0000e+00 1.1140e+03]]\n",
            "\n",
            "\n",
            "Y:\n",
            " [13500 13750 13950 ...  8500  7250  6950]\n"
          ],
          "name": "stdout"
        }
      ]
    },
    {
      "cell_type": "code",
      "metadata": {
        "colab": {
          "base_uri": "https://localhost:8080/"
        },
        "id": "framed-sense",
        "outputId": "db52c1a5-7810-43b5-e04f-bf1c9c48745d"
      },
      "source": [
        "# Fitting the data, function learns the stats \n",
        "imputer = imputer.fit(X[:,:]) \n",
        "  \n",
        "# fit_transform() will execute those stats on the input ie. X[:, 1:3] \n",
        "X[:,:] = imputer.transform(X[:,:]) \n",
        "  \n",
        "# filling the missing value with mean \n",
        "print(\"\\n\\nNew Input with Mean Value for NaN : \\n\\n\", X) "
      ],
      "id": "framed-sense",
      "execution_count": 23,
      "outputs": [
        {
          "output_type": "stream",
          "text": [
            "\n",
            "\n",
            "New Input with Mean Value for NaN : \n",
            "\n",
            " [[2.30000000e+01 4.69860000e+04 1.00000000e+00 ... 2.00000000e+03\n",
            "  3.00000000e+00 1.16500000e+03]\n",
            " [2.30000000e+01 7.29370000e+04 1.00000000e+00 ... 2.00000000e+03\n",
            "  3.00000000e+00 1.16500000e+03]\n",
            " [2.40000000e+01 4.17110000e+04 1.00000000e+00 ... 2.00000000e+03\n",
            "  3.00000000e+00 1.16500000e+03]\n",
            " ...\n",
            " [5.56721557e+01 1.70160000e+04 2.00000000e+00 ... 1.30000000e+03\n",
            "  3.00000000e+00 1.01500000e+03]\n",
            " [7.00000000e+01 6.86472400e+04 1.00000000e+00 ... 1.30000000e+03\n",
            "  3.00000000e+00 1.01500000e+03]\n",
            " [7.60000000e+01 1.00000000e+00 2.00000000e+00 ... 1.60000000e+03\n",
            "  5.00000000e+00 1.11400000e+03]]\n"
          ],
          "name": "stdout"
        }
      ]
    },
    {
      "cell_type": "markdown",
      "metadata": {
        "id": "junior-belief"
      },
      "source": [
        "### Handling using pandas"
      ],
      "id": "junior-belief"
    },
    {
      "cell_type": "code",
      "metadata": {
        "colab": {
          "base_uri": "https://localhost:8080/"
        },
        "id": "usual-granny",
        "outputId": "558a5314-fbac-45f8-a06e-ecdb6e5addf9"
      },
      "source": [
        "dataset.isna().sum()"
      ],
      "id": "usual-granny",
      "execution_count": 24,
      "outputs": [
        {
          "output_type": "execute_result",
          "data": {
            "text/plain": [
              "Age          100\n",
              "KM            15\n",
              "FuelType       0\n",
              "HP             6\n",
              "MetColor     150\n",
              "Automatic      0\n",
              "CC             0\n",
              "Doors          0\n",
              "Weight         0\n",
              "Price          0\n",
              "dtype: int64"
            ]
          },
          "metadata": {
            "tags": []
          },
          "execution_count": 24
        }
      ]
    },
    {
      "cell_type": "code",
      "metadata": {
        "id": "unknown-start"
      },
      "source": [
        "dataset['Age'].fillna(dataset['Age'].mean(), inplace = True)\n",
        "dataset['KM'].fillna(dataset['KM'].mean(), inplace = True)\n",
        "dataset['HP'].fillna(dataset['HP'].mean(), inplace = True)\n",
        "dataset['MetColor'].fillna(dataset['MetColor'].mean(), inplace = True)"
      ],
      "id": "unknown-start",
      "execution_count": 25,
      "outputs": []
    },
    {
      "cell_type": "code",
      "metadata": {
        "colab": {
          "base_uri": "https://localhost:8080/",
          "height": 665
        },
        "id": "average-period",
        "outputId": "d5474048-d0ed-4858-e504-f0b56aaa696e"
      },
      "source": [
        "dataset.head(20)"
      ],
      "id": "average-period",
      "execution_count": 26,
      "outputs": [
        {
          "output_type": "execute_result",
          "data": {
            "text/html": [
              "<div>\n",
              "<style scoped>\n",
              "    .dataframe tbody tr th:only-of-type {\n",
              "        vertical-align: middle;\n",
              "    }\n",
              "\n",
              "    .dataframe tbody tr th {\n",
              "        vertical-align: top;\n",
              "    }\n",
              "\n",
              "    .dataframe thead th {\n",
              "        text-align: right;\n",
              "    }\n",
              "</style>\n",
              "<table border=\"1\" class=\"dataframe\">\n",
              "  <thead>\n",
              "    <tr style=\"text-align: right;\">\n",
              "      <th></th>\n",
              "      <th>Age</th>\n",
              "      <th>KM</th>\n",
              "      <th>FuelType</th>\n",
              "      <th>HP</th>\n",
              "      <th>MetColor</th>\n",
              "      <th>Automatic</th>\n",
              "      <th>CC</th>\n",
              "      <th>Doors</th>\n",
              "      <th>Weight</th>\n",
              "      <th>Price</th>\n",
              "    </tr>\n",
              "  </thead>\n",
              "  <tbody>\n",
              "    <tr>\n",
              "      <th>0</th>\n",
              "      <td>23.0</td>\n",
              "      <td>46986.000000</td>\n",
              "      <td>1</td>\n",
              "      <td>90.000000</td>\n",
              "      <td>1.000000</td>\n",
              "      <td>0</td>\n",
              "      <td>2000</td>\n",
              "      <td>3</td>\n",
              "      <td>1165</td>\n",
              "      <td>13500</td>\n",
              "    </tr>\n",
              "    <tr>\n",
              "      <th>1</th>\n",
              "      <td>23.0</td>\n",
              "      <td>72937.000000</td>\n",
              "      <td>1</td>\n",
              "      <td>90.000000</td>\n",
              "      <td>1.000000</td>\n",
              "      <td>0</td>\n",
              "      <td>2000</td>\n",
              "      <td>3</td>\n",
              "      <td>1165</td>\n",
              "      <td>13750</td>\n",
              "    </tr>\n",
              "    <tr>\n",
              "      <th>2</th>\n",
              "      <td>24.0</td>\n",
              "      <td>41711.000000</td>\n",
              "      <td>1</td>\n",
              "      <td>90.000000</td>\n",
              "      <td>0.674961</td>\n",
              "      <td>0</td>\n",
              "      <td>2000</td>\n",
              "      <td>3</td>\n",
              "      <td>1165</td>\n",
              "      <td>13950</td>\n",
              "    </tr>\n",
              "    <tr>\n",
              "      <th>3</th>\n",
              "      <td>26.0</td>\n",
              "      <td>48000.000000</td>\n",
              "      <td>1</td>\n",
              "      <td>90.000000</td>\n",
              "      <td>0.000000</td>\n",
              "      <td>0</td>\n",
              "      <td>2000</td>\n",
              "      <td>3</td>\n",
              "      <td>1165</td>\n",
              "      <td>14950</td>\n",
              "    </tr>\n",
              "    <tr>\n",
              "      <th>4</th>\n",
              "      <td>30.0</td>\n",
              "      <td>38500.000000</td>\n",
              "      <td>1</td>\n",
              "      <td>90.000000</td>\n",
              "      <td>0.000000</td>\n",
              "      <td>0</td>\n",
              "      <td>2000</td>\n",
              "      <td>3</td>\n",
              "      <td>1170</td>\n",
              "      <td>13750</td>\n",
              "    </tr>\n",
              "    <tr>\n",
              "      <th>5</th>\n",
              "      <td>32.0</td>\n",
              "      <td>61000.000000</td>\n",
              "      <td>1</td>\n",
              "      <td>90.000000</td>\n",
              "      <td>0.000000</td>\n",
              "      <td>0</td>\n",
              "      <td>2000</td>\n",
              "      <td>3</td>\n",
              "      <td>1170</td>\n",
              "      <td>12950</td>\n",
              "    </tr>\n",
              "    <tr>\n",
              "      <th>6</th>\n",
              "      <td>27.0</td>\n",
              "      <td>68647.239972</td>\n",
              "      <td>1</td>\n",
              "      <td>101.478322</td>\n",
              "      <td>0.674961</td>\n",
              "      <td>0</td>\n",
              "      <td>2000</td>\n",
              "      <td>3</td>\n",
              "      <td>1245</td>\n",
              "      <td>16900</td>\n",
              "    </tr>\n",
              "    <tr>\n",
              "      <th>7</th>\n",
              "      <td>30.0</td>\n",
              "      <td>75889.000000</td>\n",
              "      <td>1</td>\n",
              "      <td>90.000000</td>\n",
              "      <td>1.000000</td>\n",
              "      <td>0</td>\n",
              "      <td>2000</td>\n",
              "      <td>3</td>\n",
              "      <td>1245</td>\n",
              "      <td>18600</td>\n",
              "    </tr>\n",
              "    <tr>\n",
              "      <th>8</th>\n",
              "      <td>27.0</td>\n",
              "      <td>19700.000000</td>\n",
              "      <td>2</td>\n",
              "      <td>192.000000</td>\n",
              "      <td>0.000000</td>\n",
              "      <td>0</td>\n",
              "      <td>1800</td>\n",
              "      <td>3</td>\n",
              "      <td>1185</td>\n",
              "      <td>21500</td>\n",
              "    </tr>\n",
              "    <tr>\n",
              "      <th>9</th>\n",
              "      <td>23.0</td>\n",
              "      <td>71138.000000</td>\n",
              "      <td>1</td>\n",
              "      <td>101.478322</td>\n",
              "      <td>0.674961</td>\n",
              "      <td>0</td>\n",
              "      <td>1900</td>\n",
              "      <td>3</td>\n",
              "      <td>1105</td>\n",
              "      <td>12950</td>\n",
              "    </tr>\n",
              "    <tr>\n",
              "      <th>10</th>\n",
              "      <td>25.0</td>\n",
              "      <td>31461.000000</td>\n",
              "      <td>2</td>\n",
              "      <td>192.000000</td>\n",
              "      <td>0.000000</td>\n",
              "      <td>0</td>\n",
              "      <td>1800</td>\n",
              "      <td>3</td>\n",
              "      <td>1185</td>\n",
              "      <td>20950</td>\n",
              "    </tr>\n",
              "    <tr>\n",
              "      <th>11</th>\n",
              "      <td>22.0</td>\n",
              "      <td>43610.000000</td>\n",
              "      <td>2</td>\n",
              "      <td>192.000000</td>\n",
              "      <td>0.000000</td>\n",
              "      <td>0</td>\n",
              "      <td>1800</td>\n",
              "      <td>3</td>\n",
              "      <td>1185</td>\n",
              "      <td>19950</td>\n",
              "    </tr>\n",
              "    <tr>\n",
              "      <th>12</th>\n",
              "      <td>25.0</td>\n",
              "      <td>32189.000000</td>\n",
              "      <td>2</td>\n",
              "      <td>192.000000</td>\n",
              "      <td>0.000000</td>\n",
              "      <td>0</td>\n",
              "      <td>1800</td>\n",
              "      <td>3</td>\n",
              "      <td>1185</td>\n",
              "      <td>19600</td>\n",
              "    </tr>\n",
              "    <tr>\n",
              "      <th>13</th>\n",
              "      <td>31.0</td>\n",
              "      <td>23000.000000</td>\n",
              "      <td>2</td>\n",
              "      <td>192.000000</td>\n",
              "      <td>1.000000</td>\n",
              "      <td>0</td>\n",
              "      <td>1800</td>\n",
              "      <td>3</td>\n",
              "      <td>1185</td>\n",
              "      <td>21500</td>\n",
              "    </tr>\n",
              "    <tr>\n",
              "      <th>14</th>\n",
              "      <td>32.0</td>\n",
              "      <td>34131.000000</td>\n",
              "      <td>2</td>\n",
              "      <td>192.000000</td>\n",
              "      <td>1.000000</td>\n",
              "      <td>0</td>\n",
              "      <td>1800</td>\n",
              "      <td>3</td>\n",
              "      <td>1185</td>\n",
              "      <td>22500</td>\n",
              "    </tr>\n",
              "    <tr>\n",
              "      <th>15</th>\n",
              "      <td>28.0</td>\n",
              "      <td>18739.000000</td>\n",
              "      <td>2</td>\n",
              "      <td>101.478322</td>\n",
              "      <td>0.000000</td>\n",
              "      <td>0</td>\n",
              "      <td>1800</td>\n",
              "      <td>3</td>\n",
              "      <td>1185</td>\n",
              "      <td>22000</td>\n",
              "    </tr>\n",
              "    <tr>\n",
              "      <th>16</th>\n",
              "      <td>30.0</td>\n",
              "      <td>34000.000000</td>\n",
              "      <td>2</td>\n",
              "      <td>192.000000</td>\n",
              "      <td>1.000000</td>\n",
              "      <td>0</td>\n",
              "      <td>1800</td>\n",
              "      <td>3</td>\n",
              "      <td>1185</td>\n",
              "      <td>22750</td>\n",
              "    </tr>\n",
              "    <tr>\n",
              "      <th>17</th>\n",
              "      <td>24.0</td>\n",
              "      <td>21716.000000</td>\n",
              "      <td>2</td>\n",
              "      <td>110.000000</td>\n",
              "      <td>1.000000</td>\n",
              "      <td>0</td>\n",
              "      <td>1600</td>\n",
              "      <td>3</td>\n",
              "      <td>1105</td>\n",
              "      <td>17950</td>\n",
              "    </tr>\n",
              "    <tr>\n",
              "      <th>18</th>\n",
              "      <td>24.0</td>\n",
              "      <td>25563.000000</td>\n",
              "      <td>2</td>\n",
              "      <td>110.000000</td>\n",
              "      <td>0.000000</td>\n",
              "      <td>0</td>\n",
              "      <td>1600</td>\n",
              "      <td>3</td>\n",
              "      <td>1065</td>\n",
              "      <td>16750</td>\n",
              "    </tr>\n",
              "    <tr>\n",
              "      <th>19</th>\n",
              "      <td>30.0</td>\n",
              "      <td>64359.000000</td>\n",
              "      <td>2</td>\n",
              "      <td>110.000000</td>\n",
              "      <td>1.000000</td>\n",
              "      <td>0</td>\n",
              "      <td>1600</td>\n",
              "      <td>3</td>\n",
              "      <td>1105</td>\n",
              "      <td>16950</td>\n",
              "    </tr>\n",
              "  </tbody>\n",
              "</table>\n",
              "</div>"
            ],
            "text/plain": [
              "     Age            KM  FuelType          HP  ...    CC  Doors  Weight  Price\n",
              "0   23.0  46986.000000         1   90.000000  ...  2000      3    1165  13500\n",
              "1   23.0  72937.000000         1   90.000000  ...  2000      3    1165  13750\n",
              "2   24.0  41711.000000         1   90.000000  ...  2000      3    1165  13950\n",
              "3   26.0  48000.000000         1   90.000000  ...  2000      3    1165  14950\n",
              "4   30.0  38500.000000         1   90.000000  ...  2000      3    1170  13750\n",
              "5   32.0  61000.000000         1   90.000000  ...  2000      3    1170  12950\n",
              "6   27.0  68647.239972         1  101.478322  ...  2000      3    1245  16900\n",
              "7   30.0  75889.000000         1   90.000000  ...  2000      3    1245  18600\n",
              "8   27.0  19700.000000         2  192.000000  ...  1800      3    1185  21500\n",
              "9   23.0  71138.000000         1  101.478322  ...  1900      3    1105  12950\n",
              "10  25.0  31461.000000         2  192.000000  ...  1800      3    1185  20950\n",
              "11  22.0  43610.000000         2  192.000000  ...  1800      3    1185  19950\n",
              "12  25.0  32189.000000         2  192.000000  ...  1800      3    1185  19600\n",
              "13  31.0  23000.000000         2  192.000000  ...  1800      3    1185  21500\n",
              "14  32.0  34131.000000         2  192.000000  ...  1800      3    1185  22500\n",
              "15  28.0  18739.000000         2  101.478322  ...  1800      3    1185  22000\n",
              "16  30.0  34000.000000         2  192.000000  ...  1800      3    1185  22750\n",
              "17  24.0  21716.000000         2  110.000000  ...  1600      3    1105  17950\n",
              "18  24.0  25563.000000         2  110.000000  ...  1600      3    1065  16750\n",
              "19  30.0  64359.000000         2  110.000000  ...  1600      3    1105  16950\n",
              "\n",
              "[20 rows x 10 columns]"
            ]
          },
          "metadata": {
            "tags": []
          },
          "execution_count": 26
        }
      ]
    },
    {
      "cell_type": "code",
      "metadata": {
        "colab": {
          "base_uri": "https://localhost:8080/"
        },
        "id": "round-drunk",
        "outputId": "1db4cd42-a64c-47f5-bcff-e80634c2b96c"
      },
      "source": [
        "dataset.isna().sum()"
      ],
      "id": "round-drunk",
      "execution_count": 27,
      "outputs": [
        {
          "output_type": "execute_result",
          "data": {
            "text/plain": [
              "Age          0\n",
              "KM           0\n",
              "FuelType     0\n",
              "HP           0\n",
              "MetColor     0\n",
              "Automatic    0\n",
              "CC           0\n",
              "Doors        0\n",
              "Weight       0\n",
              "Price        0\n",
              "dtype: int64"
            ]
          },
          "metadata": {
            "tags": []
          },
          "execution_count": 27
        }
      ]
    },
    {
      "cell_type": "markdown",
      "metadata": {
        "id": "nearby-nirvana"
      },
      "source": [
        "**Observations:**\n",
        "- All NaN are handled properly"
      ],
      "id": "nearby-nirvana"
    },
    {
      "cell_type": "code",
      "metadata": {
        "colab": {
          "base_uri": "https://localhost:8080/"
        },
        "id": "illegal-torture",
        "outputId": "c44fe0ef-ad99-4789-cb78-b1c4a4a72ec0"
      },
      "source": [
        "dataset.info()"
      ],
      "id": "illegal-torture",
      "execution_count": 28,
      "outputs": [
        {
          "output_type": "stream",
          "text": [
            "<class 'pandas.core.frame.DataFrame'>\n",
            "Int64Index: 1436 entries, 0 to 1435\n",
            "Data columns (total 10 columns):\n",
            " #   Column     Non-Null Count  Dtype  \n",
            "---  ------     --------------  -----  \n",
            " 0   Age        1436 non-null   float64\n",
            " 1   KM         1436 non-null   float64\n",
            " 2   FuelType   1436 non-null   int64  \n",
            " 3   HP         1436 non-null   float64\n",
            " 4   MetColor   1436 non-null   float64\n",
            " 5   Automatic  1436 non-null   int64  \n",
            " 6   CC         1436 non-null   int64  \n",
            " 7   Doors      1436 non-null   int64  \n",
            " 8   Weight     1436 non-null   int64  \n",
            " 9   Price      1436 non-null   int64  \n",
            "dtypes: float64(4), int64(6)\n",
            "memory usage: 123.4 KB\n"
          ],
          "name": "stdout"
        }
      ]
    },
    {
      "cell_type": "markdown",
      "metadata": {
        "id": "continuing-fisher"
      },
      "source": [
        "### Feature selection based on correlation"
      ],
      "id": "continuing-fisher"
    },
    {
      "cell_type": "code",
      "metadata": {
        "colab": {
          "base_uri": "https://localhost:8080/",
          "height": 203
        },
        "id": "invalid-cedar",
        "outputId": "748c5e53-0ead-473a-97ec-07b86ad78fbd"
      },
      "source": [
        "dataset_new = dataset.iloc[:,0:8]\n",
        "dataset_new.head()"
      ],
      "id": "invalid-cedar",
      "execution_count": 29,
      "outputs": [
        {
          "output_type": "execute_result",
          "data": {
            "text/html": [
              "<div>\n",
              "<style scoped>\n",
              "    .dataframe tbody tr th:only-of-type {\n",
              "        vertical-align: middle;\n",
              "    }\n",
              "\n",
              "    .dataframe tbody tr th {\n",
              "        vertical-align: top;\n",
              "    }\n",
              "\n",
              "    .dataframe thead th {\n",
              "        text-align: right;\n",
              "    }\n",
              "</style>\n",
              "<table border=\"1\" class=\"dataframe\">\n",
              "  <thead>\n",
              "    <tr style=\"text-align: right;\">\n",
              "      <th></th>\n",
              "      <th>Age</th>\n",
              "      <th>KM</th>\n",
              "      <th>FuelType</th>\n",
              "      <th>HP</th>\n",
              "      <th>MetColor</th>\n",
              "      <th>Automatic</th>\n",
              "      <th>CC</th>\n",
              "      <th>Doors</th>\n",
              "    </tr>\n",
              "  </thead>\n",
              "  <tbody>\n",
              "    <tr>\n",
              "      <th>0</th>\n",
              "      <td>23.0</td>\n",
              "      <td>46986.0</td>\n",
              "      <td>1</td>\n",
              "      <td>90.0</td>\n",
              "      <td>1.000000</td>\n",
              "      <td>0</td>\n",
              "      <td>2000</td>\n",
              "      <td>3</td>\n",
              "    </tr>\n",
              "    <tr>\n",
              "      <th>1</th>\n",
              "      <td>23.0</td>\n",
              "      <td>72937.0</td>\n",
              "      <td>1</td>\n",
              "      <td>90.0</td>\n",
              "      <td>1.000000</td>\n",
              "      <td>0</td>\n",
              "      <td>2000</td>\n",
              "      <td>3</td>\n",
              "    </tr>\n",
              "    <tr>\n",
              "      <th>2</th>\n",
              "      <td>24.0</td>\n",
              "      <td>41711.0</td>\n",
              "      <td>1</td>\n",
              "      <td>90.0</td>\n",
              "      <td>0.674961</td>\n",
              "      <td>0</td>\n",
              "      <td>2000</td>\n",
              "      <td>3</td>\n",
              "    </tr>\n",
              "    <tr>\n",
              "      <th>3</th>\n",
              "      <td>26.0</td>\n",
              "      <td>48000.0</td>\n",
              "      <td>1</td>\n",
              "      <td>90.0</td>\n",
              "      <td>0.000000</td>\n",
              "      <td>0</td>\n",
              "      <td>2000</td>\n",
              "      <td>3</td>\n",
              "    </tr>\n",
              "    <tr>\n",
              "      <th>4</th>\n",
              "      <td>30.0</td>\n",
              "      <td>38500.0</td>\n",
              "      <td>1</td>\n",
              "      <td>90.0</td>\n",
              "      <td>0.000000</td>\n",
              "      <td>0</td>\n",
              "      <td>2000</td>\n",
              "      <td>3</td>\n",
              "    </tr>\n",
              "  </tbody>\n",
              "</table>\n",
              "</div>"
            ],
            "text/plain": [
              "    Age       KM  FuelType    HP  MetColor  Automatic    CC  Doors\n",
              "0  23.0  46986.0         1  90.0  1.000000          0  2000      3\n",
              "1  23.0  72937.0         1  90.0  1.000000          0  2000      3\n",
              "2  24.0  41711.0         1  90.0  0.674961          0  2000      3\n",
              "3  26.0  48000.0         1  90.0  0.000000          0  2000      3\n",
              "4  30.0  38500.0         1  90.0  0.000000          0  2000      3"
            ]
          },
          "metadata": {
            "tags": []
          },
          "execution_count": 29
        }
      ]
    },
    {
      "cell_type": "code",
      "metadata": {
        "colab": {
          "base_uri": "https://localhost:8080/",
          "height": 295
        },
        "id": "hairy-charlotte",
        "outputId": "899b6194-b5de-46b6-857a-ffee5682991e"
      },
      "source": [
        "corr = dataset_new.corr()\n",
        "corr.head(8)"
      ],
      "id": "hairy-charlotte",
      "execution_count": 30,
      "outputs": [
        {
          "output_type": "execute_result",
          "data": {
            "text/html": [
              "<div>\n",
              "<style scoped>\n",
              "    .dataframe tbody tr th:only-of-type {\n",
              "        vertical-align: middle;\n",
              "    }\n",
              "\n",
              "    .dataframe tbody tr th {\n",
              "        vertical-align: top;\n",
              "    }\n",
              "\n",
              "    .dataframe thead th {\n",
              "        text-align: right;\n",
              "    }\n",
              "</style>\n",
              "<table border=\"1\" class=\"dataframe\">\n",
              "  <thead>\n",
              "    <tr style=\"text-align: right;\">\n",
              "      <th></th>\n",
              "      <th>Age</th>\n",
              "      <th>KM</th>\n",
              "      <th>FuelType</th>\n",
              "      <th>HP</th>\n",
              "      <th>MetColor</th>\n",
              "      <th>Automatic</th>\n",
              "      <th>CC</th>\n",
              "      <th>Doors</th>\n",
              "    </tr>\n",
              "  </thead>\n",
              "  <tbody>\n",
              "    <tr>\n",
              "      <th>Age</th>\n",
              "      <td>1.000000</td>\n",
              "      <td>0.495199</td>\n",
              "      <td>0.055345</td>\n",
              "      <td>-0.152946</td>\n",
              "      <td>-0.091331</td>\n",
              "      <td>0.030931</td>\n",
              "      <td>-0.116255</td>\n",
              "      <td>-0.151785</td>\n",
              "    </tr>\n",
              "    <tr>\n",
              "      <th>KM</th>\n",
              "      <td>0.495199</td>\n",
              "      <td>1.000000</td>\n",
              "      <td>-0.332595</td>\n",
              "      <td>-0.332984</td>\n",
              "      <td>-0.088587</td>\n",
              "      <td>-0.080743</td>\n",
              "      <td>0.296281</td>\n",
              "      <td>-0.036021</td>\n",
              "    </tr>\n",
              "    <tr>\n",
              "      <th>FuelType</th>\n",
              "      <td>0.055345</td>\n",
              "      <td>-0.332595</td>\n",
              "      <td>1.000000</td>\n",
              "      <td>0.356670</td>\n",
              "      <td>-0.006320</td>\n",
              "      <td>0.059933</td>\n",
              "      <td>-0.520432</td>\n",
              "      <td>-0.011948</td>\n",
              "    </tr>\n",
              "    <tr>\n",
              "      <th>HP</th>\n",
              "      <td>-0.152946</td>\n",
              "      <td>-0.332984</td>\n",
              "      <td>0.356670</td>\n",
              "      <td>1.000000</td>\n",
              "      <td>0.060990</td>\n",
              "      <td>0.013753</td>\n",
              "      <td>0.053466</td>\n",
              "      <td>0.096938</td>\n",
              "    </tr>\n",
              "    <tr>\n",
              "      <th>MetColor</th>\n",
              "      <td>-0.091331</td>\n",
              "      <td>-0.088587</td>\n",
              "      <td>-0.006320</td>\n",
              "      <td>0.060990</td>\n",
              "      <td>1.000000</td>\n",
              "      <td>-0.013167</td>\n",
              "      <td>0.027524</td>\n",
              "      <td>0.081540</td>\n",
              "    </tr>\n",
              "    <tr>\n",
              "      <th>Automatic</th>\n",
              "      <td>0.030931</td>\n",
              "      <td>-0.080743</td>\n",
              "      <td>0.059933</td>\n",
              "      <td>0.013753</td>\n",
              "      <td>-0.013167</td>\n",
              "      <td>1.000000</td>\n",
              "      <td>-0.069321</td>\n",
              "      <td>-0.027654</td>\n",
              "    </tr>\n",
              "    <tr>\n",
              "      <th>CC</th>\n",
              "      <td>-0.116255</td>\n",
              "      <td>0.296281</td>\n",
              "      <td>-0.520432</td>\n",
              "      <td>0.053466</td>\n",
              "      <td>0.027524</td>\n",
              "      <td>-0.069321</td>\n",
              "      <td>1.000000</td>\n",
              "      <td>0.126768</td>\n",
              "    </tr>\n",
              "    <tr>\n",
              "      <th>Doors</th>\n",
              "      <td>-0.151785</td>\n",
              "      <td>-0.036021</td>\n",
              "      <td>-0.011948</td>\n",
              "      <td>0.096938</td>\n",
              "      <td>0.081540</td>\n",
              "      <td>-0.027654</td>\n",
              "      <td>0.126768</td>\n",
              "      <td>1.000000</td>\n",
              "    </tr>\n",
              "  </tbody>\n",
              "</table>\n",
              "</div>"
            ],
            "text/plain": [
              "                Age        KM  FuelType  ...  Automatic        CC     Doors\n",
              "Age        1.000000  0.495199  0.055345  ...   0.030931 -0.116255 -0.151785\n",
              "KM         0.495199  1.000000 -0.332595  ...  -0.080743  0.296281 -0.036021\n",
              "FuelType   0.055345 -0.332595  1.000000  ...   0.059933 -0.520432 -0.011948\n",
              "HP        -0.152946 -0.332984  0.356670  ...   0.013753  0.053466  0.096938\n",
              "MetColor  -0.091331 -0.088587 -0.006320  ...  -0.013167  0.027524  0.081540\n",
              "Automatic  0.030931 -0.080743  0.059933  ...   1.000000 -0.069321 -0.027654\n",
              "CC        -0.116255  0.296281 -0.520432  ...  -0.069321  1.000000  0.126768\n",
              "Doors     -0.151785 -0.036021 -0.011948  ...  -0.027654  0.126768  1.000000\n",
              "\n",
              "[8 rows x 8 columns]"
            ]
          },
          "metadata": {
            "tags": []
          },
          "execution_count": 30
        }
      ]
    },
    {
      "cell_type": "code",
      "metadata": {
        "colab": {
          "base_uri": "https://localhost:8080/",
          "height": 327
        },
        "id": "liquid-fancy",
        "outputId": "ddf92700-d9b6-436c-b9f7-fa1df6d3dc0d"
      },
      "source": [
        "sns.heatmap(corr)"
      ],
      "id": "liquid-fancy",
      "execution_count": 31,
      "outputs": [
        {
          "output_type": "execute_result",
          "data": {
            "text/plain": [
              "<matplotlib.axes._subplots.AxesSubplot at 0x7f459913da50>"
            ]
          },
          "metadata": {
            "tags": []
          },
          "execution_count": 31
        },
        {
          "output_type": "display_data",
          "data": {
            "image/png": "[encoded data removed]",
            "text/plain": [
              "<Figure size 432x288 with 2 Axes>"
            ]
          },
          "metadata": {
            "tags": [],
            "needs_background": "light"
          }
        }
      ]
    },
    {
      "cell_type": "markdown",
      "metadata": {
        "id": "nominated-bronze"
      },
      "source": [
        "**Observations**\n",
        "- No two feature has high correlation (>=0.9) with other. So, we can't remove any attribute."
      ],
      "id": "nominated-bronze"
    },
    {
      "cell_type": "code",
      "metadata": {
        "id": "confused-float"
      },
      "source": [
        ""
      ],
      "id": "confused-float",
      "execution_count": 31,
      "outputs": []
    }
  ]
}