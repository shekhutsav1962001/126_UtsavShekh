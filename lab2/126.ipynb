{
  "nbformat": 4,
  "nbformat_minor": 0,
  "metadata": {
    "kernelspec": {
      "display_name": "Python 3",
      "language": "python",
      "name": "python3"
    },
    "language_info": {
      "codemirror_mode": {
        "name": "ipython",
        "version": 3
      },
      "file_extension": ".py",
      "mimetype": "text/x-python",
      "name": "python",
      "nbconvert_exporter": "python",
      "pygments_lexer": "ipython3",
      "version": "3.7.2"
    },
    "colab": {
      "name": "126.ipynb",
      "provenance": []
    }
  },
  "cells": [
    {
      "cell_type": "code",
      "metadata": {
        "id": "nVim7AkhJdmk"
      },
      "source": [
        "import pandas as pd\n",
        "import numpy as np\n",
        "from sklearn.preprocessing import MinMaxScaler, StandardScaler,LabelEncoder,OneHotEncoder\n",
        "import seaborn as sns \n",
        "from sklearn.impute import SimpleImputer \n",
        "from word2number import w2n\n",
        "import seaborn as sns"
      ],
      "execution_count": null,
      "outputs": []
    },
    {
      "cell_type": "code",
      "metadata": {
        "colab": {
          "base_uri": "https://localhost:8080/"
        },
        "id": "OA4h4dyYLEIA",
        "outputId": "77636864-7ae2-4234-a9fe-b13f1b189841"
      },
      "source": [
        "!pip install word2number"
      ],
      "execution_count": null,
      "outputs": [
        {
          "output_type": "stream",
          "text": [
            "Collecting word2number\n",
            "  Downloading https://files.pythonhosted.org/packages/4a/29/a31940c848521f0725f0df6b25dca8917f13a2025b0e8fcbe5d0457e45e6/word2number-1.1.zip\n",
            "Building wheels for collected packages: word2number\n",
            "  Building wheel for word2number (setup.py) ... \u001b[?25l\u001b[?25hdone\n",
            "  Created wheel for word2number: filename=word2number-1.1-cp37-none-any.whl size=5584 sha256=d72210336034a3ed0adb4de2e0b844fa25ea5e73ea9b76d6fb0047ba9fc27aa6\n",
            "  Stored in directory: /root/.cache/pip/wheels/46/2f/53/5f5c1d275492f2fce1cdab9a9bb12d49286dead829a4078e0e\n",
            "Successfully built word2number\n",
            "Installing collected packages: word2number\n",
            "Successfully installed word2number-1.1\n"
          ],
          "name": "stdout"
        }
      ]
    },
    {
      "cell_type": "code",
      "metadata": {
        "colab": {
          "base_uri": "https://localhost:8080/"
        },
        "id": "eY2thyvHJdml",
        "outputId": "952e5291-2662-4a43-9c28-c17864eb278e"
      },
      "source": [
        "df=pd.read_csv('Exercise-CarData.csv')\n",
        "print(df)\n",
        "#df = df.dropna(axis=0, subset=['FuelType'])\n",
        "print(\"\\n\\nAfter transformation : \\n\", len(list(df['FuelType'])))\n",
        "\n",
        "df['HP'] = df['HP'].replace('????', np.nan)\n",
        "df['Doors'] =[w2n.word_to_num(w) for w in df['Doors']]\n",
        "df = df.replace('??', np.nan)\n",
        "X=df.iloc[:, 1:].values\n",
        "print(X[6])\n",
        "\n",
        "\n",
        "\n",
        "#replace Nan based on frequency of Fueltype\n",
        "imp = SimpleImputer(strategy=\"most_frequent\")\n",
        "imp = imp.fit(X[:,3:4]) \n",
        "X[:,3:4]= imp.transform(X[:,3:4]) \n"
      ],
      "execution_count": null,
      "outputs": [
        {
          "output_type": "stream",
          "text": [
            "      Unnamed: 0  Price   Age     KM  ... Automatic    CC  Doors  Weight\n",
            "0              0  13500  23.0  46986  ...         0  2000  three    1165\n",
            "1              1  13750  23.0  72937  ...         0  2000      3    1165\n",
            "2              2  13950  24.0  41711  ...         0  2000      3    1165\n",
            "3              3  14950  26.0  48000  ...         0  2000      3    1165\n",
            "4              4  13750  30.0  38500  ...         0  2000      3    1170\n",
            "...          ...    ...   ...    ...  ...       ...   ...    ...     ...\n",
            "1431        1431   7500   NaN  20544  ...         0  1300      3    1025\n",
            "1432        1432  10845  72.0     ??  ...         0  1300      3    1015\n",
            "1433        1433   8500   NaN  17016  ...         0  1300      3    1015\n",
            "1434        1434   7250  70.0     ??  ...         0  1300      3    1015\n",
            "1435        1435   6950  76.0      1  ...         0  1600      5    1114\n",
            "\n",
            "[1436 rows x 11 columns]\n",
            "\n",
            "\n",
            "After transformation : \n",
            " 1436\n",
            "[16900 27.0 nan 'Diesel' nan nan 0 2000 3 1245]\n"
          ],
          "name": "stdout"
        }
      ]
    },
    {
      "cell_type": "code",
      "metadata": {
        "colab": {
          "base_uri": "https://localhost:8080/"
        },
        "id": "8FcsyPbRJdmo",
        "outputId": "57392d4a-e6c1-47eb-d9fa-fb6f5030e830"
      },
      "source": [
        "le = LabelEncoder()\n",
        "X[ : ,3] = le.fit_transform(X[ : ,3])\n",
        "print(\"\\n\\nInput : \\n\", X[ : ,3])"
      ],
      "execution_count": null,
      "outputs": [
        {
          "output_type": "stream",
          "text": [
            "\n",
            "\n",
            "Input : \n",
            " [1 1 1 ... 2 2 2]\n"
          ],
          "name": "stdout"
        }
      ]
    },
    {
      "cell_type": "code",
      "metadata": {
        "colab": {
          "base_uri": "https://localhost:8080/"
        },
        "id": "kybtfZcbJdmo",
        "outputId": "97260e4d-2ad7-4fa3-c8de-664175876cfb"
      },
      "source": [
        "print('\\nDesc:\\n',df.describe())"
      ],
      "execution_count": null,
      "outputs": [
        {
          "output_type": "stream",
          "text": [
            "\n",
            "Desc:\n",
            "         Unnamed: 0         Price  ...        Doors      Weight\n",
            "count  1436.000000   1436.000000  ...  1436.000000  1436.00000\n",
            "mean    717.500000  10730.824513  ...     4.033426  1072.45961\n",
            "std     414.681806   3626.964585  ...     0.952677    52.64112\n",
            "min       0.000000   4350.000000  ...     2.000000  1000.00000\n",
            "25%     358.750000   8450.000000  ...     3.000000  1040.00000\n",
            "50%     717.500000   9900.000000  ...     4.000000  1070.00000\n",
            "75%    1076.250000  11950.000000  ...     5.000000  1085.00000\n",
            "max    1435.000000  32500.000000  ...     5.000000  1615.00000\n",
            "\n",
            "[8 rows x 8 columns]\n"
          ],
          "name": "stdout"
        }
      ]
    },
    {
      "cell_type": "code",
      "metadata": {
        "colab": {
          "base_uri": "https://localhost:8080/"
        },
        "id": "R-z2ZLUWJdmo",
        "outputId": "210e751d-aa5c-44f8-a0d9-2d65794b412f"
      },
      "source": [
        "scaler = MinMaxScaler()\n",
        "X_scaled = scaler.fit_transform(X)\n",
        "print(\"\\n\\nScaled X : \\n\", X_scaled)"
      ],
      "execution_count": null,
      "outputs": [
        {
          "output_type": "stream",
          "text": [
            "\n",
            "\n",
            "Scaled X : \n",
            " [[0.3250444  0.27848101 0.19335471 ... 1.         0.33333333 0.26829268]\n",
            " [0.3339254  0.27848101 0.30014938 ... 1.         0.33333333 0.26829268]\n",
            " [0.3410302  0.29113924 0.1716468  ... 1.         0.33333333 0.26829268]\n",
            " ...\n",
            " [0.14742451        nan 0.07002086 ... 0.         0.33333333 0.02439024]\n",
            " [0.10301954 0.87341772        nan ... 0.         0.33333333 0.02439024]\n",
            " [0.09236234 0.94936709 0.         ... 0.42857143 1.         0.18536585]]\n"
          ],
          "name": "stdout"
        }
      ]
    },
    {
      "cell_type": "code",
      "metadata": {
        "colab": {
          "base_uri": "https://localhost:8080/"
        },
        "id": "hvD0NgjKJdmp",
        "outputId": "ffe32872-4b27-4a4d-8b72-ee1d39981e7d"
      },
      "source": [
        "std = StandardScaler()\n",
        "X_std = std.fit_transform(X)\n",
        "print(\"\\n\\nStandardized X : \\n\", X_std)"
      ],
      "execution_count": null,
      "outputs": [
        {
          "output_type": "stream",
          "text": [
            "\n",
            "\n",
            "Standardized X : \n",
            " [[ 0.76376268 -1.75818903 -0.58042086 ...  2.31497633 -1.08513865\n",
            "   1.75856113]\n",
            " [ 0.83271485 -1.75818903  0.11494569 ...  2.31497633 -1.08513865\n",
            "   1.75856113]\n",
            " [ 0.88787659 -1.70437596 -0.72176642 ...  2.31497633 -1.08513865\n",
            "   1.75856113]\n",
            " ...\n",
            " [-0.6152808          nan -1.383478   ... -1.42599356 -1.08513865\n",
            "  -1.09191497]\n",
            " [-0.96004167  0.7710253          nan ... -1.42599356 -1.08513865\n",
            "  -1.09191497]\n",
            " [-1.04278428  1.09390373 -1.83940116 ...  0.17727925  1.014941\n",
            "   0.78939926]]\n"
          ],
          "name": "stdout"
        }
      ]
    },
    {
      "cell_type": "code",
      "metadata": {
        "colab": {
          "base_uri": "https://localhost:8080/"
        },
        "id": "qAofDiJYJdmp",
        "outputId": "df2215d9-c172-4255-8834-caf589cc1586"
      },
      "source": [
        "dummy = pd.get_dummies(df['FuelType'])\n",
        "print(\"\\n\\nDummy :\\n\",dummy)\n",
        "df = df.drop(['FuelType'],axis=1)\n",
        "df = pd.concat([dummy,df],axis=1)\n",
        "print(\"\\n\\nFinal Data :\\n\",df)"
      ],
      "execution_count": null,
      "outputs": [
        {
          "output_type": "stream",
          "text": [
            "\n",
            "\n",
            "Dummy :\n",
            "       CNG  Diesel  Petrol\n",
            "0       0       1       0\n",
            "1       0       1       0\n",
            "2       0       1       0\n",
            "3       0       1       0\n",
            "4       0       1       0\n",
            "...   ...     ...     ...\n",
            "1431    0       0       1\n",
            "1432    0       0       1\n",
            "1433    0       0       1\n",
            "1434    0       0       0\n",
            "1435    0       0       1\n",
            "\n",
            "[1436 rows x 3 columns]\n",
            "\n",
            "\n",
            "Final Data :\n",
            "       CNG  Diesel  Petrol  Unnamed: 0  ...  Automatic    CC Doors Weight\n",
            "0       0       1       0           0  ...          0  2000     3   1165\n",
            "1       0       1       0           1  ...          0  2000     3   1165\n",
            "2       0       1       0           2  ...          0  2000     3   1165\n",
            "3       0       1       0           3  ...          0  2000     3   1165\n",
            "4       0       1       0           4  ...          0  2000     3   1170\n",
            "...   ...     ...     ...         ...  ...        ...   ...   ...    ...\n",
            "1431    0       0       1        1431  ...          0  1300     3   1025\n",
            "1432    0       0       1        1432  ...          0  1300     3   1015\n",
            "1433    0       0       1        1433  ...          0  1300     3   1015\n",
            "1434    0       0       0        1434  ...          0  1300     3   1015\n",
            "1435    0       0       1        1435  ...          0  1600     5   1114\n",
            "\n",
            "[1436 rows x 13 columns]\n"
          ],
          "name": "stdout"
        }
      ]
    },
    {
      "cell_type": "code",
      "metadata": {
        "colab": {
          "base_uri": "https://localhost:8080/"
        },
        "id": "q-al44MgJdmp",
        "outputId": "7e21f7a2-c6e8-4ed4-ad46-704ca9da07b9"
      },
      "source": [
        "new_x=df.iloc[:, 1:].values\n",
        "imputer = SimpleImputer(missing_values = np.nan,strategy = \"mean\")\n",
        "imputer = imputer.fit(new_x[:,0:3]) \n",
        "new_x[:,0:3]= imputer.transform(new_x[:,0:3]) \n",
        "imp = SimpleImputer(strategy=\"most_frequent\")\n",
        "imp = imp.fit(new_x[:,4:]) \n",
        "new_x[:,4:]= imp.transform(new_x[:,4:]) \n",
        "print(new_x[6])"
      ],
      "execution_count": null,
      "outputs": [
        {
          "output_type": "stream",
          "text": [
            "[1.0 0.0 6.0 16900 27.0 '1' '110' 1.0 0 2000 3 1245]\n"
          ],
          "name": "stdout"
        }
      ]
    },
    {
      "cell_type": "code",
      "metadata": {
        "colab": {
          "base_uri": "https://localhost:8080/",
          "height": 240
        },
        "id": "D1QFXqL-Jdmq",
        "outputId": "ebe23514-c4c0-4525-d493-f4aa749c0139"
      },
      "source": [
        "df.head()"
      ],
      "execution_count": null,
      "outputs": [
        {
          "output_type": "execute_result",
          "data": {
            "text/html": [
              "<div>\n",
              "<style scoped>\n",
              "    .dataframe tbody tr th:only-of-type {\n",
              "        vertical-align: middle;\n",
              "    }\n",
              "\n",
              "    .dataframe tbody tr th {\n",
              "        vertical-align: top;\n",
              "    }\n",
              "\n",
              "    .dataframe thead th {\n",
              "        text-align: right;\n",
              "    }\n",
              "</style>\n",
              "<table border=\"1\" class=\"dataframe\">\n",
              "  <thead>\n",
              "    <tr style=\"text-align: right;\">\n",
              "      <th></th>\n",
              "      <th>CNG</th>\n",
              "      <th>Diesel</th>\n",
              "      <th>Petrol</th>\n",
              "      <th>Unnamed: 0</th>\n",
              "      <th>Price</th>\n",
              "      <th>Age</th>\n",
              "      <th>KM</th>\n",
              "      <th>HP</th>\n",
              "      <th>MetColor</th>\n",
              "      <th>Automatic</th>\n",
              "      <th>CC</th>\n",
              "      <th>Doors</th>\n",
              "      <th>Weight</th>\n",
              "    </tr>\n",
              "  </thead>\n",
              "  <tbody>\n",
              "    <tr>\n",
              "      <th>0</th>\n",
              "      <td>0</td>\n",
              "      <td>1</td>\n",
              "      <td>0</td>\n",
              "      <td>0</td>\n",
              "      <td>13500</td>\n",
              "      <td>23.0</td>\n",
              "      <td>46986</td>\n",
              "      <td>90</td>\n",
              "      <td>1.0</td>\n",
              "      <td>0</td>\n",
              "      <td>2000</td>\n",
              "      <td>3</td>\n",
              "      <td>1165</td>\n",
              "    </tr>\n",
              "    <tr>\n",
              "      <th>1</th>\n",
              "      <td>0</td>\n",
              "      <td>1</td>\n",
              "      <td>0</td>\n",
              "      <td>1</td>\n",
              "      <td>13750</td>\n",
              "      <td>23.0</td>\n",
              "      <td>72937</td>\n",
              "      <td>90</td>\n",
              "      <td>1.0</td>\n",
              "      <td>0</td>\n",
              "      <td>2000</td>\n",
              "      <td>3</td>\n",
              "      <td>1165</td>\n",
              "    </tr>\n",
              "    <tr>\n",
              "      <th>2</th>\n",
              "      <td>0</td>\n",
              "      <td>1</td>\n",
              "      <td>0</td>\n",
              "      <td>2</td>\n",
              "      <td>13950</td>\n",
              "      <td>24.0</td>\n",
              "      <td>41711</td>\n",
              "      <td>90</td>\n",
              "      <td>NaN</td>\n",
              "      <td>0</td>\n",
              "      <td>2000</td>\n",
              "      <td>3</td>\n",
              "      <td>1165</td>\n",
              "    </tr>\n",
              "    <tr>\n",
              "      <th>3</th>\n",
              "      <td>0</td>\n",
              "      <td>1</td>\n",
              "      <td>0</td>\n",
              "      <td>3</td>\n",
              "      <td>14950</td>\n",
              "      <td>26.0</td>\n",
              "      <td>48000</td>\n",
              "      <td>90</td>\n",
              "      <td>0.0</td>\n",
              "      <td>0</td>\n",
              "      <td>2000</td>\n",
              "      <td>3</td>\n",
              "      <td>1165</td>\n",
              "    </tr>\n",
              "    <tr>\n",
              "      <th>4</th>\n",
              "      <td>0</td>\n",
              "      <td>1</td>\n",
              "      <td>0</td>\n",
              "      <td>4</td>\n",
              "      <td>13750</td>\n",
              "      <td>30.0</td>\n",
              "      <td>38500</td>\n",
              "      <td>90</td>\n",
              "      <td>0.0</td>\n",
              "      <td>0</td>\n",
              "      <td>2000</td>\n",
              "      <td>3</td>\n",
              "      <td>1170</td>\n",
              "    </tr>\n",
              "  </tbody>\n",
              "</table>\n",
              "</div>"
            ],
            "text/plain": [
              "   CNG  Diesel  Petrol  Unnamed: 0  ...  Automatic    CC Doors Weight\n",
              "0    0       1       0           0  ...          0  2000     3   1165\n",
              "1    0       1       0           1  ...          0  2000     3   1165\n",
              "2    0       1       0           2  ...          0  2000     3   1165\n",
              "3    0       1       0           3  ...          0  2000     3   1165\n",
              "4    0       1       0           4  ...          0  2000     3   1170\n",
              "\n",
              "[5 rows x 13 columns]"
            ]
          },
          "metadata": {
            "tags": []
          },
          "execution_count": 16
        }
      ]
    },
    {
      "cell_type": "code",
      "metadata": {
        "colab": {
          "base_uri": "https://localhost:8080/"
        },
        "id": "Aq9Ep_f7Jdmq",
        "outputId": "69158e62-5215-4884-bffe-a98ee9c7c14c"
      },
      "source": [
        "df.info()"
      ],
      "execution_count": null,
      "outputs": [
        {
          "output_type": "stream",
          "text": [
            "<class 'pandas.core.frame.DataFrame'>\n",
            "RangeIndex: 1436 entries, 0 to 1435\n",
            "Data columns (total 13 columns):\n",
            " #   Column      Non-Null Count  Dtype  \n",
            "---  ------      --------------  -----  \n",
            " 0   CNG         1436 non-null   uint8  \n",
            " 1   Diesel      1436 non-null   uint8  \n",
            " 2   Petrol      1436 non-null   uint8  \n",
            " 3   Unnamed: 0  1436 non-null   int64  \n",
            " 4   Price       1436 non-null   int64  \n",
            " 5   Age         1336 non-null   float64\n",
            " 6   KM          1421 non-null   object \n",
            " 7   HP          1430 non-null   object \n",
            " 8   MetColor    1286 non-null   float64\n",
            " 9   Automatic   1436 non-null   int64  \n",
            " 10  CC          1436 non-null   int64  \n",
            " 11  Doors       1436 non-null   int64  \n",
            " 12  Weight      1436 non-null   int64  \n",
            "dtypes: float64(2), int64(6), object(2), uint8(3)\n",
            "memory usage: 116.5+ KB\n"
          ],
          "name": "stdout"
        }
      ]
    },
    {
      "cell_type": "code",
      "metadata": {
        "colab": {
          "base_uri": "https://localhost:8080/",
          "height": 203
        },
        "id": "icBX7o_uJdmr",
        "outputId": "a113147b-474c-41c1-b101-bcd13f25aed7"
      },
      "source": [
        "corr = df.corr()\n",
        "corr.head()"
      ],
      "execution_count": null,
      "outputs": [
        {
          "output_type": "execute_result",
          "data": {
            "text/html": [
              "<div>\n",
              "<style scoped>\n",
              "    .dataframe tbody tr th:only-of-type {\n",
              "        vertical-align: middle;\n",
              "    }\n",
              "\n",
              "    .dataframe tbody tr th {\n",
              "        vertical-align: top;\n",
              "    }\n",
              "\n",
              "    .dataframe thead th {\n",
              "        text-align: right;\n",
              "    }\n",
              "</style>\n",
              "<table border=\"1\" class=\"dataframe\">\n",
              "  <thead>\n",
              "    <tr style=\"text-align: right;\">\n",
              "      <th></th>\n",
              "      <th>CNG</th>\n",
              "      <th>Diesel</th>\n",
              "      <th>Petrol</th>\n",
              "      <th>Unnamed: 0</th>\n",
              "      <th>Price</th>\n",
              "      <th>Age</th>\n",
              "      <th>MetColor</th>\n",
              "      <th>Automatic</th>\n",
              "      <th>CC</th>\n",
              "      <th>Doors</th>\n",
              "      <th>Weight</th>\n",
              "    </tr>\n",
              "  </thead>\n",
              "  <tbody>\n",
              "    <tr>\n",
              "      <th>CNG</th>\n",
              "      <td>1.000000</td>\n",
              "      <td>-0.034300</td>\n",
              "      <td>-0.219022</td>\n",
              "      <td>-0.043811</td>\n",
              "      <td>-0.032498</td>\n",
              "      <td>0.006958</td>\n",
              "      <td>0.003743</td>\n",
              "      <td>-0.024955</td>\n",
              "      <td>0.018141</td>\n",
              "      <td>0.017971</td>\n",
              "      <td>0.051688</td>\n",
              "    </tr>\n",
              "    <tr>\n",
              "      <th>Diesel</th>\n",
              "      <td>-0.034300</td>\n",
              "      <td>1.000000</td>\n",
              "      <td>-0.711686</td>\n",
              "      <td>-0.139813</td>\n",
              "      <td>0.014590</td>\n",
              "      <td>-0.070515</td>\n",
              "      <td>-0.015137</td>\n",
              "      <td>-0.081090</td>\n",
              "      <td>0.730292</td>\n",
              "      <td>0.010192</td>\n",
              "      <td>0.516471</td>\n",
              "    </tr>\n",
              "    <tr>\n",
              "      <th>Petrol</th>\n",
              "      <td>-0.219022</td>\n",
              "      <td>-0.711686</td>\n",
              "      <td>1.000000</td>\n",
              "      <td>0.124362</td>\n",
              "      <td>-0.024046</td>\n",
              "      <td>0.064011</td>\n",
              "      <td>-0.006363</td>\n",
              "      <td>0.058664</td>\n",
              "      <td>-0.561913</td>\n",
              "      <td>-0.008259</td>\n",
              "      <td>-0.425511</td>\n",
              "    </tr>\n",
              "    <tr>\n",
              "      <th>Unnamed: 0</th>\n",
              "      <td>-0.043811</td>\n",
              "      <td>-0.139813</td>\n",
              "      <td>0.124362</td>\n",
              "      <td>1.000000</td>\n",
              "      <td>-0.738289</td>\n",
              "      <td>0.907090</td>\n",
              "      <td>-0.078616</td>\n",
              "      <td>0.066299</td>\n",
              "      <td>-0.184490</td>\n",
              "      <td>-0.130268</td>\n",
              "      <td>-0.414577</td>\n",
              "    </tr>\n",
              "    <tr>\n",
              "      <th>Price</th>\n",
              "      <td>-0.032498</td>\n",
              "      <td>0.014590</td>\n",
              "      <td>-0.024046</td>\n",
              "      <td>-0.738289</td>\n",
              "      <td>1.000000</td>\n",
              "      <td>-0.878407</td>\n",
              "      <td>0.112041</td>\n",
              "      <td>0.033081</td>\n",
              "      <td>0.165067</td>\n",
              "      <td>0.185326</td>\n",
              "      <td>0.581198</td>\n",
              "    </tr>\n",
              "  </tbody>\n",
              "</table>\n",
              "</div>"
            ],
            "text/plain": [
              "                 CNG    Diesel    Petrol  ...        CC     Doors    Weight\n",
              "CNG         1.000000 -0.034300 -0.219022  ...  0.018141  0.017971  0.051688\n",
              "Diesel     -0.034300  1.000000 -0.711686  ...  0.730292  0.010192  0.516471\n",
              "Petrol     -0.219022 -0.711686  1.000000  ... -0.561913 -0.008259 -0.425511\n",
              "Unnamed: 0 -0.043811 -0.139813  0.124362  ... -0.184490 -0.130268 -0.414577\n",
              "Price      -0.032498  0.014590 -0.024046  ...  0.165067  0.185326  0.581198\n",
              "\n",
              "[5 rows x 11 columns]"
            ]
          },
          "metadata": {
            "tags": []
          },
          "execution_count": 18
        }
      ]
    },
    {
      "cell_type": "code",
      "metadata": {
        "colab": {
          "base_uri": "https://localhost:8080/",
          "height": 337
        },
        "id": "0GHL1PfZJdmr",
        "outputId": "5cccc478-c5f8-4140-e489-873b2c87efbc"
      },
      "source": [
        "sns.heatmap(corr)"
      ],
      "execution_count": null,
      "outputs": [
        {
          "output_type": "execute_result",
          "data": {
            "text/plain": [
              "<matplotlib.axes._subplots.AxesSubplot at 0x7f6bbdb59850>"
            ]
          },
          "metadata": {
            "tags": []
          },
          "execution_count": 19
        },
        {
          "output_type": "display_data",
          "data": {
            "image/png": "[encoded data removed]",
            "text/plain": [
              "<Figure size 432x288 with 2 Axes>"
            ]
          },
          "metadata": {
            "tags": [],
            "needs_background": "light"
          }
        }
      ]
    }
  ]
}