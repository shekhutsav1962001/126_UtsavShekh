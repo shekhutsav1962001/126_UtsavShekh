{
 "metadata": {
  "language_info": {
   "codemirror_mode": {
    "name": "ipython",
    "version": 3
   },
   "file_extension": ".py",
   "mimetype": "text/x-python",
   "name": "python",
   "nbconvert_exporter": "python",
   "pygments_lexer": "ipython3",
   "version": "3.9.5"
  },
  "orig_nbformat": 4,
  "kernelspec": {
   "name": "python3",
   "display_name": "Python 3.9.5 64-bit"
  },
  "interpreter": {
   "hash": "d62006d1f3422635846181a997a61e8ec3049f797e5d7dfe0cd1bb84092b7c19"
  }
 },
 "nbformat": 4,
 "nbformat_minor": 2,
 "cells": [
  {
   "cell_type": "code",
   "execution_count": 1,
   "source": [
    "# 1) Create Two numpy array of size 3 X 2 and 2 X 3\r\n",
    "import pandas as pd\r\n",
    "import numpy as np\r\n",
    "import random"
   ],
   "outputs": [],
   "metadata": {}
  },
  {
   "cell_type": "code",
   "execution_count": 11,
   "source": [
    "nparr1=np.empty(shape=(3,2))\r\n",
    "print(nparr1)\r\n",
    "nparr2=np.empty(shape=(2,3))\r\n",
    "print(nparr2)\r\n",
    "\r\n",
    "a = np.zeros((3,2), dtype=int)\r\n",
    "print(a)\r\n",
    "a = np.zeros((2,3), dtype=int)\r\n",
    "print(a)\r\n",
    "\r\n",
    "a = np.ones((3,2), dtype=int)\r\n",
    "print(a)\r\n",
    "a = np.ones((2,3), dtype=int)\r\n",
    "print(a)"
   ],
   "outputs": [
    {
     "output_type": "stream",
     "name": "stdout",
     "text": [
      "[[0. 0.]\n",
      " [0. 0.]\n",
      " [0. 0.]]\n",
      "[[0. 0. 0.]\n",
      " [0. 0. 0.]]\n",
      "[[0 0]\n",
      " [0 0]\n",
      " [0 0]]\n",
      "[[0 0 0]\n",
      " [0 0 0]]\n",
      "[[1 1]\n",
      " [1 1]\n",
      " [1 1]]\n",
      "[[1 1 1]\n",
      " [1 1 1]]\n"
     ]
    }
   ],
   "metadata": {}
  },
  {
   "cell_type": "code",
   "execution_count": 12,
   "source": [
    "# 2) Randomly Initalize above two array\r\n",
    "for i in range(3):\r\n",
    "    for j in range(2):\r\n",
    "        nparr1[i][j]=random.randint(1,20)\r\n",
    "        nparr2[j][i]=random.randint(1,20)\r\n",
    "print(nparr1)\r\n",
    "print(nparr2)"
   ],
   "outputs": [
    {
     "output_type": "stream",
     "name": "stdout",
     "text": [
      "[[12. 18.]\n",
      " [10. 10.]\n",
      " [ 6. 12.]]\n",
      "[[ 1. 16. 10.]\n",
      " [ 2.  5. 19.]]\n"
     ]
    }
   ],
   "metadata": {}
  },
  {
   "cell_type": "code",
   "execution_count": 13,
   "source": [
    "# Perform matrix multiplication 3*2 2*3 => 3*3\r\n",
    "matrixmul=nparr1.dot(nparr2)\r\n",
    "print(matrixmul)"
   ],
   "outputs": [
    {
     "output_type": "stream",
     "name": "stdout",
     "text": [
      "[[ 48. 282. 462.]\n",
      " [ 30. 210. 290.]\n",
      " [ 30. 156. 288.]]\n"
     ]
    }
   ],
   "metadata": {}
  },
  {
   "cell_type": "code",
   "execution_count": 15,
   "source": [
    "# 4) Perform elementwise matrix multiplication\r\n",
    "a=np.array([[1,2,3],[4,5,6]])\r\n",
    "b=np.array([[7,8,9],[10,11,12]])\r\n",
    "elementwisemul=np.multiply(a,b)\r\n",
    "print(elementwisemul)\r\n",
    "\r\n",
    "output = a*b\r\n",
    "print(output)"
   ],
   "outputs": [
    {
     "output_type": "stream",
     "name": "stdout",
     "text": [
      "[[ 7 16 27]\n",
      " [40 55 72]]\n",
      "[[ 7 16 27]\n",
      " [40 55 72]]\n"
     ]
    }
   ],
   "metadata": {}
  },
  {
   "cell_type": "code",
   "execution_count": 16,
   "source": [
    "# 5) Find mean of first matrix\r\n",
    "meanmatrix=np.mean(nparr1)\r\n",
    "print(meanmatrix)"
   ],
   "outputs": [
    {
     "output_type": "stream",
     "name": "stdout",
     "text": [
      "11.333333333333334\n"
     ]
    }
   ],
   "metadata": {}
  },
  {
   "cell_type": "code",
   "execution_count": 46,
   "source": [
    "# 6) Convert Numeric entries(columns) of mtcars.csv to Mean Centered Version\r\n",
    "data = pd.read_csv('https://gist.githubusercontent.com/ZeccaLehn/4e06d2575eb9589dbe8c365d61cb056c/raw/64f1660f38ef523b2a1a13be77b002b98665cdfe/mtcars.csv')\r\n",
    "datatop=data.columns\r\n",
    "print(datatop)"
   ],
   "outputs": [
    {
     "output_type": "stream",
     "name": "stdout",
     "text": [
      "Index(['Unnamed: 0', 'mpg', 'cyl', 'disp', 'hp', 'drat', 'wt', 'qsec', 'vs',\n",
      "       'am', 'gear', 'carb'],\n",
      "      dtype='object')\n"
     ]
    }
   ],
   "metadata": {}
  },
  {
   "cell_type": "code",
   "execution_count": 45,
   "source": [
    "for i in range(1,len(datatop)):\r\n",
    "    data[datatop[i]]-=np.mean(data[datatop[i]])\r\n",
    "print(data)"
   ],
   "outputs": [
    {
     "output_type": "stream",
     "name": "stdout",
     "text": [
      "             Unnamed: 0        mpg     cyl        disp        hp      drat  \\\n",
      "0             Mazda RX4   0.909375 -0.1875  -70.721875  -36.6875  0.303437   \n",
      "1         Mazda RX4 Wag   0.909375 -0.1875  -70.721875  -36.6875  0.303437   \n",
      "2            Datsun 710   2.709375 -2.1875 -122.721875  -53.6875  0.253438   \n",
      "3        Hornet 4 Drive   1.309375 -0.1875   27.278125  -36.6875 -0.516562   \n",
      "4     Hornet Sportabout  -1.390625  1.8125  129.278125   28.3125 -0.446563   \n",
      "5               Valiant  -1.990625 -0.1875   -5.721875  -41.6875 -0.836563   \n",
      "6            Duster 360  -5.790625  1.8125  129.278125   98.3125 -0.386562   \n",
      "7             Merc 240D   4.309375 -2.1875  -84.021875  -84.6875  0.093437   \n",
      "8              Merc 230   2.709375 -2.1875  -89.921875  -51.6875  0.323437   \n",
      "9              Merc 280  -0.890625 -0.1875  -63.121875  -23.6875  0.323437   \n",
      "10            Merc 280C  -2.290625 -0.1875  -63.121875  -23.6875  0.323437   \n",
      "11           Merc 450SE  -3.690625  1.8125   45.078125   33.3125 -0.526563   \n",
      "12           Merc 450SL  -2.790625  1.8125   45.078125   33.3125 -0.526563   \n",
      "13          Merc 450SLC  -4.890625  1.8125   45.078125   33.3125 -0.526563   \n",
      "14   Cadillac Fleetwood  -9.690625  1.8125  241.278125   58.3125 -0.666562   \n",
      "15  Lincoln Continental  -9.690625  1.8125  229.278125   68.3125 -0.596562   \n",
      "16    Chrysler Imperial  -5.390625  1.8125  209.278125   83.3125 -0.366562   \n",
      "17             Fiat 128  12.309375 -2.1875 -152.021875  -80.6875  0.483438   \n",
      "18          Honda Civic  10.309375 -2.1875 -155.021875  -94.6875  1.333437   \n",
      "19       Toyota Corolla  13.809375 -2.1875 -159.621875  -81.6875  0.623437   \n",
      "20        Toyota Corona   1.409375 -2.1875 -110.621875  -49.6875  0.103438   \n",
      "21     Dodge Challenger  -4.590625  1.8125   87.278125    3.3125 -0.836563   \n",
      "22          AMC Javelin  -4.890625  1.8125   73.278125    3.3125 -0.446563   \n",
      "23           Camaro Z28  -6.790625  1.8125  119.278125   98.3125  0.133438   \n",
      "24     Pontiac Firebird  -0.890625  1.8125  169.278125   28.3125 -0.516562   \n",
      "25            Fiat X1-9   7.209375 -2.1875 -151.721875  -80.6875  0.483438   \n",
      "26        Porsche 914-2   5.909375 -2.1875 -110.421875  -55.6875  0.833437   \n",
      "27         Lotus Europa  10.309375 -2.1875 -135.621875  -33.6875  0.173438   \n",
      "28       Ford Pantera L  -4.290625  1.8125  120.278125  117.3125  0.623437   \n",
      "29         Ferrari Dino  -0.390625 -0.1875  -85.721875   28.3125  0.023438   \n",
      "30        Maserati Bora  -5.090625  1.8125   70.278125  188.3125 -0.056562   \n",
      "31           Volvo 142E   1.309375 -2.1875 -109.721875  -37.6875  0.513438   \n",
      "\n",
      "         wt     qsec      vs       am    gear    carb  \n",
      "0  -0.59725 -1.38875 -0.4375  0.59375  0.3125  1.1875  \n",
      "1  -0.34225 -0.82875 -0.4375  0.59375  0.3125  1.1875  \n",
      "2  -0.89725  0.76125  0.5625  0.59375  0.3125 -1.8125  \n",
      "3  -0.00225  1.59125  0.5625 -0.40625 -0.6875 -1.8125  \n",
      "4   0.22275 -0.82875 -0.4375 -0.40625 -0.6875 -0.8125  \n",
      "5   0.24275  2.37125  0.5625 -0.40625 -0.6875 -1.8125  \n",
      "6   0.35275 -2.00875 -0.4375 -0.40625 -0.6875  1.1875  \n",
      "7  -0.02725  2.15125  0.5625 -0.40625  0.3125 -0.8125  \n",
      "8  -0.06725  5.05125  0.5625 -0.40625  0.3125 -0.8125  \n",
      "9   0.22275  0.45125  0.5625 -0.40625  0.3125  1.1875  \n",
      "10  0.22275  1.05125  0.5625 -0.40625  0.3125  1.1875  \n",
      "11  0.85275 -0.44875 -0.4375 -0.40625 -0.6875  0.1875  \n",
      "12  0.51275 -0.24875 -0.4375 -0.40625 -0.6875  0.1875  \n",
      "13  0.56275  0.15125 -0.4375 -0.40625 -0.6875  0.1875  \n",
      "14  2.03275  0.13125 -0.4375 -0.40625 -0.6875  1.1875  \n",
      "15  2.20675 -0.02875 -0.4375 -0.40625 -0.6875  1.1875  \n",
      "16  2.12775 -0.42875 -0.4375 -0.40625 -0.6875  1.1875  \n",
      "17 -1.01725  1.62125  0.5625  0.59375  0.3125 -1.8125  \n",
      "18 -1.60225  0.67125  0.5625  0.59375  0.3125 -0.8125  \n",
      "19 -1.38225  2.05125  0.5625  0.59375  0.3125 -1.8125  \n",
      "20 -0.75225  2.16125  0.5625 -0.40625 -0.6875 -1.8125  \n",
      "21  0.30275 -0.97875 -0.4375 -0.40625 -0.6875 -0.8125  \n",
      "22  0.21775 -0.54875 -0.4375 -0.40625 -0.6875 -0.8125  \n",
      "23  0.62275 -2.43875 -0.4375 -0.40625 -0.6875  1.1875  \n",
      "24  0.62775 -0.79875 -0.4375 -0.40625 -0.6875 -0.8125  \n",
      "25 -1.28225  1.05125  0.5625  0.59375  0.3125 -1.8125  \n",
      "26 -1.07725 -1.14875 -0.4375  0.59375  1.3125 -0.8125  \n",
      "27 -1.70425 -0.94875  0.5625  0.59375  1.3125 -0.8125  \n",
      "28 -0.04725 -3.34875 -0.4375  0.59375  1.3125  1.1875  \n",
      "29 -0.44725 -2.34875 -0.4375  0.59375  1.3125  3.1875  \n",
      "30  0.35275 -3.24875 -0.4375  0.59375  1.3125  5.1875  \n",
      "31 -0.43725  0.75125  0.5625  0.59375  0.3125 -0.8125  \n"
     ]
    }
   ],
   "metadata": {}
  }
 ]
}