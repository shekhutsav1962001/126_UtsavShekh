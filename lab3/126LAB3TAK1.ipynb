{
  "nbformat": 4,
  "nbformat_minor": 0,
  "metadata": {
    "colab": {
      "name": "126LAB3TAK1.ipynb",
      "provenance": [],
      "collapsed_sections": []
    },
    "kernelspec": {
      "name": "python3",
      "display_name": "Python 3"
    },
    "language_info": {
      "name": "python"
    }
  },
  "cells": [
    {
      "cell_type": "markdown",
      "metadata": {
        "id": "KopN2b3iGqGR"
      },
      "source": [
        "** 126<=Rollnumber + All with No RollNumbers:**\n",
        "  #Task 1: Try the algo on Dataset3 - LabelEncoding of features:and Train test Division 95%-5%\n",
        " \n",
        "\n",
        "i) Set Random state of model equals to your roll number (or last 2 digit of your id -if you don't have roll number)\n",
        "\n",
        "\n",
        "**Questions: For Task - 1**\n",
        "\n",
        "(1) What will be the value of Play, if Outlook is ’Rainy’, Temperature is ’Mild’, Humidity =’Normal’, and Wind = ’False’?\n",
        "\n",
        "(2) What will be the value of Play, if Outlook is ’Sunny’, Temeprature is ’Cool’, Humidity =’High’, and Wind = ’True’?\n",
        "\n",
        "(3) Accuracy , precision and recall of both Models?"
      ]
    },
    {
      "cell_type": "code",
      "metadata": {
        "id": "mlwOAl4TG_CZ"
      },
      "source": [
        "import pandas as pd\n",
        "import numpy as np\n",
        "import matplotlib.pyplot as plt\n",
        "from sklearn.preprocessing import LabelEncoder\n",
        "from sklearn.naive_bayes import GaussianNB, MultinomialNB\n",
        "from sklearn.model_selection import train_test_split\n"
      ],
      "execution_count": 92,
      "outputs": []
    },
    {
      "cell_type": "code",
      "metadata": {
        "colab": {
          "base_uri": "https://localhost:8080/",
          "height": 497
        },
        "id": "uqvzcaR6ICy3",
        "outputId": "8d441342-ed91-467e-96aa-6207b1c3b030"
      },
      "source": [
        "dataset = pd.read_csv(\"Dataset3.csv\") \n",
        "print(\"Number of examples in dataset\", dataset.shape)\n",
        "dataset.head(15)"
      ],
      "execution_count": 93,
      "outputs": [
        {
          "output_type": "stream",
          "text": [
            "Number of examples in dataset (14, 5)\n"
          ],
          "name": "stdout"
        },
        {
          "output_type": "execute_result",
          "data": {
            "text/html": [
              "<div>\n",
              "<style scoped>\n",
              "    .dataframe tbody tr th:only-of-type {\n",
              "        vertical-align: middle;\n",
              "    }\n",
              "\n",
              "    .dataframe tbody tr th {\n",
              "        vertical-align: top;\n",
              "    }\n",
              "\n",
              "    .dataframe thead th {\n",
              "        text-align: right;\n",
              "    }\n",
              "</style>\n",
              "<table border=\"1\" class=\"dataframe\">\n",
              "  <thead>\n",
              "    <tr style=\"text-align: right;\">\n",
              "      <th></th>\n",
              "      <th>Outlook</th>\n",
              "      <th>Temp</th>\n",
              "      <th>Wind</th>\n",
              "      <th>Humidity</th>\n",
              "      <th>Class</th>\n",
              "    </tr>\n",
              "  </thead>\n",
              "  <tbody>\n",
              "    <tr>\n",
              "      <th>0</th>\n",
              "      <td>R</td>\n",
              "      <td>H</td>\n",
              "      <td>F</td>\n",
              "      <td>1</td>\n",
              "      <td>0</td>\n",
              "    </tr>\n",
              "    <tr>\n",
              "      <th>1</th>\n",
              "      <td>R</td>\n",
              "      <td>H</td>\n",
              "      <td>T</td>\n",
              "      <td>2</td>\n",
              "      <td>0</td>\n",
              "    </tr>\n",
              "    <tr>\n",
              "      <th>2</th>\n",
              "      <td>O</td>\n",
              "      <td>H</td>\n",
              "      <td>F</td>\n",
              "      <td>1</td>\n",
              "      <td>1</td>\n",
              "    </tr>\n",
              "    <tr>\n",
              "      <th>3</th>\n",
              "      <td>R</td>\n",
              "      <td>M</td>\n",
              "      <td>F</td>\n",
              "      <td>1</td>\n",
              "      <td>1</td>\n",
              "    </tr>\n",
              "    <tr>\n",
              "      <th>4</th>\n",
              "      <td>S</td>\n",
              "      <td>C</td>\n",
              "      <td>F</td>\n",
              "      <td>1</td>\n",
              "      <td>1</td>\n",
              "    </tr>\n",
              "    <tr>\n",
              "      <th>5</th>\n",
              "      <td>O</td>\n",
              "      <td>C</td>\n",
              "      <td>T</td>\n",
              "      <td>0</td>\n",
              "      <td>0</td>\n",
              "    </tr>\n",
              "    <tr>\n",
              "      <th>6</th>\n",
              "      <td>O</td>\n",
              "      <td>C</td>\n",
              "      <td>T</td>\n",
              "      <td>1</td>\n",
              "      <td>1</td>\n",
              "    </tr>\n",
              "    <tr>\n",
              "      <th>7</th>\n",
              "      <td>R</td>\n",
              "      <td>M</td>\n",
              "      <td>F</td>\n",
              "      <td>1</td>\n",
              "      <td>0</td>\n",
              "    </tr>\n",
              "    <tr>\n",
              "      <th>8</th>\n",
              "      <td>O</td>\n",
              "      <td>C</td>\n",
              "      <td>F</td>\n",
              "      <td>0</td>\n",
              "      <td>1</td>\n",
              "    </tr>\n",
              "    <tr>\n",
              "      <th>9</th>\n",
              "      <td>S</td>\n",
              "      <td>M</td>\n",
              "      <td>F</td>\n",
              "      <td>2</td>\n",
              "      <td>1</td>\n",
              "    </tr>\n",
              "    <tr>\n",
              "      <th>10</th>\n",
              "      <td>R</td>\n",
              "      <td>C</td>\n",
              "      <td>T</td>\n",
              "      <td>2</td>\n",
              "      <td>0</td>\n",
              "    </tr>\n",
              "    <tr>\n",
              "      <th>11</th>\n",
              "      <td>O</td>\n",
              "      <td>M</td>\n",
              "      <td>T</td>\n",
              "      <td>0</td>\n",
              "      <td>1</td>\n",
              "    </tr>\n",
              "    <tr>\n",
              "      <th>12</th>\n",
              "      <td>O</td>\n",
              "      <td>H</td>\n",
              "      <td>F</td>\n",
              "      <td>1</td>\n",
              "      <td>1</td>\n",
              "    </tr>\n",
              "    <tr>\n",
              "      <th>13</th>\n",
              "      <td>S</td>\n",
              "      <td>M</td>\n",
              "      <td>T</td>\n",
              "      <td>1</td>\n",
              "      <td>0</td>\n",
              "    </tr>\n",
              "  </tbody>\n",
              "</table>\n",
              "</div>"
            ],
            "text/plain": [
              "   Outlook Temp Wind  Humidity  Class\n",
              "0        R    H    F         1      0\n",
              "1        R    H    T         2      0\n",
              "2        O    H    F         1      1\n",
              "3        R    M    F         1      1\n",
              "4        S    C    F         1      1\n",
              "5        O    C    T         0      0\n",
              "6        O    C    T         1      1\n",
              "7        R    M    F         1      0\n",
              "8        O    C    F         0      1\n",
              "9        S    M    F         2      1\n",
              "10       R    C    T         2      0\n",
              "11       O    M    T         0      1\n",
              "12       O    H    F         1      1\n",
              "13       S    M    T         1      0"
            ]
          },
          "metadata": {
            "tags": []
          },
          "execution_count": 93
        }
      ]
    },
    {
      "cell_type": "code",
      "metadata": {
        "colab": {
          "base_uri": "https://localhost:8080/"
        },
        "id": "zs6PC5iIJI5y",
        "outputId": "2bcd49a9-ad6c-4789-e9a1-062dc8e88e04"
      },
      "source": [
        "dataset.info()"
      ],
      "execution_count": 94,
      "outputs": [
        {
          "output_type": "stream",
          "text": [
            "<class 'pandas.core.frame.DataFrame'>\n",
            "RangeIndex: 14 entries, 0 to 13\n",
            "Data columns (total 5 columns):\n",
            " #   Column    Non-Null Count  Dtype \n",
            "---  ------    --------------  ----- \n",
            " 0   Outlook   14 non-null     object\n",
            " 1   Temp      14 non-null     object\n",
            " 2   Wind      14 non-null     object\n",
            " 3   Humidity  14 non-null     int64 \n",
            " 4   Class     14 non-null     int64 \n",
            "dtypes: int64(2), object(3)\n",
            "memory usage: 688.0+ bytes\n"
          ],
          "name": "stdout"
        }
      ]
    },
    {
      "cell_type": "code",
      "metadata": {
        "colab": {
          "base_uri": "https://localhost:8080/"
        },
        "id": "CAeQqzZ-JRRJ",
        "outputId": "e73da774-5647-49a1-f4f5-33906e785e35"
      },
      "source": [
        "start = \"\\033[1m\"\n",
        "end = \"\\033[0;0m\"\n",
        "\n",
        "print(start +\"Unique outlook values\" +end, dataset['Outlook'].unique())\n",
        "print(start +\"Unique Temp values\" +end, dataset['Temp'].unique())\n",
        "print(start +\"Unique Wind values\" +end, dataset['Wind'].unique())\n",
        "print(start +\"Unique Humidity values\" +end, dataset['Humidity'].unique())\n",
        "print(start +\"Unique Class values\" +end, dataset['Class'].unique())"
      ],
      "execution_count": 95,
      "outputs": [
        {
          "output_type": "stream",
          "text": [
            "\u001b[1mUnique outlook values\u001b[0;0m ['R' 'O' 'S']\n",
            "\u001b[1mUnique Temp values\u001b[0;0m ['H' 'M' 'C']\n",
            "\u001b[1mUnique Wind values\u001b[0;0m ['F' 'T']\n",
            "\u001b[1mUnique Humidity values\u001b[0;0m [1 2 0]\n",
            "\u001b[1mUnique Class values\u001b[0;0m [0 1]\n"
          ],
          "name": "stdout"
        }
      ]
    },
    {
      "cell_type": "code",
      "metadata": {
        "colab": {
          "base_uri": "https://localhost:8080/"
        },
        "id": "UEWZsMusKLcz",
        "outputId": "aa006279-2c00-49c8-ef29-00db70ec7cb6"
      },
      "source": [
        "print(dataset.iloc[:,0:3])\n",
        "print(dataset.dtypes)\n",
        "#creating labelEncoder\n",
        "le = LabelEncoder()\n",
        "# dataset['Outlook'] == dataset.Outlook\n",
        "dataset['Outlook'] = le.fit_transform(dataset.Outlook)\n",
        "dataset['Temp'] = le.fit_transform(dataset.Temp)\n",
        "dataset['Wind'] = le.fit_transform(dataset.Wind)\n",
        "\n",
        "print(dataset.iloc[:,0:3])\n",
        "\n",
        "print(dataset.dtypes)"
      ],
      "execution_count": 96,
      "outputs": [
        {
          "output_type": "stream",
          "text": [
            "   Outlook Temp Wind\n",
            "0        R    H    F\n",
            "1        R    H    T\n",
            "2        O    H    F\n",
            "3        R    M    F\n",
            "4        S    C    F\n",
            "5        O    C    T\n",
            "6        O    C    T\n",
            "7        R    M    F\n",
            "8        O    C    F\n",
            "9        S    M    F\n",
            "10       R    C    T\n",
            "11       O    M    T\n",
            "12       O    H    F\n",
            "13       S    M    T\n",
            "Outlook     object\n",
            "Temp        object\n",
            "Wind        object\n",
            "Humidity     int64\n",
            "Class        int64\n",
            "dtype: object\n",
            "    Outlook  Temp  Wind\n",
            "0         1     1     0\n",
            "1         1     1     1\n",
            "2         0     1     0\n",
            "3         1     2     0\n",
            "4         2     0     0\n",
            "5         0     0     1\n",
            "6         0     0     1\n",
            "7         1     2     0\n",
            "8         0     0     0\n",
            "9         2     2     0\n",
            "10        1     0     1\n",
            "11        0     2     1\n",
            "12        0     1     0\n",
            "13        2     2     1\n",
            "Outlook     int64\n",
            "Temp        int64\n",
            "Wind        int64\n",
            "Humidity    int64\n",
            "Class       int64\n",
            "dtype: object\n"
          ],
          "name": "stdout"
        }
      ]
    },
    {
      "cell_type": "code",
      "metadata": {
        "id": "ywl4uer0SFaj"
      },
      "source": [
        "labels = dataset.Class\n",
        "data_train,data_test,train_target,test_target =train_test_split(dataset.iloc[:,:-1],labels,test_size =0.05,random_state=126)\n",
        "\n",
        "# print(data_train)\n",
        "# print(\"#################\")\n",
        "# print(data_test)\n",
        "# print(\"#################\")\n",
        "# print(train_target)\n",
        "# print(\"#################\")\n",
        "# print(test_target)\n",
        "# print(\"#################\")"
      ],
      "execution_count": 97,
      "outputs": []
    },
    {
      "cell_type": "code",
      "metadata": {
        "colab": {
          "base_uri": "https://localhost:8080/"
        },
        "id": "s4bh7fZ7T0wP",
        "outputId": "60dd8872-e4f9-445f-d95b-59bdd0b19d5c"
      },
      "source": [
        "gnb = GaussianNB()\n",
        "\n",
        "#Train the model using the training sets\n",
        "gnb.fit(data_train, train_target)\n",
        "\n",
        "#Predict the response for test dataset\n",
        "target_pred = gnb.predict(data_test)\n",
        "\n",
        "print(target_pred)"
      ],
      "execution_count": 98,
      "outputs": [
        {
          "output_type": "stream",
          "text": [
            "[1]\n"
          ],
          "name": "stdout"
        }
      ]
    },
    {
      "cell_type": "code",
      "metadata": {
        "colab": {
          "base_uri": "https://localhost:8080/"
        },
        "id": "D04bosBlUaFz",
        "outputId": "ef31aba8-b43d-4f30-cdad-3ad165d07e1f"
      },
      "source": [
        "#Import scikit-learn metrics module for accuracy calculation\n",
        "from sklearn import metrics\n",
        "\n",
        "# Model Accuracy, how often is the classifier correct?\n",
        "print(\"Accuracy:\",metrics.accuracy_score(test_target, target_pred))"
      ],
      "execution_count": 99,
      "outputs": [
        {
          "output_type": "stream",
          "text": [
            "Accuracy: 1.0\n"
          ],
          "name": "stdout"
        }
      ]
    },
    {
      "cell_type": "code",
      "metadata": {
        "colab": {
          "base_uri": "https://localhost:8080/"
        },
        "id": "JsSeY_DfXZmI",
        "outputId": "6ebdfada-1a45-4a57-9eaf-87038926b10d"
      },
      "source": [
        "#Import confusion_matrix from scikit-learn metrics module for confusion_matrix\n",
        "from sklearn.metrics import confusion_matrix\n",
        "confusion_matrix(test_target, target_pred)"
      ],
      "execution_count": 100,
      "outputs": [
        {
          "output_type": "execute_result",
          "data": {
            "text/plain": [
              "array([[1]])"
            ]
          },
          "metadata": {
            "tags": []
          },
          "execution_count": 100
        }
      ]
    },
    {
      "cell_type": "code",
      "metadata": {
        "colab": {
          "base_uri": "https://localhost:8080/"
        },
        "id": "fH5R6Ld6Xf4w",
        "outputId": "1ae407a5-39ae-4c27-f65e-8c1c956dfefa"
      },
      "source": [
        "from sklearn.metrics import precision_score\n",
        "from sklearn.metrics import recall_score\n",
        "\n",
        "precision = precision_score(test_target, target_pred, average=None)\n",
        "recall = recall_score(test_target, target_pred, average=None)\n",
        "\n",
        "print('precision: {}'.format(precision))\n",
        "print('recall: {}'.format(recall))"
      ],
      "execution_count": 101,
      "outputs": [
        {
          "output_type": "stream",
          "text": [
            "precision: [1.]\n",
            "recall: [1.]\n"
          ],
          "name": "stdout"
        }
      ]
    },
    {
      "cell_type": "markdown",
      "metadata": {
        "id": "TVeAT4B5cNj-"
      },
      "source": [
        "**Outlook**\n",
        "- R -> 1\n",
        "- O -> 0\n",
        "- S -> 2\n",
        "\n",
        "**Temp**\n",
        "- H -> 1\n",
        "- M -> 2\n",
        "- C -> 0\n",
        "\n",
        "**Wind**\n",
        "- F -> 0\n",
        "- T -> 1\n",
        "\n",
        "**Humidity**\n",
        "- HIGH -> 2\n",
        "-  LOW  -> 0\n",
        "-  NORMAL -> 1"
      ]
    },
    {
      "cell_type": "markdown",
      "metadata": {
        "id": "YnK3ENltdYOf"
      },
      "source": [
        "(1) What will be the value of Play, if Outlook is ’Rainy’, Temperature is ’Mild’, Humidity =’Normal’, and Wind = ’False’?"
      ]
    },
    {
      "cell_type": "code",
      "metadata": {
        "id": "fwqghJtBdZh8"
      },
      "source": [
        "# Outlook\tTemp\tWind\tHumidit\n",
        "var1 = [1,2,0,1]\n"
      ],
      "execution_count": 102,
      "outputs": []
    },
    {
      "cell_type": "markdown",
      "metadata": {
        "id": "4iw2mQsUd3ek"
      },
      "source": [
        "(2) What will be the value of Play, if Outlook is ’Sunny’, Temeprature is ’Cool’, Humidity =’High’, and Wind = ’True’?"
      ]
    },
    {
      "cell_type": "code",
      "metadata": {
        "id": "stDGZuT6d7UK"
      },
      "source": [
        "var2 = [2,0,1,2]"
      ],
      "execution_count": 103,
      "outputs": []
    },
    {
      "cell_type": "code",
      "metadata": {
        "colab": {
          "base_uri": "https://localhost:8080/"
        },
        "id": "QUH3PnuxeHb9",
        "outputId": "bec0d169-a352-4438-e558-3cf87482530c"
      },
      "source": [
        "q1 = pd.DataFrame([var1,var2],columns=[\"Outlook\",\t\"Temp\"\t,\"Wind\",\t\"Humidity\"])\n",
        "result = gnb.predict(q1)\n",
        "print(result)"
      ],
      "execution_count": 104,
      "outputs": [
        {
          "output_type": "stream",
          "text": [
            "[1 0]\n"
          ],
          "name": "stdout"
        }
      ]
    }
  ]
}