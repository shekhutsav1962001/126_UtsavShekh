{
  "nbformat": 4,
  "nbformat_minor": 2,
  "metadata": {
    "kernelspec": {
      "display_name": "Python 3",
      "language": "python",
      "name": "python3"
    },
    "language_info": {
      "codemirror_mode": {
        "name": "ipython",
        "version": 3
      },
      "file_extension": ".py",
      "mimetype": "text/x-python",
      "name": "python",
      "nbconvert_exporter": "python",
      "pygments_lexer": "ipython3",
      "version": "3.6.6"
    },
    "colab": {
      "name": "LAB32_NB_Classifier_Iris_2Classes.ipynb",
      "provenance": []
    }
  },
  "cells": [
    {
      "cell_type": "code",
      "execution_count": null,
      "source": [
        "#Import scikit-learn dataset library\r\n",
        "import numpy as np\r\n",
        "from sklearn import datasets\r\n",
        "from sklearn.naive_bayes import GaussianNB\r\n",
        "\r\n",
        "#Load dataset\r\n",
        "iris = datasets.load_iris()"
      ],
      "outputs": [],
      "metadata": {
        "id": "ftKgi2JWx63m"
      }
    },
    {
      "cell_type": "code",
      "execution_count": null,
      "source": [
        "# print the names of the 13 features\r\n",
        "print(\"Features: \", iris.feature_names)\r\n",
        "\r\n",
        "# print the label type of wine(class_0, class_1, class_2)\r\n",
        "print(\"Labels: \", iris.target_names)\r\n",
        "\r\n",
        "# print data(feature)shape\r\n",
        "print(\"\\nData shape: \",iris.data.shape)\r\n",
        "#print data(target)shape\r\n",
        "print(\"\\nTraget shape: \",iris.target.shape)\r\n",
        "\r\n",
        "#print(\"\\nData: \",iris.data)\r\n",
        "#print(\"\\nTarget: \",iris.target)\r\n",
        "\r\n",
        "print(\"\\nData type: \",type(iris.data))\r\n",
        "\r\n",
        "newdata = iris.data[50:,:]\r\n",
        "newtarget = iris.target[50:]\r\n",
        "\r\n",
        "# print data(feature)shape\r\n",
        "print(\"\\nNew Data shape: \",newdata.shape)\r\n",
        "#print data(target)shape\r\n",
        "print(\"\\nNew Traget shape: \",newtarget.shape)"
      ],
      "outputs": [
        {
          "output_type": "stream",
          "name": "stdout",
          "text": [
            "Features:  ['sepal length (cm)', 'sepal width (cm)', 'petal length (cm)', 'petal width (cm)']\n",
            "Labels:  ['setosa' 'versicolor' 'virginica']\n",
            "\n",
            "Data shape:  (150, 4)\n",
            "\n",
            "Traget shape:  (150,)\n",
            "\n",
            "Data type:  <class 'numpy.ndarray'>\n",
            "\n",
            "New Data shape:  (100, 4)\n",
            "\n",
            "New Traget shape:  (100,)\n"
          ]
        }
      ],
      "metadata": {
        "id": "yWrO2TYwx64X",
        "colab": {
          "base_uri": "https://localhost:8080/"
        },
        "outputId": "d5f7c46f-1cf2-4796-b8f7-eb2c27e27a5c"
      }
    },
    {
      "cell_type": "code",
      "execution_count": null,
      "source": [
        "#import the necessary module\r\n",
        "from sklearn.model_selection import train_test_split\r\n",
        "\r\n",
        "#split data set into train and test sets\r\n",
        "data_train, data_test, target_train, target_test = train_test_split(newdata,\r\n",
        "                        newtarget, test_size = 0.30, random_state = 5)"
      ],
      "outputs": [],
      "metadata": {
        "id": "EdaYuJkox64x"
      }
    },
    {
      "cell_type": "code",
      "execution_count": null,
      "source": [
        "import numpy as np\r\n",
        "gnb = GaussianNB()\r\n",
        "\r\n",
        "#Train the model using the training sets\r\n",
        "gnb.fit(data_train, target_train)\r\n",
        "\r\n",
        "#Predict the response for test dataset\r\n",
        "target_pred = gnb.predict(data_test)"
      ],
      "outputs": [],
      "metadata": {
        "id": "FmoTNsSlx65C"
      }
    },
    {
      "cell_type": "code",
      "execution_count": null,
      "source": [
        "#Import scikit-learn metrics module for accuracy calculation\r\n",
        "from sklearn import metrics\r\n",
        "\r\n",
        "# Model Accuracy, how often is the classifier correct?\r\n",
        "print(\"Accuracy:\",metrics.accuracy_score(target_test, target_pred))"
      ],
      "outputs": [
        {
          "output_type": "stream",
          "name": "stdout",
          "text": [
            "Accuracy: 0.9\n"
          ]
        }
      ],
      "metadata": {
        "id": "jtEMtFlqx65S",
        "colab": {
          "base_uri": "https://localhost:8080/"
        },
        "outputId": "0c61cfb3-a1a5-4e5e-d280-f872a41eb96a"
      }
    },
    {
      "cell_type": "code",
      "execution_count": null,
      "source": [
        "#Import confusion_matrix from scikit-learn metrics module for confusion_matrix\r\n",
        "from sklearn.metrics import confusion_matrix\r\n",
        "confusion_matrix(target_test, target_pred)"
      ],
      "outputs": [
        {
          "output_type": "execute_result",
          "data": {
            "text/plain": [
              "array([[16,  1],\n",
              "       [ 2, 11]])"
            ]
          },
          "metadata": {
            "tags": []
          },
          "execution_count": 6
        }
      ],
      "metadata": {
        "id": "fs1RxGwJx65n",
        "colab": {
          "base_uri": "https://localhost:8080/"
        },
        "outputId": "b2ff3d85-ca1e-47fb-e9c1-1f626e1be111"
      }
    },
    {
      "cell_type": "code",
      "execution_count": null,
      "source": [
        "from sklearn.metrics import precision_score\r\n",
        "from sklearn.metrics import recall_score\r\n",
        "\r\n",
        "precision = precision_score(target_test, target_pred)\r\n",
        "recall = recall_score(target_test, target_pred)\r\n",
        "\r\n",
        "print('precision: {}'.format(precision))\r\n",
        "print('recall: {}'.format(recall))"
      ],
      "outputs": [
        {
          "output_type": "stream",
          "name": "stdout",
          "text": [
            "precision: 0.8888888888888888\n",
            "recall: 0.9411764705882353\n"
          ]
        }
      ],
      "metadata": {
        "id": "DZw4A-5fx654",
        "colab": {
          "base_uri": "https://localhost:8080/"
        },
        "outputId": "88506ef8-5eae-4c11-da3c-8c313c7da90b"
      }
    },
    {
      "cell_type": "code",
      "execution_count": null,
      "source": [],
      "outputs": [],
      "metadata": {
        "id": "wU1Luw79x66G"
      }
    }
  ]
}