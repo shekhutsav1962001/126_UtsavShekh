{
  "nbformat": 4,
  "nbformat_minor": 0,
  "metadata": {
    "kernelspec": {
      "display_name": "Python 3",
      "language": "python",
      "name": "python3"
    },
    "language_info": {
      "codemirror_mode": {
        "name": "ipython",
        "version": 3
      },
      "file_extension": ".py",
      "mimetype": "text/x-python",
      "name": "python",
      "nbconvert_exporter": "python",
      "pygments_lexer": "ipython3",
      "version": "3.6.6"
    },
    "colab": {
      "name": "LAB31_NB_Classifier_Whether.ipynb",
      "provenance": []
    }
  },
  "cells": [
    {
      "cell_type": "markdown",
      "metadata": {
        "id": "v-qaLkV_wIwA"
      },
      "source": [
        "**Aim: Implement Naive Bayes classifier : Whether Example**"
      ]
    },
    {
      "cell_type": "markdown",
      "metadata": {
        "id": "fE3k_I_lwE3_"
      },
      "source": [
        "#Step 1: Import necessary libraries.\n",
        "We will use preprocessing and naive bayes libraries of sklearn"
      ]
    },
    {
      "cell_type": "code",
      "metadata": {
        "id": "AX_Lt4HDvoF4"
      },
      "source": [
        "from sklearn import preprocessing\n",
        "from sklearn.naive_bayes import GaussianNB, MultinomialNB"
      ],
      "execution_count": null,
      "outputs": []
    },
    {
      "cell_type": "markdown",
      "metadata": {
        "id": "heSKGhv4wPYo"
      },
      "source": [
        "#Step 2: Prepare dataset.\n",
        "Create feature set for weather and temperature, and classlabel play."
      ]
    },
    {
      "cell_type": "code",
      "metadata": {
        "id": "YBmuKC8mvoGe"
      },
      "source": [
        "weather = ['Sunny', 'Sunny', 'Overcast', 'Rainy', 'Rainy','Rainy', 'Overcast',\n",
        "           'Sunny', 'Sunny', 'Rainy', 'Sunny', 'Overcast', 'Overcast', 'Rainy']\n",
        "\n",
        "temp = ['Hot','Hot','Hot','Mild','Cool','Cool','Cool','Mild',\n",
        "        'Cool','Mild','Mild','Mild','Hot','Mild']\n",
        "\n",
        "play=['No','No','Yes','Yes','Yes','No','Yes','No','Yes',\n",
        "      'Yes','Yes','Yes','Yes','No']"
      ],
      "execution_count": null,
      "outputs": []
    },
    {
      "cell_type": "markdown",
      "metadata": {
        "id": "VLHsDzOlwUcc"
      },
      "source": [
        "#Step 3: Digitize the data set using encoding"
      ]
    },
    {
      "cell_type": "code",
      "metadata": {
        "id": "D2Y-GxbyvoG-",
        "colab": {
          "base_uri": "https://localhost:8080/"
        },
        "outputId": "19de06aa-3ac5-4b8b-d5aa-ce156dcce89d"
      },
      "source": [
        "#creating labelEncoder\n",
        "le = preprocessing.LabelEncoder()\n",
        "\n",
        "# Converting string labels into numbers.\n",
        "weather_encoded=le.fit_transform(weather)\n",
        "print(\"Weather:\" ,weather_encoded)"
      ],
      "execution_count": null,
      "outputs": [
        {
          "output_type": "stream",
          "text": [
            "Weather: [2 2 0 1 1 1 0 2 2 1 2 0 0 1]\n"
          ],
          "name": "stdout"
        }
      ]
    },
    {
      "cell_type": "code",
      "metadata": {
        "id": "E8pKDFm8voHY",
        "colab": {
          "base_uri": "https://localhost:8080/"
        },
        "outputId": "1d3875fe-1097-4844-99e4-330db4ba1b74"
      },
      "source": [
        "temp_encoded=le.fit_transform(temp)\n",
        "label=le.fit_transform(play)\n",
        "\n",
        "print(\"Temp:\",temp_encoded)\n",
        "print(\"Play:\",label)"
      ],
      "execution_count": null,
      "outputs": [
        {
          "output_type": "stream",
          "text": [
            "Temp: [1 1 1 2 0 0 0 2 0 2 2 2 1 2]\n",
            "Play: [0 0 1 1 1 0 1 0 1 1 1 1 1 0]\n"
          ],
          "name": "stdout"
        }
      ]
    },
    {
      "cell_type": "markdown",
      "metadata": {
        "id": "1u2XKORtwckp"
      },
      "source": [
        "#Step 4: Merge different features to prepare dataset"
      ]
    },
    {
      "cell_type": "code",
      "metadata": {
        "id": "zcNtO6aUvoHs",
        "colab": {
          "base_uri": "https://localhost:8080/"
        },
        "outputId": "c6fff862-d248-4435-ab2e-641e9d58b659"
      },
      "source": [
        "#Combinig weather and temp into single listof tuples\n",
        "features=tuple(zip(weather_encoded,temp_encoded))\n",
        "print(\"Features:\",features)"
      ],
      "execution_count": null,
      "outputs": [
        {
          "output_type": "stream",
          "text": [
            "Features: ((2, 1), (2, 1), (0, 1), (1, 2), (1, 0), (1, 0), (0, 0), (2, 2), (2, 0), (1, 2), (2, 2), (0, 2), (0, 1), (1, 2))\n"
          ],
          "name": "stdout"
        }
      ]
    },
    {
      "cell_type": "markdown",
      "metadata": {
        "id": "CDOMHUccT1hA"
      },
      "source": [
        ""
      ]
    },
    {
      "cell_type": "markdown",
      "metadata": {
        "id": "ZTs-FRS5wgQs"
      },
      "source": [
        "#Step 5: Train ’Naive Bayes Classifier’"
      ]
    },
    {
      "cell_type": "code",
      "metadata": {
        "id": "6ON9ljKDvoIB",
        "colab": {
          "base_uri": "https://localhost:8080/"
        },
        "outputId": "95bc9a42-c6e2-49cd-82b2-f457b9e029c0"
      },
      "source": [
        "#Create a Classifier\n",
        "model=MultinomialNB()\n",
        "# Train the model using the training sets\n",
        "model.fit(features,label)"
      ],
      "execution_count": null,
      "outputs": [
        {
          "output_type": "execute_result",
          "data": {
            "text/plain": [
              "MultinomialNB(alpha=1.0, class_prior=None, fit_prior=True)"
            ]
          },
          "metadata": {
            "tags": []
          },
          "execution_count": 10
        }
      ]
    },
    {
      "cell_type": "markdown",
      "metadata": {
        "id": "vRuNrfolwjn4"
      },
      "source": [
        "#Step 6: Predict Output for new data"
      ]
    },
    {
      "cell_type": "code",
      "metadata": {
        "id": "Ix6AhMALvoIU",
        "colab": {
          "base_uri": "https://localhost:8080/"
        },
        "outputId": "7ea9609d-1559-4565-8311-af7a3dc692c6"
      },
      "source": [
        "#Predict Output\n",
        "predicted= model.predict([[0,2]]) # 0:Overcast, 2:Mild\n",
        "print(\"Predicted Value:\", predicted)"
      ],
      "execution_count": null,
      "outputs": [
        {
          "output_type": "stream",
          "text": [
            "Predicted Value: [1]\n"
          ],
          "name": "stdout"
        }
      ]
    },
    {
      "cell_type": "code",
      "metadata": {
        "id": "HGejlGZvvoIk",
        "colab": {
          "base_uri": "https://localhost:8080/"
        },
        "outputId": "6f44925a-4eec-49db-c6d0-6d089ba06951"
      },
      "source": [
        "predicted= model.predict([[0,1]]) # 0:Overcast, 1:Hot\n",
        "print(\"Predicted Value:\", predicted)"
      ],
      "execution_count": null,
      "outputs": [
        {
          "output_type": "stream",
          "text": [
            "Predicted Value: [1]\n"
          ],
          "name": "stdout"
        }
      ]
    },
    {
      "cell_type": "code",
      "metadata": {
        "id": "ROG6v7C_voIy",
        "colab": {
          "base_uri": "https://localhost:8080/"
        },
        "outputId": "e061a835-bb0e-4486-d66c-a19af4948799"
      },
      "source": [
        "predicted= model.predict([[2,2]]) # 2:Sunny, 2:Mild\n",
        "\n",
        "print(\"Predicted Value:\", predicted)"
      ],
      "execution_count": null,
      "outputs": [
        {
          "output_type": "stream",
          "text": [
            "Predicted Value: [1]\n"
          ],
          "name": "stdout"
        }
      ]
    },
    {
      "cell_type": "markdown",
      "metadata": {
        "id": "oKxdQNaxwoZn"
      },
      "source": [
        "#Exercise:\n",
        "\n",
        "**Manually calculate output for the following cases and compare it with system’s output.**\n",
        "\n",
        "######(1) Will you play if the temperature is 'Hot' and weather is 'overcast'?\n",
        "\n",
        "######(2) Will you play if the temperature is 'Mild' and weather is 'Sunny'?\n",
        "\n",
        "\n",
        "\n",
        "\n",
        "\n",
        "\n",
        "\n",
        "\n"
      ]
    },
    {
      "cell_type": "code",
      "metadata": {
        "colab": {
          "base_uri": "https://localhost:8080/"
        },
        "id": "RIfP-009hoeu",
        "outputId": "3c7b58b2-8bf5-421b-b51b-21825ffb8687"
      },
      "source": [
        "predicted= model.predict([[0,1]]) # 0:overcast, 1:Hot\n",
        "\n",
        "print(\"Predicted Value:\", predicted)"
      ],
      "execution_count": 16,
      "outputs": [
        {
          "output_type": "stream",
          "text": [
            "Predicted Value: [1]\n"
          ],
          "name": "stdout"
        }
      ]
    },
    {
      "cell_type": "code",
      "metadata": {
        "colab": {
          "base_uri": "https://localhost:8080/"
        },
        "id": "ZgcpL5kZiLQl",
        "outputId": "2215e4d8-9da3-424b-ff2a-33e3fc6432a4"
      },
      "source": [
        "predicted= model.predict([[2,2]]) # 2:sunny, 2:mild\n",
        "\n",
        "print(\"Predicted Value:\", predicted)"
      ],
      "execution_count": 15,
      "outputs": [
        {
          "output_type": "stream",
          "text": [
            "Predicted Value: [1]\n"
          ],
          "name": "stdout"
        }
      ]
    }
  ]
}