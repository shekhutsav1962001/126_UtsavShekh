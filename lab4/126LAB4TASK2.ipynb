{
  "nbformat": 4,
  "nbformat_minor": 0,
  "metadata": {
    "colab": {
      "name": "126LAB4TASK2.ipynb",
      "provenance": [],
      "collapsed_sections": []
    },
    "kernelspec": {
      "name": "python3",
      "display_name": "Python 3"
    },
    "language_info": {
      "name": "python"
    }
  },
  "cells": [
    {
      "cell_type": "markdown",
      "metadata": {
        "id": "pICp1Lifbmj-"
      },
      "source": [
        "**6) 126<=Rollnumber + All with No RollNumbers:**\n",
        "  #Task 1: Try the algo on Same Whether dataset - LabelEncoding of features:and Train test Division 95%-5%\n",
        "\n",
        "  #Task 2: Apply algorithm on wine dataset - LabelEncoding of features: and Train test Division 66%-34%\n",
        "  \n",
        "\n",
        "\n",
        "**Instruction for Task-1 & 2:**\n",
        "\n",
        "i) Set Random state and maximum allowed leaf of model equals to your roll number (or last 2 digit of your id -if you don't have roll number)\n",
        "\n",
        "\n",
        "**Questions: For Task - 1**\n",
        "\n",
        "(1) What will be the value of Play, if Outlook is ’Rainy’, Temperature is ’Mild’, Humidity =’Normal’, and Wind = ’False’?\n",
        "\n",
        "(2) What will be the value of Play, if Outlook is ’Sunny’, Temeprature is ’Cool’, Humidity =’High’, and Wind = ’True’?\n",
        "\n",
        "(3) Accuracy , precision and recall of both Models?\n"
      ]
    },
    {
      "cell_type": "code",
      "metadata": {
        "id": "UrL7Q9RJbpsB"
      },
      "source": [
        "# Step 1: Import necessary libraries\n",
        "from sklearn import preprocessing,tree,metrics,datasets\n",
        "from sklearn.tree import DecisionTreeClassifier\n",
        "import pandas as pd\n",
        "from sklearn.model_selection import train_test_split"
      ],
      "execution_count": 12,
      "outputs": []
    },
    {
      "cell_type": "code",
      "metadata": {
        "id": "U94-j8rOcCQd"
      },
      "source": [
        "dataset = datasets.load_wine()\n",
        "# print(dataset)"
      ],
      "execution_count": 13,
      "outputs": []
    },
    {
      "cell_type": "code",
      "metadata": {
        "colab": {
          "base_uri": "https://localhost:8080/"
        },
        "id": "Y0MUBnkFcRDL",
        "outputId": "414d5a34-f3aa-4ec4-dbac-a6e10261df60"
      },
      "source": [
        "# roll no 126\n",
        "# random state = 126\n",
        "# test = 34%\n",
        "train_data,test_data,train_label,test_label = train_test_split(dataset.data,dataset.target,random_state=126,test_size=0.34)\n",
        "print(\"[Features,Label]\\nLength of Train Set:\",len(train_data),len(train_label))\n",
        "print(\"\\nLength of Test Set:\",len(test_data),len(test_label))"
      ],
      "execution_count": 14,
      "outputs": [
        {
          "output_type": "stream",
          "text": [
            "[Features,Label]\n",
            "Length of Train Set: 117 117\n",
            "\n",
            "Length of Test Set: 61 61\n"
          ],
          "name": "stdout"
        }
      ]
    },
    {
      "cell_type": "code",
      "metadata": {
        "colab": {
          "base_uri": "https://localhost:8080/"
        },
        "id": "FSk_k9b4c8PZ",
        "outputId": "eee2bbad-e1b5-4dc2-eb9e-5341d357efba"
      },
      "source": [
        "entropy=DecisionTreeClassifier(criterion='entropy',max_leaf_nodes=126)\n",
        "entropy.fit(train_data,train_label)"
      ],
      "execution_count": 15,
      "outputs": [
        {
          "output_type": "execute_result",
          "data": {
            "text/plain": [
              "DecisionTreeClassifier(ccp_alpha=0.0, class_weight=None, criterion='entropy',\n",
              "                       max_depth=None, max_features=None, max_leaf_nodes=126,\n",
              "                       min_impurity_decrease=0.0, min_impurity_split=None,\n",
              "                       min_samples_leaf=1, min_samples_split=2,\n",
              "                       min_weight_fraction_leaf=0.0, presort='deprecated',\n",
              "                       random_state=None, splitter='best')"
            ]
          },
          "metadata": {
            "tags": []
          },
          "execution_count": 15
        }
      ]
    },
    {
      "cell_type": "code",
      "metadata": {
        "colab": {
          "base_uri": "https://localhost:8080/"
        },
        "id": "mhD1Ptx3c_Hz",
        "outputId": "340b2537-d566-4bb7-ab9f-4dcd8bfd057e"
      },
      "source": [
        "pred=entropy.predict(test_data)\n",
        "print(pred)"
      ],
      "execution_count": 16,
      "outputs": [
        {
          "output_type": "stream",
          "text": [
            "[2 2 1 1 1 2 0 1 2 1 1 2 0 2 1 0 1 1 1 2 0 1 2 0 0 0 1 1 1 2 2 0 0 2 0 0 0\n",
            " 2 1 2 0 0 1 0 2 1 0 1 0 0 2 0 0 1 0 2 0 0 1 1 1]\n"
          ],
          "name": "stdout"
        }
      ]
    },
    {
      "cell_type": "code",
      "metadata": {
        "colab": {
          "base_uri": "https://localhost:8080/",
          "height": 534
        },
        "id": "PpYiv-OQdFrS",
        "outputId": "3d8f3532-5c14-4deb-c318-9da85d5ed15f"
      },
      "source": [
        "tree.plot_tree(entropy,filled=True)"
      ],
      "execution_count": 17,
      "outputs": [
        {
          "output_type": "execute_result",
          "data": {
            "text/plain": [
              "[Text(193.15384615384616, 199.32, 'X[12] <= 755.0\\nentropy = 1.546\\nsamples = 117\\nvalue = [42, 48, 27]'),\n",
              " Text(103.01538461538462, 163.07999999999998, 'X[6] <= 1.235\\nentropy = 1.023\\nsamples = 73\\nvalue = [1, 47, 25]'),\n",
              " Text(51.50769230769231, 126.83999999999999, 'X[10] <= 0.93\\nentropy = 0.503\\nsamples = 27\\nvalue = [0, 3, 24]'),\n",
              " Text(25.753846153846155, 90.6, 'entropy = 0.0\\nsamples = 24\\nvalue = [0, 0, 24]'),\n",
              " Text(77.26153846153846, 90.6, 'entropy = 0.0\\nsamples = 3\\nvalue = [0, 3, 0]'),\n",
              " Text(154.52307692307693, 126.83999999999999, 'X[9] <= 8.4\\nentropy = 0.301\\nsamples = 46\\nvalue = [1, 44, 1]'),\n",
              " Text(128.76923076923077, 90.6, 'X[0] <= 13.175\\nentropy = 0.154\\nsamples = 45\\nvalue = [1, 44, 0]'),\n",
              " Text(103.01538461538462, 54.359999999999985, 'entropy = 0.0\\nsamples = 43\\nvalue = [0, 43, 0]'),\n",
              " Text(154.52307692307693, 54.359999999999985, 'X[6] <= 2.745\\nentropy = 1.0\\nsamples = 2\\nvalue = [1, 1, 0]'),\n",
              " Text(128.76923076923077, 18.119999999999976, 'entropy = 0.0\\nsamples = 1\\nvalue = [1, 0, 0]'),\n",
              " Text(180.27692307692308, 18.119999999999976, 'entropy = 0.0\\nsamples = 1\\nvalue = [0, 1, 0]'),\n",
              " Text(180.27692307692308, 90.6, 'entropy = 0.0\\nsamples = 1\\nvalue = [0, 0, 1]'),\n",
              " Text(283.2923076923077, 163.07999999999998, 'X[6] <= 1.605\\nentropy = 0.422\\nsamples = 44\\nvalue = [41, 1, 2]'),\n",
              " Text(257.53846153846155, 126.83999999999999, 'X[1] <= 2.59\\nentropy = 0.918\\nsamples = 3\\nvalue = [0, 1, 2]'),\n",
              " Text(231.7846153846154, 90.6, 'entropy = 0.0\\nsamples = 1\\nvalue = [0, 1, 0]'),\n",
              " Text(283.2923076923077, 90.6, 'entropy = 0.0\\nsamples = 2\\nvalue = [0, 0, 2]'),\n",
              " Text(309.04615384615386, 126.83999999999999, 'entropy = 0.0\\nsamples = 41\\nvalue = [41, 0, 0]')]"
            ]
          },
          "metadata": {
            "tags": []
          },
          "execution_count": 17
        },
        {
          "output_type": "display_data",
          "data": {
            "image/png": "[encoded data removed]",
            "text/plain": [
              "<Figure size 432x288 with 1 Axes>"
            ]
          },
          "metadata": {
            "tags": [],
            "needs_background": "light"
          }
        }
      ]
    },
    {
      "cell_type": "code",
      "metadata": {
        "colab": {
          "base_uri": "https://localhost:8080/"
        },
        "id": "-1GI3gpjdJZw",
        "outputId": "27a4f7ca-da25-4165-9131-0d1bf5292c31"
      },
      "source": [
        "print(\"Accuracy:\",metrics.accuracy_score(test_label,pred))\n",
        "print(\"\\nPrecision:\",metrics.precision_score(test_label,pred,average='micro'))\n",
        "print(\"\\nRecall:\",metrics.recall_score(test_label,pred,average='micro'))"
      ],
      "execution_count": 18,
      "outputs": [
        {
          "output_type": "stream",
          "text": [
            "Accuracy: 0.819672131147541\n",
            "\n",
            "Precision: 0.819672131147541\n",
            "\n",
            "Recall: 0.819672131147541\n"
          ],
          "name": "stdout"
        }
      ]
    },
    {
      "cell_type": "code",
      "metadata": {
        "colab": {
          "base_uri": "https://localhost:8080/",
          "height": 296
        },
        "id": "SUmrGO3JdOHs",
        "outputId": "d16284ab-9fde-4873-f0bc-7c9e7d5657f6"
      },
      "source": [
        "metrics.plot_confusion_matrix(entropy,test_data,test_label)"
      ],
      "execution_count": 19,
      "outputs": [
        {
          "output_type": "execute_result",
          "data": {
            "text/plain": [
              "<sklearn.metrics._plot.confusion_matrix.ConfusionMatrixDisplay at 0x7f73e00a0350>"
            ]
          },
          "metadata": {
            "tags": []
          },
          "execution_count": 19
        },
        {
          "output_type": "display_data",
          "data": {
            "image/png": "[encoded data removed]",
            "text/plain": [
              "<Figure size 432x288 with 2 Axes>"
            ]
          },
          "metadata": {
            "tags": [],
            "needs_background": "light"
          }
        }
      ]
    }
  ]
}