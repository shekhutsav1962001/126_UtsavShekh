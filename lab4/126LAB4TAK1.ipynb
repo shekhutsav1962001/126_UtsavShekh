{
  "nbformat": 4,
  "nbformat_minor": 0,
  "metadata": {
    "colab": {
      "name": "126LAB4TAK1.ipynb",
      "provenance": [],
      "collapsed_sections": []
    },
    "kernelspec": {
      "name": "python3",
      "display_name": "Python 3"
    },
    "language_info": {
      "name": "python"
    }
  },
  "cells": [
    {
      "cell_type": "markdown",
      "metadata": {
        "id": "zhBLhOYKUzcb"
      },
      "source": [
        "**6) 126<=Rollnumber + All with No RollNumbers:**\n",
        "  #Task 1: Try the algo on Same Whether dataset - LabelEncoding of features:and Train test Division 95%-5%\n",
        "\n",
        "  #Task 2: Apply algorithm on wine dataset - LabelEncoding of features: and Train test Division 66%-34%\n",
        "  \n",
        "\n",
        "\n",
        "**Instruction for Task-1 & 2:**\n",
        "\n",
        "i) Set Random state and maximum allowed leaf of model equals to your roll number (or last 2 digit of your id -if you don't have roll number)\n",
        "\n",
        "\n",
        "**Questions: For Task - 1**\n",
        "\n",
        "(1) What will be the value of Play, if Outlook is ’Rainy’, Temperature is ’Mild’, Humidity =’Normal’, and Wind = ’False’?\n",
        "\n",
        "(2) What will be the value of Play, if Outlook is ’Sunny’, Temeprature is ’Cool’, Humidity =’High’, and Wind = ’True’?\n",
        "\n",
        "(3) Accuracy , precision and recall of both Models?\n"
      ]
    },
    {
      "cell_type": "code",
      "metadata": {
        "id": "ND5wKZ3EU4hc"
      },
      "source": [
        "# Step 1: Import necessary libraries\n",
        "from sklearn import preprocessing,tree,metrics\n",
        "from sklearn.tree import DecisionTreeClassifier\n",
        "import pandas as pd\n",
        "from sklearn.model_selection import train_test_split"
      ],
      "execution_count": 16,
      "outputs": []
    },
    {
      "cell_type": "code",
      "metadata": {
        "id": "r20hGDAvVDWX"
      },
      "source": [
        "# Step 2: Prepare dataset.\n",
        "#Predictor variables\n",
        "Outlook = ['Rainy', 'Rainy', 'Overcast', 'Sunny', 'Sunny', 'Sunny', 'Overcast',\n",
        "            'Rainy', 'Rainy', 'Sunny', 'Rainy','Overcast', 'Overcast', 'Sunny']\n",
        "Temperature = ['Hot', 'Hot', 'Hot', 'Mild', 'Cool', 'Cool', 'Cool',\n",
        "                'Mild', 'Cool', 'Mild', 'Mild', 'Mild', 'Hot', 'Mild']\n",
        "Humidity = ['High', 'High', 'High', 'High', 'Normal', 'Normal', 'Normal',\n",
        "            'High', 'Normal', 'Normal', 'Normal', 'High', 'Normal', 'High']\n",
        "Wind = ['False', 'True', 'False', 'False', 'False', 'True', 'True',\n",
        "            'False', 'False', 'False', 'True', 'True', 'False', 'True']\n",
        "\n",
        "#Class Label:\n",
        "Play = ['No', 'No', 'Yes', 'Yes', 'Yes', 'No', 'Yes', 'No',\n",
        "'Yes', 'Yes', 'Yes', 'Yes', 'Yes', 'No']"
      ],
      "execution_count": 17,
      "outputs": []
    },
    {
      "cell_type": "code",
      "metadata": {
        "colab": {
          "base_uri": "https://localhost:8080/"
        },
        "id": "AzxXcH5sVOeg",
        "outputId": "ead00f3a-dec9-4798-cdf6-dfa2fd31a616"
      },
      "source": [
        "# Step 3: Digitize the data set using encoding\n",
        "#creating labelEncoder\n",
        "le = preprocessing.LabelEncoder()\n",
        "\n",
        "# Converting string labels into numbers.\n",
        "Outlook_encoded = le.fit_transform(Outlook)\n",
        "Outlook_name_mapping = dict(zip(le.classes_, le.transform(le.classes_)))\n",
        "print(\"Outllok mapping:\",Outlook_name_mapping)\n",
        "\n",
        "Temperature_encoded = le.fit_transform(Temperature)\n",
        "Temperature_name_mapping = dict(zip(le.classes_, le.transform(le.classes_)))\n",
        "print(\"Temperature mapping:\",Temperature_name_mapping)\n",
        "\n",
        "Humidity_encoded = le.fit_transform(Humidity)\n",
        "Humidity_name_mapping = dict(zip(le.classes_, le.transform(le.classes_)))\n",
        "print(\"Humidity mapping:\",Humidity_name_mapping)\n",
        "\n",
        "Wind_encoded = le.fit_transform(Wind)\n",
        "Wind_name_mapping = dict(zip(le.classes_, le.transform(le.classes_)))\n",
        "print(\"Wind mapping:\",Wind_name_mapping)\n",
        "\n",
        "Play_encoded = le.fit_transform(Play)\n",
        "Play_name_mapping = dict(zip(le.classes_, le.transform(le.classes_)))\n",
        "print(\"Play mapping:\",Play_name_mapping)\n",
        "\n",
        "print(\"\\n\\n\")\n",
        "print(\"Weather:\" ,Outlook_encoded)\n",
        "print(\"Temerature:\" ,Temperature_encoded)\n",
        "print(\"Humidity:\" ,Humidity_encoded)\n",
        "print(\"Wind:\" ,Wind_encoded)\n",
        "print(\"Play:\" ,Play_encoded)"
      ],
      "execution_count": 18,
      "outputs": [
        {
          "output_type": "stream",
          "text": [
            "Outllok mapping: {'Overcast': 0, 'Rainy': 1, 'Sunny': 2}\n",
            "Temperature mapping: {'Cool': 0, 'Hot': 1, 'Mild': 2}\n",
            "Humidity mapping: {'High': 0, 'Normal': 1}\n",
            "Wind mapping: {'False': 0, 'True': 1}\n",
            "Play mapping: {'No': 0, 'Yes': 1}\n",
            "\n",
            "\n",
            "\n",
            "Weather: [1 1 0 2 2 2 0 1 1 2 1 0 0 2]\n",
            "Temerature: [1 1 1 2 0 0 0 2 0 2 2 2 1 2]\n",
            "Humidity: [0 0 0 0 1 1 1 0 1 1 1 0 1 0]\n",
            "Wind: [0 1 0 0 0 1 1 0 0 0 1 1 0 1]\n",
            "Play: [0 0 1 1 1 0 1 0 1 1 1 1 1 0]\n"
          ],
          "name": "stdout"
        }
      ]
    },
    {
      "cell_type": "code",
      "metadata": {
        "colab": {
          "base_uri": "https://localhost:8080/"
        },
        "id": "dEELWZoHVaRK",
        "outputId": "64308008-a99b-4139-b619-560543e1e816"
      },
      "source": [
        "# Step 4: Merge different features to prepare dataset\n",
        "\n",
        "features = tuple(zip(Outlook_encoded,Temperature_encoded,Humidity_encoded,Wind_encoded))\n",
        "print(\"Features :-\",features)"
      ],
      "execution_count": 19,
      "outputs": [
        {
          "output_type": "stream",
          "text": [
            "Features :- ((1, 1, 0, 0), (1, 1, 0, 1), (0, 1, 0, 0), (2, 2, 0, 0), (2, 0, 1, 0), (2, 0, 1, 1), (0, 0, 1, 1), (1, 2, 0, 0), (1, 0, 1, 0), (2, 2, 1, 0), (1, 2, 1, 1), (0, 2, 0, 1), (0, 1, 1, 0), (2, 2, 0, 1))\n"
          ],
          "name": "stdout"
        }
      ]
    },
    {
      "cell_type": "code",
      "metadata": {
        "colab": {
          "base_uri": "https://localhost:8080/"
        },
        "id": "nWmRdtJwVrYz",
        "outputId": "57748d68-2170-476a-94f9-abd659517f72"
      },
      "source": [
        "# roll no 126 random state = 126\n",
        "# test = 5% \n",
        "train_data,test_data,train_label,test_label = train_test_split(features,Play_encoded,random_state=126,test_size=0.05)\n",
        "print(\"[Features,Label]\\nLength of Train Set:\",len(train_data),len(train_label))\n",
        "print(\"\\nLength of Test Set:\",len(test_data),len(test_label))"
      ],
      "execution_count": 20,
      "outputs": [
        {
          "output_type": "stream",
          "text": [
            "[Features,Label]\n",
            "Length of Train Set: 13 13\n",
            "\n",
            "Length of Test Set: 1 1\n"
          ],
          "name": "stdout"
        }
      ]
    },
    {
      "cell_type": "code",
      "metadata": {
        "id": "kiwXBRszWz_w"
      },
      "source": [
        "# Step 5: Train ’Create and Train DecisionTreeClassifier’\n",
        "\n",
        "#Create a Decision Tree Classifier (using Entropy)\n",
        "\n",
        "entropy = DecisionTreeClassifier(criterion='entropy')\n",
        "entropy.fit(train_data,train_label)\n",
        "\n",
        "target_pred = entropy.predict(test_data)\n",
        "# Train the model using the training sets\n"
      ],
      "execution_count": 30,
      "outputs": []
    },
    {
      "cell_type": "code",
      "metadata": {
        "colab": {
          "base_uri": "https://localhost:8080/"
        },
        "id": "MfmtI93fXAcD",
        "outputId": "fdf3ac5a-42f2-4609-b3e3-8af1abd14d7a"
      },
      "source": [
        "# Step 6: Predict Output for new data\n",
        "\n",
        "#Predict Output\n",
        "# (1) What will be the value of Play, if Outlook is ’Rainy’, Temperature is ’Mild’, Humidity =’Normal’, and Wind = ’False’?\n",
        "# (2) What will be the value of Play, if Outlook is ’Sunny’, Temeprature is ’Cool’, Humidity =’High’, and Wind = ’True’?\n",
        "\n",
        "\n",
        "predicted = entropy.predict([[1,2,1,0],[2,0,0,1]])\n",
        "print(\"Predicted values :-\",predicted)"
      ],
      "execution_count": 22,
      "outputs": [
        {
          "output_type": "stream",
          "text": [
            "Predicted values :- [1 0]\n"
          ],
          "name": "stdout"
        }
      ]
    },
    {
      "cell_type": "code",
      "metadata": {
        "colab": {
          "base_uri": "https://localhost:8080/",
          "height": 466
        },
        "id": "7_huv3F7XuTT",
        "outputId": "153596c5-fb04-409c-de4d-a2f91117c3cc"
      },
      "source": [
        "tree.plot_tree(entropy,filled=True)"
      ],
      "execution_count": 23,
      "outputs": [
        {
          "output_type": "execute_result",
          "data": {
            "text/plain": [
              "[Text(133.92000000000002, 195.696, 'X[0] <= 0.5\\nentropy = 0.961\\nsamples = 13\\nvalue = [5, 8]'),\n",
              " Text(100.44000000000001, 152.208, 'entropy = 0.0\\nsamples = 4\\nvalue = [0, 4]'),\n",
              " Text(167.40000000000003, 152.208, 'X[2] <= 0.5\\nentropy = 0.991\\nsamples = 9\\nvalue = [5, 4]'),\n",
              " Text(66.96000000000001, 108.72, 'X[0] <= 1.5\\nentropy = 0.722\\nsamples = 5\\nvalue = [4, 1]'),\n",
              " Text(33.480000000000004, 65.232, 'entropy = 0.0\\nsamples = 3\\nvalue = [3, 0]'),\n",
              " Text(100.44000000000001, 65.232, 'X[3] <= 0.5\\nentropy = 1.0\\nsamples = 2\\nvalue = [1, 1]'),\n",
              " Text(66.96000000000001, 21.744, 'entropy = 0.0\\nsamples = 1\\nvalue = [0, 1]'),\n",
              " Text(133.92000000000002, 21.744, 'entropy = 0.0\\nsamples = 1\\nvalue = [1, 0]'),\n",
              " Text(267.84000000000003, 108.72, 'X[1] <= 1.0\\nentropy = 0.811\\nsamples = 4\\nvalue = [1, 3]'),\n",
              " Text(234.36, 65.232, 'X[3] <= 0.5\\nentropy = 1.0\\nsamples = 2\\nvalue = [1, 1]'),\n",
              " Text(200.88000000000002, 21.744, 'entropy = 0.0\\nsamples = 1\\nvalue = [0, 1]'),\n",
              " Text(267.84000000000003, 21.744, 'entropy = 0.0\\nsamples = 1\\nvalue = [1, 0]'),\n",
              " Text(301.32000000000005, 65.232, 'entropy = 0.0\\nsamples = 2\\nvalue = [0, 2]')]"
            ]
          },
          "metadata": {
            "tags": []
          },
          "execution_count": 23
        },
        {
          "output_type": "display_data",
          "data": {
            "image/png": "[encoded data removed]",
            "text/plain": [
              "<Figure size 432x288 with 1 Axes>"
            ]
          },
          "metadata": {
            "tags": [],
            "needs_background": "light"
          }
        }
      ]
    },
    {
      "cell_type": "code",
      "metadata": {
        "colab": {
          "base_uri": "https://localhost:8080/"
        },
        "id": "yalTp42SXvsN",
        "outputId": "1dcec0b3-3371-4978-c4ed-e8952fe44a94"
      },
      "source": [
        "from sklearn import metrics\n",
        "\n",
        "print(\"Accuracy:\",metrics.accuracy_score(test_label, target_pred))\n",
        "print(\"\\nPrecision:\",metrics.precision_score(test_label,target_pred,average='micro'))\n",
        "print(\"\\nRecall:\",metrics.recall_score(test_label,target_pred,average='micro'))"
      ],
      "execution_count": 32,
      "outputs": [
        {
          "output_type": "stream",
          "text": [
            "Accuracy: 1.0\n",
            "\n",
            "Precision: 1.0\n",
            "\n",
            "Recall: 1.0\n"
          ],
          "name": "stdout"
        }
      ]
    }
  ]
}