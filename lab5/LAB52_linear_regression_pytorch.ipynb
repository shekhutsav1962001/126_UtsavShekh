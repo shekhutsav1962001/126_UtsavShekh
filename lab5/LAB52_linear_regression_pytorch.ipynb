{
  "nbformat": 4,
  "nbformat_minor": 0,
  "metadata": {
    "kernelspec": {
      "name": "python3",
      "display_name": "Python 3.8.8 64-bit ('MFE': conda)"
    },
    "language_info": {
      "name": "python",
      "version": "3.8.8",
      "mimetype": "text/x-python",
      "codemirror_mode": {
        "name": "ipython",
        "version": 3
      },
      "pygments_lexer": "ipython3",
      "nbconvert_exporter": "python",
      "file_extension": ".py"
    },
    "colab": {
      "name": "LAB52-linear-regression-pytorch.ipynb",
      "provenance": [],
      "collapsed_sections": []
    },
    "interpreter": {
      "hash": "6cd9a464138fc6ccabc335c6117ac38c085d16cbe40298286e63ec121b3c4a6a"
    }
  },
  "cells": [
    {
      "cell_type": "code",
      "metadata": {
        "_cell_guid": "79c7e3d0-c299-4dcb-8224-4455121ee9b0",
        "_uuid": "d629ff2d2480ee46fbb7e2d37f6b5fab8052498a",
        "trusted": true,
        "id": "v0BtAX1--7l_"
      },
      "source": [
        "# Import Numpy & PyTorch\n",
        "import numpy as np\n",
        "import torch"
      ],
      "execution_count": 35,
      "outputs": []
    },
    {
      "cell_type": "markdown",
      "metadata": {
        "_uuid": "ecc6e79cdfb6a8ca882895ccc895b61b960b0a04",
        "id": "i1HSrBDb-7t9"
      },
      "source": [
        "## Linear Regression Model using PyTorch built-ins\n",
        "\n",
        "Let's re-implement the same model using some built-in functions and classes from PyTorch.\n",
        "\n",
        "And now using two different targets: Apples and Oranges"
      ]
    },
    {
      "cell_type": "code",
      "metadata": {
        "trusted": true,
        "_uuid": "ce66cf0d09a3f38bf2f00ea40418c56d98f1f814",
        "id": "iXiEK54j-7t-"
      },
      "source": [
        "# Imports\n",
        "import torch.nn as nn"
      ],
      "execution_count": 36,
      "outputs": []
    },
    {
      "cell_type": "code",
      "metadata": {
        "trusted": true,
        "_uuid": "74bb18bd01ac809079eeb8d05695206e8ba02069",
        "id": "wCsxgTWO-7uM"
      },
      "source": [
        "# Input (temp, rainfall, humidity)\n",
        "inputs = np.array([[73, 67, 43], [91, 88, 64], [87, 134, 58], [102, 43, 37], [69, 96, 70], [73, 67, 43], [91, 88, 64], [87, 134, 58], [102, 43, 37], [69, 96, 70], [73, 67, 43], [91, 88, 64], [87, 134, 58], [102, 43, 37], [69, 96, 70]], dtype='float32')\n",
        "# Targets (apples, oranges)\n",
        "targets = np.array([[56, 70], [81, 101], [119, 133], [22, 37], [103, 119], \n",
        "                    [56, 70], [81, 101], [119, 133], [22, 37], [103, 119], \n",
        "                    [56, 70], [81, 101], [119, 133], [22, 37], [103, 119]], dtype='float32')"
      ],
      "execution_count": 37,
      "outputs": []
    },
    {
      "cell_type": "code",
      "metadata": {
        "trusted": true,
        "_uuid": "d94b355f55250e9c7dcff668920f02d7c5c04925",
        "id": "nJRlm4-N-7uY"
      },
      "source": [
        "inputs = torch.from_numpy(inputs)\n",
        "targets = torch.from_numpy(targets)"
      ],
      "execution_count": 38,
      "outputs": []
    },
    {
      "cell_type": "markdown",
      "metadata": {
        "_uuid": "a0665466eb5401f40a816b323a34450b2c052c41",
        "id": "O6JT5Ng6-7uj"
      },
      "source": [
        "### Dataset and DataLoader\n",
        "\n",
        "We'll create a `TensorDataset`, which allows access to rows from `inputs` and `targets` as tuples. We'll also create a DataLoader, to split the data into batches while training. It also provides other utilities like shuffling and sampling."
      ]
    },
    {
      "cell_type": "code",
      "metadata": {
        "trusted": true,
        "_uuid": "206f5fd0473386476b23477bf38d2c327b6376c9",
        "id": "iGYdbuWc-7ul"
      },
      "source": [
        "# Import tensor dataset & data loader\n",
        "from torch.utils.data import TensorDataset, DataLoader"
      ],
      "execution_count": 39,
      "outputs": []
    },
    {
      "cell_type": "code",
      "metadata": {
        "trusted": true,
        "_uuid": "c47a4f2f86fda3918094e01cf7ab0698bbb5acc7",
        "id": "LY_cq6Bf-7ux",
        "colab": {
          "base_uri": "https://localhost:8080/"
        },
        "outputId": "672fa525-dd78-4ad5-b7e1-3e103a5e5bd6"
      },
      "source": [
        "# Define dataset\n",
        "dataset = TensorDataset(inputs, targets)\n",
        "dataset[0:3]"
      ],
      "execution_count": 40,
      "outputs": [
        {
          "output_type": "execute_result",
          "data": {
            "text/plain": [
              "(tensor([[ 73.,  67.,  43.],\n",
              "         [ 91.,  88.,  64.],\n",
              "         [ 87., 134.,  58.]]), tensor([[ 56.,  70.],\n",
              "         [ 81., 101.],\n",
              "         [119., 133.]]))"
            ]
          },
          "metadata": {
            "tags": []
          },
          "execution_count": 40
        }
      ]
    },
    {
      "cell_type": "code",
      "metadata": {
        "trusted": true,
        "_uuid": "0a2f69126319d738b82ae67d5d404ecd6161bfac",
        "id": "I-_dMpco-7u-",
        "colab": {
          "base_uri": "https://localhost:8080/"
        },
        "outputId": "fe52ea1a-db9c-4406-d298-f40228ac4044"
      },
      "source": [
        "# Define data loader\n",
        "batch_size = 5\n",
        "DL = DataLoader(dataset, batch_size, shuffle=True)\n",
        "next(iter(DL))"
      ],
      "execution_count": 41,
      "outputs": [
        {
          "output_type": "execute_result",
          "data": {
            "text/plain": [
              "[tensor([[ 73.,  67.,  43.],\n",
              "         [ 87., 134.,  58.],\n",
              "         [ 91.,  88.,  64.],\n",
              "         [ 73.,  67.,  43.],\n",
              "         [ 87., 134.,  58.]]), tensor([[ 56.,  70.],\n",
              "         [119., 133.],\n",
              "         [ 81., 101.],\n",
              "         [ 56.,  70.],\n",
              "         [119., 133.]])]"
            ]
          },
          "metadata": {
            "tags": []
          },
          "execution_count": 41
        }
      ]
    },
    {
      "cell_type": "markdown",
      "metadata": {
        "_uuid": "276a262e1b9e3a048bcd32989013f9c501c59037",
        "id": "Dq8gUbVx-7vK"
      },
      "source": [
        "### nn.Linear\n",
        "Instead of initializing the weights & biases manually, we can define the model using `nn.Linear`."
      ]
    },
    {
      "cell_type": "code",
      "metadata": {
        "trusted": true,
        "_uuid": "59da3506559a0640d80d18f77b02726a1757be2f",
        "id": "sKa873ZD-7vN",
        "colab": {
          "base_uri": "https://localhost:8080/"
        },
        "outputId": "1da2b892-2bd7-4e70-c840-0a8c10dd4a26"
      },
      "source": [
        "# Define model\n",
        "final_model = nn.Linear(3, 2)\n",
        "print(final_model.weight, end=\"\\n---------\\n\")\n",
        "print(final_model.bias)"
      ],
      "execution_count": 42,
      "outputs": [
        {
          "output_type": "stream",
          "text": [
            "Parameter containing:\n",
            "tensor([[ 0.0515,  0.0868, -0.0216],\n",
            "        [-0.3840,  0.0059,  0.5498]], requires_grad=True)\n",
            "---------\n",
            "Parameter containing:\n",
            "tensor([-0.5346, -0.3781], requires_grad=True)\n"
          ],
          "name": "stdout"
        }
      ]
    },
    {
      "cell_type": "markdown",
      "metadata": {
        "_uuid": "b3a4a8c499a4680f2533329712de034671dd1cdd",
        "id": "rku14lz3-7vX"
      },
      "source": [
        "### Optimizer\n",
        "Instead of manually manipulating the weights & biases using gradients, we can use the optimizer `optim.SGD`."
      ]
    },
    {
      "cell_type": "code",
      "metadata": {
        "trusted": true,
        "_uuid": "1848398bd1ced8c25a7bb55612cf32a774500280",
        "id": "Yd4H-T8g-7va"
      },
      "source": [
        "# Define optimizer\n",
        "opt = torch.optim.SGD(final_model.parameters(), lr=1e-5)"
      ],
      "execution_count": 43,
      "outputs": []
    },
    {
      "cell_type": "markdown",
      "metadata": {
        "_uuid": "28cbe62be55010bd11b31d819cff38da5a772b18",
        "id": "V2ktEA-C-7vl"
      },
      "source": [
        "### Loss Function\n",
        "Instead of defining a loss function manually, we can use the built-in loss function `mse_loss`."
      ]
    },
    {
      "cell_type": "code",
      "metadata": {
        "trusted": true,
        "_uuid": "69d7f4e8e27ccd077f711da27f8bede8aa711893",
        "id": "TF2xmzgO-7vo"
      },
      "source": [
        "# Import nn.functional\n",
        "import torch.nn.functional as F"
      ],
      "execution_count": 44,
      "outputs": []
    },
    {
      "cell_type": "code",
      "metadata": {
        "trusted": true,
        "_uuid": "a02ff888ed4be720fd9ca376022d8fdcf2559683",
        "id": "hSgxvr8N-7vz"
      },
      "source": [
        "# Define loss function\n",
        "loss_fn = F.mse_loss"
      ],
      "execution_count": 45,
      "outputs": []
    },
    {
      "cell_type": "code",
      "metadata": {
        "trusted": true,
        "_uuid": "a540adf76725ea9968025f6c029fdd251bdada6c",
        "id": "9vyVL5io-7wA",
        "colab": {
          "base_uri": "https://localhost:8080/"
        },
        "outputId": "b45d461e-b0bb-47c1-aaed-06774796aa9b"
      },
      "source": [
        "loss = loss_fn(final_model(inputs) , targets)\n",
        "print(loss)"
      ],
      "execution_count": 46,
      "outputs": [
        {
          "output_type": "stream",
          "text": [
            "tensor(7529.5132, grad_fn=<MseLossBackward>)\n"
          ],
          "name": "stdout"
        }
      ]
    },
    {
      "cell_type": "markdown",
      "metadata": {
        "_uuid": "e833614a69ff18c554a3d89f643ae2f11e0260f6",
        "id": "9jbPdkiO-7wM"
      },
      "source": [
        "### Train the model\n",
        "\n",
        "We are ready to train the model now. We can define a utility function `fit` which trains the model for a given number of epochs."
      ]
    },
    {
      "cell_type": "code",
      "metadata": {
        "trusted": true,
        "_uuid": "128bc7260221f5338edf8b503c75f0c7d1cce7e8",
        "id": "zDnWui7g-7wP"
      },
      "source": [
        "# Define a utility function to train the model\n",
        "def fit(num_epochs, final_model, loss_fn, opt):\n",
        "    for epoch in range(num_epochs):\n",
        "        for xb,yb in DL:\n",
        "            # Generate predictions\n",
        "            pred = final_model(xb)\n",
        "            loss = loss_fn(pred,yb)\n",
        "            # Perform gradient descent\n",
        "            loss.backward()\n",
        "            opt.step()\n",
        "            opt.zero_grad()\n",
        "    print('Training loss: ', loss_fn(final_model(inputs), targets))"
      ],
      "execution_count": 47,
      "outputs": []
    },
    {
      "cell_type": "code",
      "metadata": {
        "trusted": true,
        "_uuid": "ae8ca4686cf6a68f6c9ca93bf3d227abe96c2201",
        "id": "Gd8tiT_q-7wa",
        "colab": {
          "base_uri": "https://localhost:8080/"
        },
        "outputId": "fe3b7bbc-801f-4510-8542-712019e8c28a"
      },
      "source": [
        "# Train the model for 100 epochs\n",
        "fit(100 , final_model , loss_fn, opt)"
      ],
      "execution_count": 48,
      "outputs": [
        {
          "output_type": "stream",
          "text": [
            "Training loss:  tensor(13.3286, grad_fn=<MseLossBackward>)\n"
          ],
          "name": "stdout"
        }
      ]
    },
    {
      "cell_type": "code",
      "metadata": {
        "trusted": true,
        "_uuid": "32588a47d0478772a1f08fa55874a322630bd0b6",
        "id": "c3Bf-Emn-7wj",
        "colab": {
          "base_uri": "https://localhost:8080/"
        },
        "outputId": "46c9436e-b31a-4f98-c9fa-8684bec0fdfc"
      },
      "source": [
        "# Generate predictions\n",
        "preds = final_model(inputs)\n",
        "preds"
      ],
      "execution_count": 49,
      "outputs": [
        {
          "output_type": "execute_result",
          "data": {
            "text/plain": [
              "tensor([[ 58.3657,  70.7953],\n",
              "        [ 80.5918, 100.9532],\n",
              "        [120.3075, 131.4089],\n",
              "        [ 28.4358,  40.2996],\n",
              "        [ 94.7227, 117.6485],\n",
              "        [ 58.3657,  70.7953],\n",
              "        [ 80.5918, 100.9532],\n",
              "        [120.3075, 131.4089],\n",
              "        [ 28.4358,  40.2996],\n",
              "        [ 94.7227, 117.6485],\n",
              "        [ 58.3657,  70.7953],\n",
              "        [ 80.5918, 100.9532],\n",
              "        [120.3075, 131.4089],\n",
              "        [ 28.4358,  40.2996],\n",
              "        [ 94.7227, 117.6485]], grad_fn=<AddmmBackward>)"
            ]
          },
          "metadata": {
            "tags": []
          },
          "execution_count": 49
        }
      ]
    },
    {
      "cell_type": "code",
      "metadata": {
        "trusted": true,
        "_uuid": "12d757c0f37c2e3af65cf9d4b59878cc10c65acf",
        "id": "_gDGmiHl-7wr",
        "colab": {
          "base_uri": "https://localhost:8080/"
        },
        "outputId": "55984b07-a27b-43ac-db40-7df183412a60"
      },
      "source": [
        "# Compare with targets\n",
        "targets"
      ],
      "execution_count": 50,
      "outputs": [
        {
          "output_type": "execute_result",
          "data": {
            "text/plain": [
              "tensor([[ 56.,  70.],\n",
              "        [ 81., 101.],\n",
              "        [119., 133.],\n",
              "        [ 22.,  37.],\n",
              "        [103., 119.],\n",
              "        [ 56.,  70.],\n",
              "        [ 81., 101.],\n",
              "        [119., 133.],\n",
              "        [ 22.,  37.],\n",
              "        [103., 119.],\n",
              "        [ 56.,  70.],\n",
              "        [ 81., 101.],\n",
              "        [119., 133.],\n",
              "        [ 22.,  37.],\n",
              "        [103., 119.]])"
            ]
          },
          "metadata": {
            "tags": []
          },
          "execution_count": 50
        }
      ]
    },
    {
      "cell_type": "markdown",
      "metadata": {
        "_uuid": "2448d9832722f4f2813f8bd80b91daefd901dc2e",
        "id": "b9nvUidI-7xD"
      },
      "source": [
        "Now we can define the model, optimizer and loss function exactly as before."
      ]
    },
    {
      "cell_type": "code",
      "metadata": {
        "trusted": true,
        "_uuid": "e94de6868c76803a998c1c1934ed229c826f3b8c",
        "id": "d3esiKz3-7xT",
        "colab": {
          "base_uri": "https://localhost:8080/"
        },
        "outputId": "4650b75c-8812-4992-d462-065546eadf1c"
      },
      "source": [
        "fit(100 , final_model , loss_fn, opt)"
      ],
      "execution_count": 51,
      "outputs": [
        {
          "output_type": "stream",
          "text": [
            "Training loss:  tensor(4.0251, grad_fn=<MseLossBackward>)\n"
          ],
          "name": "stdout"
        }
      ]
    },
    {
      "cell_type": "markdown",
      "metadata": {
        "id": "eAyCq48TMlWJ"
      },
      "source": [
        "#Exercise 1:\n",
        " Try Linear Regression just using numpy (Without Tensorflow/Pytorch or other torch library). You can optionally use sklearn (if you want)\n",
        "#Exercise 2:\n",
        " Try Linear regression on same prediction data using Tensorflow\n",
        "\n",
        " "
      ]
    }
  ]
}