{
  "nbformat": 4,
  "nbformat_minor": 0,
  "metadata": {
    "orig_nbformat": 4,
    "language_info": {
      "name": "python",
      "version": "3.8.8",
      "mimetype": "text/x-python",
      "codemirror_mode": {
        "name": "ipython",
        "version": 3
      },
      "pygments_lexer": "ipython3",
      "nbconvert_exporter": "python",
      "file_extension": ".py"
    },
    "kernelspec": {
      "name": "python3",
      "display_name": "Python 3.8.8 64-bit ('MFE': conda)"
    },
    "interpreter": {
      "hash": "6cd9a464138fc6ccabc335c6117ac38c085d16cbe40298286e63ec121b3c4a6a"
    },
    "colab": {
      "name": "126_exercise_1_linear-regression-numpy.ipynb",
      "provenance": [],
      "collapsed_sections": []
    }
  },
  "cells": [
    {
      "cell_type": "code",
      "metadata": {
        "id": "Pqvgim9MFHam"
      },
      "source": [
        "import numpy as np"
      ],
      "execution_count": 17,
      "outputs": []
    },
    {
      "cell_type": "markdown",
      "metadata": {
        "id": "MrFvL02OFHaq"
      },
      "source": [
        "## Training Data"
      ]
    },
    {
      "cell_type": "code",
      "metadata": {
        "id": "iwiuhtqAFHat"
      },
      "source": [
        "# Input (temp, rainfall, humidity)\n",
        "inputs = np.array([[73, 67, 43], [91, 88, 64], [87, 134, 58], [102, 43, 37], [69, 96, 70], [73, 67, 43], [91, 88, 64], [87, 134, 58], [102, 43, 37], [69, 96, 70], [73, 67, 43], [91, 88, 64], [87, 134, 58], [102, 43, 37], [69, 96, 70]], dtype='float32')\n",
        "# Targets (apples, oranges)\n",
        "targets = np.array([[56, 70], [81, 101], [119, 133], [22, 37], [103, 119], \n",
        "                    [56, 70], [81, 101], [119, 133], [22, 37], [103, 119], \n",
        "                    [56, 70], [81, 101], [119, 133], [22, 37], [103, 119]], dtype='float32')\n",
        "\n",
        "x_shape = inputs.shape"
      ],
      "execution_count": 18,
      "outputs": []
    },
    {
      "cell_type": "code",
      "metadata": {
        "colab": {
          "base_uri": "https://localhost:8080/"
        },
        "id": "3dcdA-CLFHau",
        "outputId": "a521b5fe-6cf7-43ca-b939-03f0fcd29f7c"
      },
      "source": [
        "# weights and biases\n",
        "weights = np.random.rand(2,3)\n",
        "biases = np.random.rand(15,2)\n",
        "print(\"Weights:\",weights,sep='\\n')\n",
        "print(\"Biases:\",biases,sep=\"\\n\")"
      ],
      "execution_count": 19,
      "outputs": [
        {
          "output_type": "stream",
          "name": "stdout",
          "text": [
            "Weights:\n",
            "[[0.38543475 0.73325359 0.6479768 ]\n",
            " [0.82524246 0.90869246 0.08257533]]\n",
            "Biases:\n",
            "[[0.61126529 0.8380764 ]\n",
            " [0.11649176 0.40864863]\n",
            " [0.55543375 0.88124474]\n",
            " [0.23277924 0.82481961]\n",
            " [0.43940398 0.08652995]\n",
            " [0.99576571 0.82401352]\n",
            " [0.13393466 0.58576342]\n",
            " [0.65171017 0.3979084 ]\n",
            " [0.57125888 0.63393846]\n",
            " [0.08816562 0.98205356]\n",
            " [0.62926131 0.76289623]\n",
            " [0.2172487  0.84556151]\n",
            " [0.04531127 0.20973603]\n",
            " [0.45095226 0.49300406]\n",
            " [0.82664889 0.10201034]]\n"
          ]
        }
      ]
    },
    {
      "cell_type": "code",
      "metadata": {
        "id": "9tMuOcKQFHax"
      },
      "source": [
        "# Define the model\n",
        "def model(x):\n",
        "    return x @ np.transpose(weights) + biases"
      ],
      "execution_count": 20,
      "outputs": []
    },
    {
      "cell_type": "code",
      "metadata": {
        "id": "TsKH5nr8FHax"
      },
      "source": [
        "# Generate predictions\n",
        "preds = model(inputs)"
      ],
      "execution_count": 21,
      "outputs": []
    },
    {
      "cell_type": "code",
      "metadata": {
        "colab": {
          "base_uri": "https://localhost:8080/"
        },
        "id": "HmRTdOawFHay",
        "outputId": "c80b927e-b1dd-464b-b5c2-1b3faa4372ef"
      },
      "source": [
        "# Compare with targets\n",
        "print(\"Predictions : \", preds, sep=\"\\n\")\n",
        "print(\"Targets : \",targets, sep=\"\\n\")"
      ],
      "execution_count": 22,
      "outputs": [
        {
          "output_type": "stream",
          "name": "stdout",
          "text": [
            "Predictions : \n",
            "[[105.73899541 125.51391005]\n",
            " [141.18788572 160.75547021]\n",
            " [169.92689317 199.23149761]\n",
            " [ 95.0521701  127.12861355]\n",
            " [142.78512297 150.0430091 ]\n",
            " [106.12349583 125.49984717]\n",
            " [141.20532863 160.93258499]\n",
            " [170.02316958 198.74816127]\n",
            " [ 95.39064974 126.9377324 ]\n",
            " [142.43388462 150.93853271]\n",
            " [105.75699143 125.43872989]\n",
            " [141.28864266 161.19238308]\n",
            " [169.41677069 198.5599889 ]\n",
            " [ 95.27034312 126.796798  ]\n",
            " [143.17236788 150.05848949]]\n",
            "Targets : \n",
            "[[ 56.  70.]\n",
            " [ 81. 101.]\n",
            " [119. 133.]\n",
            " [ 22.  37.]\n",
            " [103. 119.]\n",
            " [ 56.  70.]\n",
            " [ 81. 101.]\n",
            " [119. 133.]\n",
            " [ 22.  37.]\n",
            " [103. 119.]\n",
            " [ 56.  70.]\n",
            " [ 81. 101.]\n",
            " [119. 133.]\n",
            " [ 22.  37.]\n",
            " [103. 119.]]\n"
          ]
        }
      ]
    },
    {
      "cell_type": "code",
      "metadata": {
        "id": "FC7wKCAZFHaz"
      },
      "source": [
        "# MSE loss\n",
        "def mse(t1, t2):\n",
        "    diff = t1 - t2\n",
        "    return np.sum(diff * diff) / len(diff)"
      ],
      "execution_count": 23,
      "outputs": []
    },
    {
      "cell_type": "code",
      "metadata": {
        "colab": {
          "base_uri": "https://localhost:8080/"
        },
        "id": "1ZjSuhXtFHa0",
        "outputId": "07145896-881e-42b8-c541-d129fea9e45e"
      },
      "source": [
        "# Compute loss\n",
        "loss = mse(preds, targets)\n",
        "print(loss)"
      ],
      "execution_count": 24,
      "outputs": [
        {
          "output_type": "stream",
          "name": "stdout",
          "text": [
            "7145.231182716117\n"
          ]
        }
      ]
    },
    {
      "cell_type": "code",
      "metadata": {
        "colab": {
          "base_uri": "https://localhost:8080/"
        },
        "id": "UzMGgbtnFHa2",
        "outputId": "ca946898-6ae5-4d3f-d5e2-34d85829a34e"
      },
      "source": [
        "# compute gradients\n",
        "biases_grad = (preds-targets)*2/x_shape[0]\n",
        "weights_grad = (np.matmul(np.transpose((preds-targets)),inputs))*2/x_shape[0]\n",
        "\n",
        "print(\"weights_grad:\",weights_grad, sep=\"\\n\")\n",
        "print(\"biases_grad:\",biases_grad, sep=\"\\n\")"
      ],
      "execution_count": 25,
      "outputs": [
        {
          "output_type": "stream",
          "name": "stdout",
          "text": [
            "weights_grad:\n",
            "[[ 9502.52443473  8966.78699851  5776.17816732]\n",
            " [10629.453819    9877.87549378  6225.97907793]]\n",
            "biases_grad:\n",
            "[[ 6.63186605  7.40185467]\n",
            " [ 8.02505143  7.96739603]\n",
            " [ 6.79025242  8.83086635]\n",
            " [ 9.74028935 12.01714847]\n",
            " [ 5.30468306  4.13906788]\n",
            " [ 6.68313278  7.39997962]\n",
            " [ 8.02737715  7.99101133]\n",
            " [ 6.80308928  8.7664215 ]\n",
            " [ 9.78541997 11.99169765]\n",
            " [ 5.25785128  4.25847103]\n",
            " [ 6.63426552  7.39183065]\n",
            " [ 8.03848569  8.02565108]\n",
            " [ 6.72223609  8.74133185]\n",
            " [ 9.76937908 11.9729064 ]\n",
            " [ 5.35631572  4.14113193]]\n"
          ]
        }
      ]
    },
    {
      "cell_type": "markdown",
      "metadata": {
        "id": "qly5aFCVFHa3"
      },
      "source": [
        "## Adjust weights"
      ]
    },
    {
      "cell_type": "code",
      "metadata": {
        "id": "OIdJ2m6gFHa4"
      },
      "source": [
        "# Adjust weights\n",
        "weights -= weights_grad * 1e-5\n",
        "biases -= biases_grad * 1e-5"
      ],
      "execution_count": 26,
      "outputs": []
    },
    {
      "cell_type": "code",
      "metadata": {
        "colab": {
          "base_uri": "https://localhost:8080/"
        },
        "id": "GU8MsUJQFHa4",
        "outputId": "98219691-cd36-4a35-c321-5334daaca68f"
      },
      "source": [
        "print(\"Weights:\",weights,sep='\\n')\n",
        "print(\"Biases:\",biases,sep=\"\\n\")"
      ],
      "execution_count": 27,
      "outputs": [
        {
          "output_type": "stream",
          "name": "stdout",
          "text": [
            "Weights:\n",
            "[[0.29040951 0.64358572 0.59021502]\n",
            " [0.71894792 0.8099137  0.02031554]]\n",
            "Biases:\n",
            "[[0.61119897 0.83800238]\n",
            " [0.11641151 0.40856896]\n",
            " [0.55536585 0.88115643]\n",
            " [0.23268184 0.82469944]\n",
            " [0.43935093 0.08648856]\n",
            " [0.99569888 0.82393952]\n",
            " [0.13385439 0.58568351]\n",
            " [0.65164213 0.39782074]\n",
            " [0.57116103 0.63381854]\n",
            " [0.08811304 0.98201098]\n",
            " [0.62919497 0.76282232]\n",
            " [0.21716831 0.84548125]\n",
            " [0.04524405 0.20964862]\n",
            " [0.45085457 0.49288433]\n",
            " [0.82659533 0.10196893]]\n"
          ]
        }
      ]
    },
    {
      "cell_type": "code",
      "metadata": {
        "colab": {
          "base_uri": "https://localhost:8080/"
        },
        "id": "Ah64Qh9KFHa5",
        "outputId": "dbfc7938-02c6-461e-9b12-f3441aad28f7"
      },
      "source": [
        "# Calculate loss\n",
        "preds = model(inputs)\n",
        "loss = mse(preds, targets)\n",
        "print(loss)"
      ],
      "execution_count": 28,
      "outputs": [
        {
          "output_type": "stream",
          "name": "stdout",
          "text": [
            "3420.0054783309724\n"
          ]
        }
      ]
    },
    {
      "cell_type": "code",
      "metadata": {
        "id": "bCpYLKgWFHa6"
      },
      "source": [
        "# repeating same for 200 times\n",
        "for i in range(200):\n",
        "    preds = model(inputs)\n",
        "    loss = mse(preds, targets)\n",
        "    \n",
        "    biases_grad = ((((inputs@np.transpose(weights))+biases)-targets))*2/x_shape[0]\n",
        "    weights_grad = (np.matmul(np.transpose((((inputs@np.transpose(weights))+biases)-targets)),inputs))*2/x_shape[0]\n",
        "\n",
        "    weights -= weights_grad * 1e-5\n",
        "    biases -= biases_grad * 1e-5"
      ],
      "execution_count": 29,
      "outputs": []
    },
    {
      "cell_type": "code",
      "metadata": {
        "colab": {
          "base_uri": "https://localhost:8080/"
        },
        "id": "EAdEMQEsFHa6",
        "outputId": "5fcc4314-4674-40be-9451-b2b938da0dd6"
      },
      "source": [
        "# Calculate loss\n",
        "preds = model(inputs)\n",
        "loss = mse(preds, targets)\n",
        "print(loss)"
      ],
      "execution_count": 30,
      "outputs": [
        {
          "output_type": "stream",
          "name": "stdout",
          "text": [
            "54.42199091847272\n"
          ]
        }
      ]
    },
    {
      "cell_type": "code",
      "metadata": {
        "colab": {
          "base_uri": "https://localhost:8080/"
        },
        "id": "E9oU-YdaFHa7",
        "outputId": "3b3ec169-b05c-4724-ac09-8d3dad11025b"
      },
      "source": [
        "# Print predictions\n",
        "print(preds)"
      ],
      "execution_count": 31,
      "outputs": [
        {
          "output_type": "stream",
          "name": "stdout",
          "text": [
            "[[ 57.92236686  71.73134156]\n",
            " [ 81.4110373   95.97409671]\n",
            " [119.02882273 141.70176257]\n",
            " [ 23.69803817  42.91199107]\n",
            " [ 99.53140102 107.58717911]\n",
            " [ 58.30676425  71.71728245]\n",
            " [ 81.42847553  96.15116404]\n",
            " [119.12507334 141.21855575]\n",
            " [ 24.03642711  42.72116106]\n",
            " [ 99.18025679 108.48246275]\n",
            " [ 57.94035806  71.65618154]\n",
            " [ 81.51176724  96.41089251]\n",
            " [118.51883694 141.0304338 ]\n",
            " [ 23.91615273  42.58026443]\n",
            " [ 99.91854217 107.60265535]]\n"
          ]
        }
      ]
    },
    {
      "cell_type": "code",
      "metadata": {
        "colab": {
          "base_uri": "https://localhost:8080/"
        },
        "id": "yHg_7JDmFHa8",
        "outputId": "6187f293-6f2e-4780-8fa9-a6e184ad47c6"
      },
      "source": [
        "# Print targets\n",
        "print(targets)"
      ],
      "execution_count": 32,
      "outputs": [
        {
          "output_type": "stream",
          "name": "stdout",
          "text": [
            "[[ 56.  70.]\n",
            " [ 81. 101.]\n",
            " [119. 133.]\n",
            " [ 22.  37.]\n",
            " [103. 119.]\n",
            " [ 56.  70.]\n",
            " [ 81. 101.]\n",
            " [119. 133.]\n",
            " [ 22.  37.]\n",
            " [103. 119.]\n",
            " [ 56.  70.]\n",
            " [ 81. 101.]\n",
            " [119. 133.]\n",
            " [ 22.  37.]\n",
            " [103. 119.]]\n"
          ]
        }
      ]
    }
  ]
}