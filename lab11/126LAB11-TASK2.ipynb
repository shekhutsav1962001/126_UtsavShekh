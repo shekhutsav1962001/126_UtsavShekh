{
  "nbformat": 4,
  "nbformat_minor": 0,
  "metadata": {
    "colab": {
      "name": "126LAB11-TASK2.ipynb",
      "provenance": [],
      "collapsed_sections": []
    },
    "kernelspec": {
      "display_name": "Python 3",
      "language": "python",
      "name": "python3"
    },
    "language_info": {
      "codemirror_mode": {
        "name": "ipython",
        "version": 3
      },
      "file_extension": ".py",
      "mimetype": "text/x-python",
      "name": "python",
      "nbconvert_exporter": "python",
      "pygments_lexer": "ipython3",
      "version": "3.7.2"
    }
  },
  "cells": [
    {
      "cell_type": "markdown",
      "metadata": {
        "id": "AkFJMoCJlnG7"
      },
      "source": [
        "\n",
        "\n",
        "\n",
        "\n",
        "> CE126\n",
        "\n",
        "\n",
        "> **Assignment: Perform SVM with PCA operation on Breast Cancer Dataset and Iris Dataset.**\n",
        "\n",
        "\n",
        "\n",
        "\n",
        "\n",
        "\n",
        "\n"
      ]
    },
    {
      "cell_type": "code",
      "metadata": {
        "id": "cDFfbqbXWcgs"
      },
      "source": [
        "import numpy as np \n",
        "import matplotlib.pyplot as plt \n",
        "from sklearn.decomposition import PCA \n",
        "import pandas as pd \n",
        "import math \n",
        "import random \n",
        "from sklearn import datasets"
      ],
      "execution_count": 36,
      "outputs": []
    },
    {
      "cell_type": "code",
      "metadata": {
        "id": "hcouqVa2W2WP"
      },
      "source": [
        "dataset = datasets.load_breast_cancer()\n",
        "#load data"
      ],
      "execution_count": 37,
      "outputs": []
    },
    {
      "cell_type": "code",
      "metadata": {
        "colab": {
          "base_uri": "https://localhost:8080/"
        },
        "id": "aBRjxrd4dgUo",
        "outputId": "b74c9d97-ed25-43f7-d67c-e08ced5bc967"
      },
      "source": [
        "dataset.data.shape\n"
      ],
      "execution_count": 38,
      "outputs": [
        {
          "output_type": "execute_result",
          "data": {
            "text/plain": [
              "(569, 30)"
            ]
          },
          "metadata": {},
          "execution_count": 38
        }
      ]
    },
    {
      "cell_type": "code",
      "metadata": {
        "colab": {
          "base_uri": "https://localhost:8080/"
        },
        "id": "Da7p-RiXdjuR",
        "outputId": "c265f77e-ccb9-4f44-b1fb-f5e6ce48f8f8"
      },
      "source": [
        "dataset.target.shape\n"
      ],
      "execution_count": 39,
      "outputs": [
        {
          "output_type": "execute_result",
          "data": {
            "text/plain": [
              "(569,)"
            ]
          },
          "metadata": {},
          "execution_count": 39
        }
      ]
    },
    {
      "cell_type": "code",
      "metadata": {
        "colab": {
          "base_uri": "https://localhost:8080/"
        },
        "id": "7Lb42t3kdkZT",
        "outputId": "6d535870-03d0-460e-b514-7992fc5ac3c1"
      },
      "source": [
        "dataset.feature_names\n"
      ],
      "execution_count": 40,
      "outputs": [
        {
          "output_type": "execute_result",
          "data": {
            "text/plain": [
              "array(['mean radius', 'mean texture', 'mean perimeter', 'mean area',\n",
              "       'mean smoothness', 'mean compactness', 'mean concavity',\n",
              "       'mean concave points', 'mean symmetry', 'mean fractal dimension',\n",
              "       'radius error', 'texture error', 'perimeter error', 'area error',\n",
              "       'smoothness error', 'compactness error', 'concavity error',\n",
              "       'concave points error', 'symmetry error',\n",
              "       'fractal dimension error', 'worst radius', 'worst texture',\n",
              "       'worst perimeter', 'worst area', 'worst smoothness',\n",
              "       'worst compactness', 'worst concavity', 'worst concave points',\n",
              "       'worst symmetry', 'worst fractal dimension'], dtype='<U23')"
            ]
          },
          "metadata": {},
          "execution_count": 40
        }
      ]
    },
    {
      "cell_type": "code",
      "metadata": {
        "colab": {
          "base_uri": "https://localhost:8080/"
        },
        "id": "XgzNhfFfdxrS",
        "outputId": "e6ad6e00-6e27-47a1-ff91-0f37f5de8c54"
      },
      "source": [
        "dataset.target_names"
      ],
      "execution_count": 41,
      "outputs": [
        {
          "output_type": "execute_result",
          "data": {
            "text/plain": [
              "array(['malignant', 'benign'], dtype='<U9')"
            ]
          },
          "metadata": {},
          "execution_count": 41
        }
      ]
    },
    {
      "cell_type": "code",
      "metadata": {
        "id": "5_MCM_DEd56W"
      },
      "source": [
        "from sklearn.model_selection import train_test_split\n",
        "x_train, x_test, y_train, y_test = train_test_split(dataset.data, dataset.target, test_size = 0.2,random_state=126)\n"
      ],
      "execution_count": 42,
      "outputs": []
    },
    {
      "cell_type": "markdown",
      "metadata": {
        "id": "7diATCb3mX99"
      },
      "source": [
        "**SVM Without Applying Dimensinality Reduction.**\n",
        "\n"
      ]
    },
    {
      "cell_type": "code",
      "metadata": {
        "id": "dpGZWNmjeGEb"
      },
      "source": [
        "\n",
        "from sklearn import svm,metrics\n",
        "model = svm.SVC(kernel='linear')\n",
        "model.fit(x_train,y_train)\n",
        "pred = model.predict(x_test)"
      ],
      "execution_count": 43,
      "outputs": []
    },
    {
      "cell_type": "code",
      "metadata": {
        "colab": {
          "base_uri": "https://localhost:8080/"
        },
        "id": "sVbCRUvQgCwG",
        "outputId": "96c3d6ad-3081-4cf4-ac51-937be5258e42"
      },
      "source": [
        "print(\"Accuracy:\",metrics.accuracy_score(y_test, pred))\n",
        "print(\"Precision:\",metrics.precision_score(y_test, pred))\n",
        "print(\"Recall:\",metrics.recall_score(y_test,pred))"
      ],
      "execution_count": 44,
      "outputs": [
        {
          "output_type": "stream",
          "name": "stdout",
          "text": [
            "Accuracy: 0.956140350877193\n",
            "Precision: 0.9367088607594937\n",
            "Recall: 1.0\n"
          ]
        }
      ]
    },
    {
      "cell_type": "markdown",
      "metadata": {
        "id": "6W8T2tOgm5oZ"
      },
      "source": [
        "**SVM With Dimensinality Reduction.**"
      ]
    },
    {
      "cell_type": "code",
      "metadata": {
        "id": "DMX0J-m3hBne"
      },
      "source": [
        "pca = PCA(n_components=25) \n",
        "pca_fit = pca.fit(dataset.data)"
      ],
      "execution_count": 45,
      "outputs": []
    },
    {
      "cell_type": "code",
      "metadata": {
        "id": "T5rpTvXNhffU"
      },
      "source": [
        "pca_tran = pca_fit.transform(dataset.data)"
      ],
      "execution_count": 46,
      "outputs": []
    },
    {
      "cell_type": "code",
      "metadata": {
        "colab": {
          "base_uri": "https://localhost:8080/"
        },
        "id": "bKZrGqkvhkU2",
        "outputId": "b7c58977-3017-4686-c835-6d5b4b31c752"
      },
      "source": [
        "column_list=dataset.feature_names\n",
        "print(type(column_list))\n",
        "\n",
        "column_list=list(column_list)\n",
        "print(type(column_list))\n",
        "\n",
        "dataPCA = pd.DataFrame(data = pca_tran, columns = column_list[:25])"
      ],
      "execution_count": 47,
      "outputs": [
        {
          "output_type": "stream",
          "name": "stdout",
          "text": [
            "<class 'numpy.ndarray'>\n",
            "<class 'list'>\n"
          ]
        }
      ]
    },
    {
      "cell_type": "code",
      "metadata": {
        "id": "Fdd79c0-hw72"
      },
      "source": [
        "x_tr, x_ts, y_tr, y_ts = train_test_split(dataPCA, dataset.target, test_size = 0.2,random_state=126)"
      ],
      "execution_count": 48,
      "outputs": []
    },
    {
      "cell_type": "code",
      "metadata": {
        "colab": {
          "base_uri": "https://localhost:8080/"
        },
        "id": "nnNh6o1Pic4u",
        "outputId": "a53e59c4-c03e-45a4-aea6-9871f5f7cd9a"
      },
      "source": [
        "x_tr.shape"
      ],
      "execution_count": 49,
      "outputs": [
        {
          "output_type": "execute_result",
          "data": {
            "text/plain": [
              "(455, 25)"
            ]
          },
          "metadata": {},
          "execution_count": 49
        }
      ]
    },
    {
      "cell_type": "code",
      "metadata": {
        "colab": {
          "base_uri": "https://localhost:8080/"
        },
        "id": "xjtjmahtifrG",
        "outputId": "f11416bb-2ede-4314-faac-18918d9521a7"
      },
      "source": [
        "y_tr.shape\n"
      ],
      "execution_count": 50,
      "outputs": [
        {
          "output_type": "execute_result",
          "data": {
            "text/plain": [
              "(455,)"
            ]
          },
          "metadata": {},
          "execution_count": 50
        }
      ]
    },
    {
      "cell_type": "code",
      "metadata": {
        "id": "b5E3jHimil-5"
      },
      "source": [
        "model1 = svm.SVC(kernel='linear')\n",
        "model1.fit(x_tr,y_tr)\n",
        "pred1 = model1.predict(x_ts)"
      ],
      "execution_count": 51,
      "outputs": []
    },
    {
      "cell_type": "code",
      "metadata": {
        "colab": {
          "base_uri": "https://localhost:8080/"
        },
        "id": "Gw4TiLaAiuqt",
        "outputId": "dec92032-47f1-41c2-92f2-65ab4f8eeb9f"
      },
      "source": [
        "from sklearn import metrics\n",
        "print(\"Accuracy:\",metrics.accuracy_score(y_ts, pred1))\n",
        "print(\"Precision:\",metrics.precision_score(y_ts, pred1))\n",
        "print(\"Recall:\",metrics.recall_score(y_ts, pred1))"
      ],
      "execution_count": 52,
      "outputs": [
        {
          "output_type": "stream",
          "name": "stdout",
          "text": [
            "Accuracy: 0.9473684210526315\n",
            "Precision: 0.925\n",
            "Recall: 1.0\n"
          ]
        }
      ]
    },
    {
      "cell_type": "markdown",
      "metadata": {
        "id": "j1WyD2zGjBFN"
      },
      "source": [
        "For random state 126 i am getting same metrices parameter.\n",
        "\n",
        "\n",
        "---\n",
        "\n",
        "Accuracy: 0.956140350877193\n",
        "\n",
        "Precision: 0.9367088607594937\n",
        "\n",
        "Recall: 1.0\n",
        "\n",
        "---\n",
        "\n",
        "\n",
        "\n",
        "Accuracy: 0.9473684210526315\n",
        "\n",
        "Precision: 0.925\n",
        "\n",
        "Recall: 1.0\n",
        "\n",
        "---\n",
        "\n"
      ]
    }
  ]
}